{
 "cells": [
  {
   "cell_type": "code",
   "execution_count": 1,
   "id": "d903ea59",
   "metadata": {},
   "outputs": [],
   "source": [
    "# Most Important \n",
    "import numpy as np\n",
    "import pandas as pd\n",
    "import matplotlib.pyplot as plt\n",
    "%matplotlib inline\n",
    "import seaborn as sns\n",
    "from scipy import stats\n",
    "\n",
    "# other\n",
    "import missingno as msn\n",
    "import os\n",
    "import joblib\n",
    "import tarfile\n",
    "import urllib\n",
    "\n",
    "\n",
    "from sklearn import datasets\n",
    "\n",
    "# Metrics\n",
    "from sklearn.metrics import mean_squared_error, mean_squared_log_error\n",
    "from sklearn.metrics import r2_score, accuracy_score\n",
    "from sklearn.metrics import roc_auc_score, roc_curve, classification_report\n",
    "from sklearn.metrics import precision_score, recall_score\n",
    "from sklearn.metrics import precision_recall_curve, confusion_matrix\n",
    "\n",
    "# Preprocessing & Imputing\n",
    "from sklearn.preprocessing import StandardScaler, MinMaxScaler, OneHotEncoder, OrdinalEncoder\n",
    "from sklearn.pipeline import Pipeline\n",
    "from sklearn.impute import SimpleImputer\n",
    "from sklearn.compose import ColumnTransformer\n",
    "\n",
    "# Validating and Tuning\n",
    "from sklearn.model_selection import train_test_split, StratifiedShuffleSplit, cross_val_score \n",
    "from sklearn.model_selection import GridSearchCV, RandomizedSearchCV, cross_val_predict\n",
    "\n",
    "from sklearn.linear_model import SGDClassifier\n",
    "from sklearn.ensemble import RandomForestClassifier\n",
    "from sklearn.svm import SVC"
   ]
  },
  {
   "cell_type": "code",
   "execution_count": 2,
   "id": "68b2c595",
   "metadata": {
    "scrolled": true
   },
   "outputs": [],
   "source": [
    "from sklearn.datasets import fetch_openml\n",
    "mnist = fetch_openml('mnist_784', version=1)"
   ]
  },
  {
   "cell_type": "markdown",
   "id": "89a83b34",
   "metadata": {},
   "source": [
    "## Download the Data & Look at the big Picture (MNIST data)"
   ]
  },
  {
   "cell_type": "code",
   "execution_count": 3,
   "id": "5b2aac9f",
   "metadata": {},
   "outputs": [
    {
     "data": {
      "text/plain": [
       "dict_keys(['data', 'target', 'frame', 'categories', 'feature_names', 'target_names', 'DESCR', 'details', 'url'])"
      ]
     },
     "execution_count": 3,
     "metadata": {},
     "output_type": "execute_result"
    }
   ],
   "source": [
    "mnist.keys()"
   ]
  },
  {
   "cell_type": "code",
   "execution_count": 4,
   "id": "3a3e4d57",
   "metadata": {},
   "outputs": [
    {
     "data": {
      "text/html": [
       "<div>\n",
       "<style scoped>\n",
       "    .dataframe tbody tr th:only-of-type {\n",
       "        vertical-align: middle;\n",
       "    }\n",
       "\n",
       "    .dataframe tbody tr th {\n",
       "        vertical-align: top;\n",
       "    }\n",
       "\n",
       "    .dataframe thead th {\n",
       "        text-align: right;\n",
       "    }\n",
       "</style>\n",
       "<table border=\"1\" class=\"dataframe\">\n",
       "  <thead>\n",
       "    <tr style=\"text-align: right;\">\n",
       "      <th></th>\n",
       "      <th>pixel1</th>\n",
       "      <th>pixel2</th>\n",
       "      <th>pixel3</th>\n",
       "      <th>pixel4</th>\n",
       "      <th>pixel5</th>\n",
       "      <th>pixel6</th>\n",
       "      <th>pixel7</th>\n",
       "      <th>pixel8</th>\n",
       "      <th>pixel9</th>\n",
       "      <th>pixel10</th>\n",
       "      <th>...</th>\n",
       "      <th>pixel776</th>\n",
       "      <th>pixel777</th>\n",
       "      <th>pixel778</th>\n",
       "      <th>pixel779</th>\n",
       "      <th>pixel780</th>\n",
       "      <th>pixel781</th>\n",
       "      <th>pixel782</th>\n",
       "      <th>pixel783</th>\n",
       "      <th>pixel784</th>\n",
       "      <th>target</th>\n",
       "    </tr>\n",
       "  </thead>\n",
       "  <tbody>\n",
       "    <tr>\n",
       "      <th>0</th>\n",
       "      <td>0.0</td>\n",
       "      <td>0.0</td>\n",
       "      <td>0.0</td>\n",
       "      <td>0.0</td>\n",
       "      <td>0.0</td>\n",
       "      <td>0.0</td>\n",
       "      <td>0.0</td>\n",
       "      <td>0.0</td>\n",
       "      <td>0.0</td>\n",
       "      <td>0.0</td>\n",
       "      <td>...</td>\n",
       "      <td>0.0</td>\n",
       "      <td>0.0</td>\n",
       "      <td>0.0</td>\n",
       "      <td>0.0</td>\n",
       "      <td>0.0</td>\n",
       "      <td>0.0</td>\n",
       "      <td>0.0</td>\n",
       "      <td>0.0</td>\n",
       "      <td>0.0</td>\n",
       "      <td>5</td>\n",
       "    </tr>\n",
       "    <tr>\n",
       "      <th>1</th>\n",
       "      <td>0.0</td>\n",
       "      <td>0.0</td>\n",
       "      <td>0.0</td>\n",
       "      <td>0.0</td>\n",
       "      <td>0.0</td>\n",
       "      <td>0.0</td>\n",
       "      <td>0.0</td>\n",
       "      <td>0.0</td>\n",
       "      <td>0.0</td>\n",
       "      <td>0.0</td>\n",
       "      <td>...</td>\n",
       "      <td>0.0</td>\n",
       "      <td>0.0</td>\n",
       "      <td>0.0</td>\n",
       "      <td>0.0</td>\n",
       "      <td>0.0</td>\n",
       "      <td>0.0</td>\n",
       "      <td>0.0</td>\n",
       "      <td>0.0</td>\n",
       "      <td>0.0</td>\n",
       "      <td>0</td>\n",
       "    </tr>\n",
       "    <tr>\n",
       "      <th>2</th>\n",
       "      <td>0.0</td>\n",
       "      <td>0.0</td>\n",
       "      <td>0.0</td>\n",
       "      <td>0.0</td>\n",
       "      <td>0.0</td>\n",
       "      <td>0.0</td>\n",
       "      <td>0.0</td>\n",
       "      <td>0.0</td>\n",
       "      <td>0.0</td>\n",
       "      <td>0.0</td>\n",
       "      <td>...</td>\n",
       "      <td>0.0</td>\n",
       "      <td>0.0</td>\n",
       "      <td>0.0</td>\n",
       "      <td>0.0</td>\n",
       "      <td>0.0</td>\n",
       "      <td>0.0</td>\n",
       "      <td>0.0</td>\n",
       "      <td>0.0</td>\n",
       "      <td>0.0</td>\n",
       "      <td>4</td>\n",
       "    </tr>\n",
       "    <tr>\n",
       "      <th>3</th>\n",
       "      <td>0.0</td>\n",
       "      <td>0.0</td>\n",
       "      <td>0.0</td>\n",
       "      <td>0.0</td>\n",
       "      <td>0.0</td>\n",
       "      <td>0.0</td>\n",
       "      <td>0.0</td>\n",
       "      <td>0.0</td>\n",
       "      <td>0.0</td>\n",
       "      <td>0.0</td>\n",
       "      <td>...</td>\n",
       "      <td>0.0</td>\n",
       "      <td>0.0</td>\n",
       "      <td>0.0</td>\n",
       "      <td>0.0</td>\n",
       "      <td>0.0</td>\n",
       "      <td>0.0</td>\n",
       "      <td>0.0</td>\n",
       "      <td>0.0</td>\n",
       "      <td>0.0</td>\n",
       "      <td>1</td>\n",
       "    </tr>\n",
       "    <tr>\n",
       "      <th>4</th>\n",
       "      <td>0.0</td>\n",
       "      <td>0.0</td>\n",
       "      <td>0.0</td>\n",
       "      <td>0.0</td>\n",
       "      <td>0.0</td>\n",
       "      <td>0.0</td>\n",
       "      <td>0.0</td>\n",
       "      <td>0.0</td>\n",
       "      <td>0.0</td>\n",
       "      <td>0.0</td>\n",
       "      <td>...</td>\n",
       "      <td>0.0</td>\n",
       "      <td>0.0</td>\n",
       "      <td>0.0</td>\n",
       "      <td>0.0</td>\n",
       "      <td>0.0</td>\n",
       "      <td>0.0</td>\n",
       "      <td>0.0</td>\n",
       "      <td>0.0</td>\n",
       "      <td>0.0</td>\n",
       "      <td>9</td>\n",
       "    </tr>\n",
       "  </tbody>\n",
       "</table>\n",
       "<p>5 rows × 785 columns</p>\n",
       "</div>"
      ],
      "text/plain": [
       "  pixel1 pixel2 pixel3 pixel4 pixel5 pixel6 pixel7 pixel8 pixel9 pixel10  ...  \\\n",
       "0    0.0    0.0    0.0    0.0    0.0    0.0    0.0    0.0    0.0     0.0  ...   \n",
       "1    0.0    0.0    0.0    0.0    0.0    0.0    0.0    0.0    0.0     0.0  ...   \n",
       "2    0.0    0.0    0.0    0.0    0.0    0.0    0.0    0.0    0.0     0.0  ...   \n",
       "3    0.0    0.0    0.0    0.0    0.0    0.0    0.0    0.0    0.0     0.0  ...   \n",
       "4    0.0    0.0    0.0    0.0    0.0    0.0    0.0    0.0    0.0     0.0  ...   \n",
       "\n",
       "  pixel776 pixel777 pixel778 pixel779 pixel780 pixel781 pixel782 pixel783  \\\n",
       "0      0.0      0.0      0.0      0.0      0.0      0.0      0.0      0.0   \n",
       "1      0.0      0.0      0.0      0.0      0.0      0.0      0.0      0.0   \n",
       "2      0.0      0.0      0.0      0.0      0.0      0.0      0.0      0.0   \n",
       "3      0.0      0.0      0.0      0.0      0.0      0.0      0.0      0.0   \n",
       "4      0.0      0.0      0.0      0.0      0.0      0.0      0.0      0.0   \n",
       "\n",
       "  pixel784 target  \n",
       "0      0.0      5  \n",
       "1      0.0      0  \n",
       "2      0.0      4  \n",
       "3      0.0      1  \n",
       "4      0.0      9  \n",
       "\n",
       "[5 rows x 785 columns]"
      ]
     },
     "execution_count": 4,
     "metadata": {},
     "output_type": "execute_result"
    }
   ],
   "source": [
    "mnist_df = pd.DataFrame(np.c_[mnist['data'], mnist['target']], columns=mnist.feature_names+['target'])\n",
    "mnist_df.head()"
   ]
  },
  {
   "cell_type": "code",
   "execution_count": 5,
   "id": "2bc3e797",
   "metadata": {},
   "outputs": [
    {
     "data": {
      "text/plain": [
       "(70000, 785)"
      ]
     },
     "execution_count": 5,
     "metadata": {},
     "output_type": "execute_result"
    }
   ],
   "source": [
    "mnist_df.shape"
   ]
  },
  {
   "cell_type": "code",
   "execution_count": 6,
   "id": "15229a68",
   "metadata": {},
   "outputs": [],
   "source": [
    "mnist_df = mnist_df.astype(np.int)"
   ]
  },
  {
   "cell_type": "code",
   "execution_count": 7,
   "id": "51760030",
   "metadata": {},
   "outputs": [
    {
     "data": {
      "text/plain": [
       "((70000, 784), (70000,))"
      ]
     },
     "execution_count": 7,
     "metadata": {},
     "output_type": "execute_result"
    }
   ],
   "source": [
    "X = mnist_df.iloc[:,:-1]\n",
    "y = mnist_df.iloc[:,-1]\n",
    "\n",
    "X.shape, y.shape"
   ]
  },
  {
   "cell_type": "code",
   "execution_count": 8,
   "id": "d97b6ed3",
   "metadata": {},
   "outputs": [
    {
     "data": {
      "image/png": "[encoded data removed]",
      "text/plain": [
       "<Figure size 864x504 with 3 Axes>"
      ]
     },
     "metadata": {
      "needs_background": "light"
     },
     "output_type": "display_data"
    }
   ],
   "source": [
    "## Show some results\n",
    "\n",
    "x_row1 = np.asarray(X.iloc[0]).reshape(28,28)\n",
    "x_row20 = np.asarray(X.iloc[19]).reshape(28,28)\n",
    "x_row30 = np.asarray(X.iloc[29]).reshape(28,28)\n",
    "\n",
    "fig, ax = plt.subplots(1, 3, figsize=(12,7))\n",
    "ax[0].imshow(x_row1, cmap='binary')\n",
    "ax[1].imshow(x_row20, cmap='binary')\n",
    "ax[2].imshow(x_row30, cmap='binary')\n",
    "ax[0].axis('off')\n",
    "ax[1].axis('off')\n",
    "ax[2].axis('off')\n",
    "plt.show()"
   ]
  },
  {
   "cell_type": "markdown",
   "id": "573bb2dd",
   "metadata": {},
   "source": [
    "## Split the Data"
   ]
  },
  {
   "cell_type": "code",
   "execution_count": 9,
   "id": "c1f91039",
   "metadata": {},
   "outputs": [],
   "source": [
    "X_train, X_test, y_train, y_test = X.iloc[:60000], X.iloc[60000:], y.iloc[:60000], y.iloc[60000:]  "
   ]
  },
  {
   "cell_type": "code",
   "execution_count": 10,
   "id": "fc709fbe",
   "metadata": {},
   "outputs": [
    {
     "data": {
      "text/plain": [
       "((60000, 784), (10000, 784), (60000,), (10000,))"
      ]
     },
     "execution_count": 10,
     "metadata": {},
     "output_type": "execute_result"
    }
   ],
   "source": [
    "X_train.shape, X_test.shape, y_train.shape, y_test.shape"
   ]
  },
  {
   "cell_type": "markdown",
   "id": "213dd49c",
   "metadata": {},
   "source": [
    "## Ok, Let's try Binary Classification (for 5s)\n",
    "\n",
    "## using SGDClassifier"
   ]
  },
  {
   "cell_type": "code",
   "execution_count": 11,
   "id": "c6d0b7aa",
   "metadata": {},
   "outputs": [],
   "source": [
    "y_trian_5 = (y_train==5)\n",
    "y_test_5 = (y_test==5)"
   ]
  },
  {
   "cell_type": "code",
   "execution_count": 12,
   "id": "3216f959",
   "metadata": {},
   "outputs": [],
   "source": [
    "sgd_binary = SGDClassifier(random_state=42)"
   ]
  },
  {
   "cell_type": "code",
   "execution_count": 13,
   "id": "92057268",
   "metadata": {},
   "outputs": [],
   "source": [
    "## Using cross validation to check accuracy insted of making x_val\n",
    "\n",
    "sgd_binary_scores = cross_val_score(sgd_binary, X_train, y_trian_5, \n",
    "                                    cv=10, scoring='accuracy', n_jobs=-1)"
   ]
  },
  {
   "cell_type": "code",
   "execution_count": 14,
   "id": "c6b0014a",
   "metadata": {},
   "outputs": [
    {
     "name": "stdout",
     "output_type": "stream",
     "text": [
      "sgd_binary_scores (first intuation of Model) => \n",
      " [0.96416667 0.95866667 0.96416667 0.95833333 0.96733333 0.96933333\n",
      " 0.96433333 0.96583333 0.9575     0.96566667]\n",
      "========================================\n",
      "their Mean => 0.9635333333333334\n",
      "========================================\n",
      "their Mean => 0.0038273866918419556\n"
     ]
    }
   ],
   "source": [
    "# but is not much accuarate , as we test for 5s and most contains only 10% of 5s \n",
    "# so there is much more metrics to get the performance of model\n",
    "\n",
    "print('sgd_binary_scores (first intuation of Model) => \\n', sgd_binary_scores)\n",
    "print('=='*20)\n",
    "print('their Mean =>', sgd_binary_scores.mean())\n",
    "print('=='*20)\n",
    "print('their Mean =>', sgd_binary_scores.std())"
   ]
  },
  {
   "cell_type": "code",
   "execution_count": 15,
   "id": "6db60e20",
   "metadata": {},
   "outputs": [],
   "source": [
    "# using cross_val_predict to predict values with => method='predict' (default)\n",
    "## study confusion matrix\n",
    "\n",
    "y_trian_predict_5 = cross_val_predict(sgd_binary, X_train, y_trian_5, cv=5, \n",
    "                                      method='predict', n_jobs=-1)"
   ]
  },
  {
   "cell_type": "code",
   "execution_count": 16,
   "id": "35907915",
   "metadata": {},
   "outputs": [
    {
     "name": "stdout",
     "output_type": "stream",
     "text": [
      "conf_matrix =>\n",
      " [[53115  1464]\n",
      " [  916  4505]]\n",
      "==========================================================================================\n"
     ]
    },
    {
     "data": {
      "image/png": "[encoded data removed]",
      "text/plain": [
       "<Figure size 432x288 with 1 Axes>"
      ]
     },
     "metadata": {
      "needs_background": "light"
     },
     "output_type": "display_data"
    }
   ],
   "source": [
    "conf_matrix = confusion_matrix(y_trian_5, y_trian_predict_5)\n",
    "\n",
    "print('conf_matrix =>\\n', conf_matrix)\n",
    "\n",
    "print('==='*30)\n",
    "\n",
    "\n",
    "def confusion_martrix(confu_martrix):\n",
    "    sns.heatmap(confu_martrix, fmt='g', annot=True, cbar=False, vmin=0, cmap='Blues')\n",
    "    plt.xticks(ticks=np.arange(2) + 0.5, labels=['False', 'True'])\n",
    "    plt.yticks(ticks=np.arange(2) + 0.5, labels=['False', 'True'])\n",
    "    plt.xlabel('Predicted')\n",
    "    plt.ylabel('Actual')\n",
    "    plt.title('Confusion Matrix')\n",
    "    plt.show()\n",
    "\n",
    "confusion_martrix(conf_matrix)"
   ]
  },
  {
   "cell_type": "code",
   "execution_count": 17,
   "id": "191aa020",
   "metadata": {},
   "outputs": [
    {
     "name": "stdout",
     "output_type": "stream",
     "text": [
      "precison_accuracy => 0.7547327860613168\n",
      "============================================================\n",
      "recall_accuracy => 0.8310274857037447\n",
      "============================================================\n",
      "classifcation report => \n",
      "               precision    recall  f1-score   support\n",
      "\n",
      "       False       0.98      0.97      0.98     54579\n",
      "        True       0.75      0.83      0.79      5421\n",
      "\n",
      "    accuracy                           0.96     60000\n",
      "   macro avg       0.87      0.90      0.88     60000\n",
      "weighted avg       0.96      0.96      0.96     60000\n",
      "\n"
     ]
    }
   ],
   "source": [
    "precison_acc = precision_score(y_trian_5, y_trian_predict_5)\n",
    "print('precison_accuracy =>', precison_acc)\n",
    "\n",
    "print('==='*20)\n",
    "\n",
    "recall_acc = recall_score(y_trian_5, y_trian_predict_5)\n",
    "print('recall_accuracy =>', recall_acc)\n",
    "\n",
    "print('==='*20)\n",
    "\n",
    "class_repo = classification_report(y_trian_5, y_trian_predict_5)\n",
    "print('classifcation report => \\n', class_repo)\n"
   ]
  },
  {
   "cell_type": "markdown",
   "id": "d7a8b854",
   "metadata": {},
   "source": [
    "## Trade off between (Precsion & Recall)\n",
    "\n",
    "**threshold\n",
    "to get threshold of instance you can use(descison_function) for estimator\n",
    "or you can use (cross_val_predict) with => method='decsion function'\n",
    "it will return thresholds (descison scores)**\n"
   ]
  },
  {
   "cell_type": "markdown",
   "id": "06a23f1b",
   "metadata": {},
   "source": [
    "#### Precison , Recall, threshold curves"
   ]
  },
  {
   "cell_type": "code",
   "execution_count": 18,
   "id": "8618d314",
   "metadata": {},
   "outputs": [],
   "source": [
    "## threshold\n",
    "## to get threshold of instance you can use(descison_function) for estimator\n",
    "## or you can use (cross_val_predict) with => method='decsion function'\n",
    "## it will return thresholds (descison scores)\n",
    "\n",
    "\n",
    "y_scores = cross_val_predict(sgd_binary, X_train, y_trian_5,\n",
    "                                      cv=5, method='decision_function')"
   ]
  },
  {
   "cell_type": "code",
   "execution_count": 19,
   "id": "1e788ec8",
   "metadata": {},
   "outputs": [],
   "source": [
    "# increasing threshold will decrease Recall & increase Precsion and vice versa\n",
    "\n",
    "precisions_vals, recalls_vals, thresholds_vals = precision_recall_curve(y_trian_5, y_scores)"
   ]
  },
  {
   "cell_type": "code",
   "execution_count": 20,
   "id": "06e73a5b",
   "metadata": {},
   "outputs": [
    {
     "data": {
      "image/png": "[encoded data removed]",
      "text/plain": [
       "<Figure size 576x432 with 1 Axes>"
      ]
     },
     "metadata": {
      "needs_background": "light"
     },
     "output_type": "display_data"
    }
   ],
   "source": [
    "### precision_recall_curve vs. all possible thresholds\n",
    "\n",
    "def plt_precision_recall_threshold_curve(precisions_vals, recalls_vals, thresholds_vals):\n",
    "    plt.figure(figsize=(8,6))\n",
    "    plt.plot(thresholds_vals, precisions_vals[:-1], 'b--', label='precision')\n",
    "    plt.plot(thresholds_vals, recalls_vals[:-1], 'g-', label='recall')\n",
    "    plt.xlabel('thresholds')\n",
    "    plt.title('Precision and Recall trade-off')\n",
    "    plt.grid()\n",
    "    plt.legend()\n",
    "    plt.show()\n",
    "    \n",
    "plt_precision_recall_threshold_curve(precisions_vals, recalls_vals, thresholds_vals)"
   ]
  },
  {
   "cell_type": "markdown",
   "id": "387623ee",
   "metadata": {},
   "source": [
    "#### Precison , Recall curve"
   ]
  },
  {
   "cell_type": "code",
   "execution_count": 21,
   "id": "1a3f0420",
   "metadata": {},
   "outputs": [
    {
     "data": {
      "image/png": "[encoded data removed]",
      "text/plain": [
       "<Figure size 432x288 with 1 Axes>"
      ]
     },
     "metadata": {
      "needs_background": "light"
     },
     "output_type": "display_data"
    }
   ],
   "source": [
    "def plt_precision_recall_curve(precisions_vals, recalls_vals):\n",
    "    plt.plot(precisions_vals, recalls_vals, 'b-')\n",
    "    plt.xlabel('precision')\n",
    "    plt.ylabel('recall')\n",
    "    plt.title('precision vs. recall')\n",
    "    plt.show()\n",
    "    \n",
    "plt_precision_recall_curve(precisions_vals, recalls_vals)"
   ]
  },
  {
   "cell_type": "code",
   "execution_count": null,
   "id": "48c98fe7",
   "metadata": {},
   "outputs": [],
   "source": []
  },
  {
   "cell_type": "markdown",
   "id": "21a70ede",
   "metadata": {},
   "source": [
    "#### control required precsion or recall acc. to threshold"
   ]
  },
  {
   "cell_type": "code",
   "execution_count": 22,
   "id": "357813e2",
   "metadata": {},
   "outputs": [
    {
     "name": "stdout",
     "output_type": "stream",
     "text": [
      "req_threshold for precision >= 0.90 ==> 3045.9258227053647\n",
      "================================================================================\n",
      "precison accuracy when threshold achieve precison >= 0.90 ==> 0.9002016129032258\n",
      "================================================================================\n",
      "recall accuracy when threshold achieve precison >= 0.90 ==> 0.6589190186312488\n"
     ]
    }
   ],
   "source": [
    "### what about thaking precsion above 90%\n",
    "\n",
    "req_threshold = thresholds_vals[np.argmax(precisions_vals>=0.90)]\n",
    "print('req_threshold for precision >= 0.90 ==>', req_threshold)\n",
    "\n",
    "print('=='*40)\n",
    "\n",
    "y_scores_90_precision = (y_scores >= req_threshold)\n",
    "\n",
    "prec_acc_90 = precision_score(y_trian_5, y_scores_90_precision)\n",
    "print('precison accuracy when threshold achieve precison >= 0.90 ==>', prec_acc_90)\n",
    "\n",
    "print('=='*40)\n",
    "\n",
    "recall_acc_90 = recall_score(y_trian_5, y_scores_90_precision)\n",
    "print('recall accuracy when threshold achieve precison >= 0.90 ==>', recall_acc_90)\n"
   ]
  },
  {
   "cell_type": "code",
   "execution_count": null,
   "id": "c6b2503e",
   "metadata": {},
   "outputs": [],
   "source": []
  },
  {
   "cell_type": "markdown",
   "id": "8a253142",
   "metadata": {},
   "source": [
    "## ROC curve & AUC_ROC"
   ]
  },
  {
   "cell_type": "code",
   "execution_count": 23,
   "id": "0897a0eb",
   "metadata": {},
   "outputs": [],
   "source": [
    "# fpr is (false positive rate => (1-specficity))\n",
    "# tpr is (true positve rate => (recall))\n",
    "\n",
    "# roc_curve => reciever operationg charachterisitc\n",
    "fpr, tpr, thresholds_roc = roc_curve(y_trian_5, y_scores)"
   ]
  },
  {
   "cell_type": "code",
   "execution_count": 24,
   "id": "d5b0bf79",
   "metadata": {},
   "outputs": [
    {
     "data": {
      "image/png": "[encoded data removed]",
      "text/plain": [
       "<Figure size 432x288 with 1 Axes>"
      ]
     },
     "metadata": {
      "needs_background": "light"
     },
     "output_type": "display_data"
    }
   ],
   "source": [
    "def plt_roc_curve(fpr, tpr, label=None):\n",
    "    plt.plot(fpr, tpr, 'b-', label=label)\n",
    "    plt.xlabel('False positive Rate (FPR) => (1-specificity)')\n",
    "    plt.ylabel('True positive Rate (TPR) => (Recall)')\n",
    "    plt.title('(ROC Curve) => TPR vs. FPR')\n",
    "    x = [0,1]\n",
    "    y = [0,1]\n",
    "    plt.plot(0,0, 'g.', 1, 1, 'g.')\n",
    "    plt.plot(x, y, 'k--')\n",
    "    plt.legend()\n",
    "    plt.show()\n",
    "\n",
    "plt_roc_curve(fpr, tpr, label='SGD')"
   ]
  },
  {
   "cell_type": "code",
   "execution_count": 25,
   "id": "c41bdb11",
   "metadata": {},
   "outputs": [
    {
     "name": "stdout",
     "output_type": "stream",
     "text": [
      "Area under curve of ROC => 0.9648211175804801\n"
     ]
    }
   ],
   "source": [
    "auc_score = roc_auc_score(y_trian_5, y_scores)\n",
    "\n",
    "print('Area under curve of ROC =>', auc_score)"
   ]
  },
  {
   "cell_type": "markdown",
   "id": "e6e80dfb",
   "metadata": {},
   "source": [
    "## using RandomForestClssifier\n",
    "\n",
    "**get the scores by using cross_val_predict \n",
    "but random forest using cross_val_predict not have (decision function), \n",
    "it has(predict_prob)\n",
    " see what i will doing**\n",
    " \n",
    "#### (decision_function) will raise error >>>> take care"
   ]
  },
  {
   "cell_type": "code",
   "execution_count": 26,
   "id": "f48f680a",
   "metadata": {},
   "outputs": [],
   "source": [
    "forest_clf = RandomForestClassifier(random_state=42)"
   ]
  },
  {
   "cell_type": "code",
   "execution_count": 27,
   "id": "b0bea184",
   "metadata": {},
   "outputs": [],
   "source": [
    "# get the scores by using cross_val_predict \n",
    "# but random forest using cross_val_predict not have (decision function) , it has(predict_prob)\n",
    "# see what i will doing\n",
    "\n",
    "#### (decision_function) will raise error >>>> take care"
   ]
  },
  {
   "cell_type": "code",
   "execution_count": 28,
   "id": "e2b3bb47",
   "metadata": {},
   "outputs": [
    {
     "data": {
      "text/plain": [
       "array([[0.14, 0.86],\n",
       "       [0.99, 0.01],\n",
       "       [0.98, 0.02],\n",
       "       ...,\n",
       "       [0.01, 0.99],\n",
       "       [0.96, 0.04],\n",
       "       [0.96, 0.04]])"
      ]
     },
     "execution_count": 28,
     "metadata": {},
     "output_type": "execute_result"
    }
   ],
   "source": [
    "y_scores_forest = cross_val_predict(forest_clf, X_train, y_trian_5, cv=5, \n",
    "                                    method='predict_proba', n_jobs=-1)\n",
    "\n",
    "## y_scors_forest returns probablity fot both classes [0,1]\n",
    "\n",
    "\n",
    "# that predict (default)\n",
    "y_predict_forest = cross_val_predict(forest_clf, X_train, y_trian_5, cv=5, \n",
    "                                      method='predict', n_jobs=-1)\n",
    "\n",
    "y_scores_forest"
   ]
  },
  {
   "cell_type": "code",
   "execution_count": 29,
   "id": "65f69c6b",
   "metadata": {},
   "outputs": [],
   "source": [
    "y_scors_forest_positive = y_scores_forest[:,1]   # for positve class"
   ]
  },
  {
   "cell_type": "markdown",
   "id": "e166dfad",
   "metadata": {},
   "source": [
    "### confusion Matrix & acuuracies"
   ]
  },
  {
   "cell_type": "code",
   "execution_count": 30,
   "id": "77db9787",
   "metadata": {},
   "outputs": [
    {
     "name": "stdout",
     "output_type": "stream",
     "text": [
      "[[54536    43]\n",
      " [  686  4735]]\n"
     ]
    },
    {
     "data": {
      "image/png": "[encoded data removed]",
      "text/plain": [
       "<Figure size 432x288 with 1 Axes>"
      ]
     },
     "metadata": {
      "needs_background": "light"
     },
     "output_type": "display_data"
    }
   ],
   "source": [
    "conf_matrix_forest = confusion_matrix(y_trian_5, y_predict_forest)\n",
    "\n",
    "print(conf_matrix_forest)\n",
    "# call the above function\n",
    "confusion_martrix(conf_matrix_forest)"
   ]
  },
  {
   "cell_type": "code",
   "execution_count": 31,
   "id": "457bbce5",
   "metadata": {},
   "outputs": [
    {
     "name": "stdout",
     "output_type": "stream",
     "text": [
      "precison_acc_forest => 0.9910004185851821\n",
      "============================================================\n",
      "recall_acc_forest => 0.8734550820881756\n",
      "============================================================\n",
      "classifcation report forest => \n",
      "               precision    recall  f1-score   support\n",
      "\n",
      "       False       0.99      1.00      0.99     54579\n",
      "        True       0.99      0.87      0.93      5421\n",
      "\n",
      "    accuracy                           0.99     60000\n",
      "   macro avg       0.99      0.94      0.96     60000\n",
      "weighted avg       0.99      0.99      0.99     60000\n",
      "\n"
     ]
    }
   ],
   "source": [
    "precison_acc_forest = precision_score(y_trian_5, y_predict_forest)\n",
    "print('precison_acc_forest =>', precison_acc_forest)\n",
    "\n",
    "print('==='*20)\n",
    "\n",
    "recall_acc_forest = recall_score(y_trian_5, y_predict_forest)\n",
    "print('recall_acc_forest =>', recall_acc_forest)\n",
    "\n",
    "print('==='*20)\n",
    "\n",
    "class_repo_forest = classification_report(y_trian_5, y_predict_forest)\n",
    "print('classifcation report forest => \\n', class_repo_forest)\n"
   ]
  },
  {
   "cell_type": "markdown",
   "id": "bbbd1c78",
   "metadata": {},
   "source": [
    "### roc & auc"
   ]
  },
  {
   "cell_type": "code",
   "execution_count": 32,
   "id": "68f5afde",
   "metadata": {},
   "outputs": [],
   "source": [
    "fpr_forest, tpr_forest, threshold_forest = roc_curve(y_trian_5, y_scors_forest_positive)"
   ]
  },
  {
   "cell_type": "code",
   "execution_count": 33,
   "id": "d2b269ea",
   "metadata": {},
   "outputs": [
    {
     "name": "stdout",
     "output_type": "stream",
     "text": [
      "Area under curve for random forest => 0.998402186461512\n"
     ]
    }
   ],
   "source": [
    "auc_forest = roc_auc_score(y_trian_5, y_scors_forest_positive)\n",
    "\n",
    "print('Area under curve for random forest =>', auc_forest)  # better than SGDClassifier"
   ]
  },
  {
   "cell_type": "code",
   "execution_count": 34,
   "id": "869d7045",
   "metadata": {},
   "outputs": [
    {
     "data": {
      "image/png": "[encoded data removed]",
      "text/plain": [
       "<Figure size 432x288 with 1 Axes>"
      ]
     },
     "metadata": {
      "needs_background": "light"
     },
     "output_type": "display_data"
    }
   ],
   "source": [
    "plt.plot(fpr_forest, tpr_forest, 'r--', label='R.Forest')\n",
    "plt_roc_curve(fpr, tpr, label='SGD')\n",
    "plt.show()"
   ]
  },
  {
   "cell_type": "code",
   "execution_count": null,
   "id": "27342c47",
   "metadata": {},
   "outputs": [],
   "source": []
  },
  {
   "cell_type": "markdown",
   "id": "152282ca",
   "metadata": {},
   "source": [
    "## MultiClass Classification\n",
    "\n",
    "**you already know about OVR & OVO**\n",
    "\n",
    "scikit-learn use ovo by default"
   ]
  },
  {
   "cell_type": "markdown",
   "id": "88c41a62",
   "metadata": {},
   "source": [
    "### Using SVC\n",
    "\n",
    "classifier used ovr , and it got score for each class, select the highet one"
   ]
  },
  {
   "cell_type": "code",
   "execution_count": 35,
   "id": "41596570",
   "metadata": {},
   "outputs": [],
   "source": [
    "# svc_clf = SVC(probability=True) # probability=True to be able to get predict_proba\n",
    "svc_clf = SVC()"
   ]
  },
  {
   "cell_type": "code",
   "execution_count": 36,
   "id": "b7c22e39",
   "metadata": {},
   "outputs": [
    {
     "data": {
      "text/plain": [
       "SVC()"
      ]
     },
     "execution_count": 36,
     "metadata": {},
     "output_type": "execute_result"
    }
   ],
   "source": [
    "svc_clf.fit(X_train, y_train)  # multiclass (note y_train all)"
   ]
  },
  {
   "cell_type": "code",
   "execution_count": 37,
   "id": "044f30b9",
   "metadata": {},
   "outputs": [
    {
     "name": "stdout",
     "output_type": "stream",
     "text": [
      "y_predict_first_row => [5]\n"
     ]
    }
   ],
   "source": [
    "y_predict_first_row = svc_clf.predict(X_train[0:1])  # here it predicts 5 as excpects\n",
    "\n",
    "print('y_predict_first_row =>', y_predict_first_row)"
   ]
  },
  {
   "cell_type": "code",
   "execution_count": 38,
   "id": "27326831",
   "metadata": {},
   "outputs": [],
   "source": [
    "## classifier used ovo , and it got score for each class, select the highet one\n",
    "\n",
    "## you can get these scores using (decision function) or \n",
    "# when you use (cross_val_predict) choose method(decsion function or predict_prob) acc to Algoritm"
   ]
  },
  {
   "cell_type": "code",
   "execution_count": 39,
   "id": "b1a566b3",
   "metadata": {},
   "outputs": [
    {
     "name": "stdout",
     "output_type": "stream",
     "text": [
      "y_score_first_row =>\n",
      " [ 1.72501977  2.72809088  7.2510018   8.3076379  -0.31087254  9.3132482\n",
      "  1.70975103  2.76765202  6.23049537  4.84771048]\n",
      "========================================\n",
      "get Max score at idx \"5\" is equal to => 9.313248199189204\n"
     ]
    }
   ],
   "source": [
    "y_scores_first_row = svc_clf.decision_function(X_train[0:1])\n",
    "\n",
    "y_scores_first_row = np.squeeze(y_scores_first_row)\n",
    "\n",
    "print('y_score_first_row =>\\n', y_scores_first_row)\n",
    "print('=='*20)\n",
    "print(f'get Max score at idx \"{np.argmax(y_scores_first_row)}\" is equal to =>', \n",
    "                          y_scores_first_row[np.argmax(y_scores_first_row)]) # which is class 5 "
   ]
  },
  {
   "cell_type": "markdown",
   "id": "7d4910cd",
   "metadata": {},
   "source": [
    "#### using cross_val"
   ]
  },
  {
   "cell_type": "code",
   "execution_count": 40,
   "id": "08fb7f61",
   "metadata": {},
   "outputs": [],
   "source": [
    "y_val_scores_svc = cross_val_score(svc_clf, X_train, y_train, \n",
    "                                   cv=5, scoring='accuracy', n_jobs=-1)"
   ]
  },
  {
   "cell_type": "code",
   "execution_count": 41,
   "id": "72aa20af",
   "metadata": {},
   "outputs": [
    {
     "name": "stdout",
     "output_type": "stream",
     "text": [
      "scores calcualtes for  SVC (multiClssification) =>\n",
      " [0.97941667 0.97633333 0.97616667 0.97416667 0.97858333]\n",
      "Their Mean => 0.9769333333333334\n",
      "their std => 0.0018703832049431588\n"
     ]
    }
   ],
   "source": [
    "print('scores calcualtes for  SVC (multiClssification) =>\\n', y_val_scores_svc)\n",
    "print('Their Mean =>', y_val_scores_svc.mean())\n",
    "print('their std =>', y_val_scores_svc.std())"
   ]
  },
  {
   "cell_type": "code",
   "execution_count": 42,
   "id": "6b778cb4",
   "metadata": {},
   "outputs": [],
   "source": [
    "# predict\n",
    "y_predict_scores_svc = cross_val_predict(svc_clf, X_train, y_train, \n",
    "                                           cv=5, method='predict', n_jobs=-1)"
   ]
  },
  {
   "cell_type": "code",
   "execution_count": 43,
   "id": "8a9da717",
   "metadata": {},
   "outputs": [
    {
     "data": {
      "text/plain": [
       "array([5, 0, 4, ..., 5, 6, 8])"
      ]
     },
     "execution_count": 43,
     "metadata": {},
     "output_type": "execute_result"
    }
   ],
   "source": [
    "y_predict_scores_svc"
   ]
  },
  {
   "cell_type": "code",
   "execution_count": 44,
   "id": "28feb76a",
   "metadata": {},
   "outputs": [
    {
     "name": "stdout",
     "output_type": "stream",
     "text": [
      "conf_matrix_multi_svc =>\n",
      " [[5866    3   10    2    3    7   15    1   11    5]\n",
      " [   1 6672   24    8    9    0    2   11    7    8]\n",
      " [  14    8 5822   18   22    5    9   28   27    5]\n",
      " [   3   10   53 5907    2   55    1   29   54   17]\n",
      " [   5   11   14    0 5711    0   21   10    6   64]\n",
      " [  12    4    8   57   11 5265   33    2   19   10]\n",
      " [  18    6    8    0    7   23 5845    0   11    0]\n",
      " [   4   23   35    4   32    2    0 6120    5   40]\n",
      " [   9   24   16   35   18   33   17    5 5674   20]\n",
      " [  15    9    4   28   69   16    1   53   20 5734]]\n"
     ]
    }
   ],
   "source": [
    "conf_matrix_multi_svc = confusion_matrix(y_train, y_predict_scores_svc)\n",
    "print('conf_matrix_multi_svc =>\\n', conf_matrix_multi_svc)"
   ]
  },
  {
   "cell_type": "code",
   "execution_count": 45,
   "id": "06c8fb7f",
   "metadata": {},
   "outputs": [
    {
     "data": {
      "image/png": "[encoded data removed]",
      "text/plain": [
       "<Figure size 432x288 with 1 Axes>"
      ]
     },
     "metadata": {
      "needs_background": "light"
     },
     "output_type": "display_data"
    }
   ],
   "source": [
    "def confusion_martrix_multi(confu_martrix):\n",
    "    sns.heatmap(confu_martrix, fmt='g', annot=True, cbar=False, vmin=0, cmap='Blues')\n",
    "    plt.xticks(ticks=np.arange(confu_martrix.shape[0]) + 0.5, labels=np.arange(10))\n",
    "    plt.yticks(ticks=np.arange(confu_martrix.shape[1]) + 0.5, labels=np.arange(10))\n",
    "    plt.xlabel('Predicted')\n",
    "    plt.ylabel('Actual')\n",
    "    plt.title('Confusion Matrix')\n",
    "    plt.show()\n",
    "\n",
    "confusion_martrix_multi(conf_matrix_multi_svc)"
   ]
  },
  {
   "cell_type": "code",
   "execution_count": 46,
   "id": "400a202d",
   "metadata": {},
   "outputs": [
    {
     "name": "stdout",
     "output_type": "stream",
     "text": [
      "precison_acc_multi =>  0.9769333333333333\n",
      "============================================================\n",
      "recall_acc_multi => 0.9769333333333333\n",
      "============================================================\n",
      "classifcation report multi => \n",
      "               precision    recall  f1-score   support\n",
      "\n",
      "           0       0.99      0.99      0.99      5923\n",
      "           1       0.99      0.99      0.99      6742\n",
      "           2       0.97      0.98      0.97      5958\n",
      "           3       0.97      0.96      0.97      6131\n",
      "           4       0.97      0.98      0.97      5842\n",
      "           5       0.97      0.97      0.97      5421\n",
      "           6       0.98      0.99      0.99      5918\n",
      "           7       0.98      0.98      0.98      6265\n",
      "           8       0.97      0.97      0.97      5851\n",
      "           9       0.97      0.96      0.97      5949\n",
      "\n",
      "    accuracy                           0.98     60000\n",
      "   macro avg       0.98      0.98      0.98     60000\n",
      "weighted avg       0.98      0.98      0.98     60000\n",
      "\n"
     ]
    }
   ],
   "source": [
    "precison_acc_multi = precision_score(y_train, y_predict_scores_svc, average='micro')\n",
    "print('precison_acc_multi => ', precison_acc_multi)\n",
    "\n",
    "print('==='*20)\n",
    "\n",
    "recall_acc_multi = recall_score(y_train, y_predict_scores_svc, average='micro')\n",
    "print('recall_acc_multi =>', recall_acc_multi)\n",
    "\n",
    "print('==='*20)\n",
    "\n",
    "class_repo_multi = classification_report(y_train, y_predict_scores_svc)\n",
    "print('classifcation report multi => \\n', class_repo_multi)\n"
   ]
  },
  {
   "cell_type": "markdown",
   "id": "ac685f16",
   "metadata": {},
   "source": [
    "#### Error Analysis"
   ]
  },
  {
   "cell_type": "code",
   "execution_count": 47,
   "id": "19bb5aba",
   "metadata": {},
   "outputs": [
    {
     "data": {
      "image/png": "[encoded data removed]",
      "text/plain": [
       "<Figure size 288x288 with 1 Axes>"
      ]
     },
     "metadata": {
      "needs_background": "light"
     },
     "output_type": "display_data"
    }
   ],
   "source": [
    "row_sums = conf_matrix_multi_svc.sum(axis=1, keepdims=True)\n",
    "\n",
    "norm_conf_sum = conf_matrix_multi_svc / row_sums\n",
    "\n",
    "## fill diagonal with 0s\n",
    "np.fill_diagonal(norm_conf_sum, 0)\n",
    "plt.matshow(norm_conf_sum, cmap=plt.cm.gray)\n",
    "plt.show()"
   ]
  },
  {
   "cell_type": "code",
   "execution_count": null,
   "id": "c89d63b0",
   "metadata": {},
   "outputs": [],
   "source": []
  },
  {
   "cell_type": "code",
   "execution_count": null,
   "id": "3490eda5",
   "metadata": {},
   "outputs": [],
   "source": []
  },
  {
   "cell_type": "code",
   "execution_count": null,
   "id": "e42a758b",
   "metadata": {},
   "outputs": [],
   "source": []
  },
  {
   "cell_type": "code",
   "execution_count": null,
   "id": "ff7e3f1b",
   "metadata": {},
   "outputs": [],
   "source": []
  },
  {
   "cell_type": "markdown",
   "id": "131d77c0",
   "metadata": {},
   "source": [
    "### predict_proba"
   ]
  },
  {
   "cell_type": "code",
   "execution_count": 49,
   "id": "249f69d5",
   "metadata": {},
   "outputs": [],
   "source": [
    "# predict_proba\n",
    "y_predict_proba_scores_svc = cross_val_predict(svc_clf, X_train, y_train, \n",
    "                                           cv=2, method='decision_function', n_jobs=-1)"
   ]
  },
  {
   "cell_type": "code",
   "execution_count": 52,
   "id": "85872756",
   "metadata": {},
   "outputs": [
    {
     "data": {
      "text/html": [
       "<div>\n",
       "<style scoped>\n",
       "    .dataframe tbody tr th:only-of-type {\n",
       "        vertical-align: middle;\n",
       "    }\n",
       "\n",
       "    .dataframe tbody tr th {\n",
       "        vertical-align: top;\n",
       "    }\n",
       "\n",
       "    .dataframe thead th {\n",
       "        text-align: right;\n",
       "    }\n",
       "</style>\n",
       "<table border=\"1\" class=\"dataframe\">\n",
       "  <thead>\n",
       "    <tr style=\"text-align: right;\">\n",
       "      <th></th>\n",
       "      <th>0</th>\n",
       "      <th>1</th>\n",
       "      <th>2</th>\n",
       "      <th>3</th>\n",
       "      <th>4</th>\n",
       "      <th>5</th>\n",
       "      <th>6</th>\n",
       "      <th>7</th>\n",
       "      <th>8</th>\n",
       "      <th>9</th>\n",
       "    </tr>\n",
       "  </thead>\n",
       "  <tbody>\n",
       "    <tr>\n",
       "      <th>0</th>\n",
       "      <td>2.734121</td>\n",
       "      <td>0.727063</td>\n",
       "      <td>7.223338</td>\n",
       "      <td>8.305892</td>\n",
       "      <td>-0.308536</td>\n",
       "      <td>9.311002</td>\n",
       "      <td>2.717786</td>\n",
       "      <td>3.770629</td>\n",
       "      <td>6.220300</td>\n",
       "      <td>3.900804</td>\n",
       "    </tr>\n",
       "    <tr>\n",
       "      <th>1</th>\n",
       "      <td>9.315706</td>\n",
       "      <td>-0.303162</td>\n",
       "      <td>7.253881</td>\n",
       "      <td>3.834180</td>\n",
       "      <td>0.697042</td>\n",
       "      <td>8.283113</td>\n",
       "      <td>3.783048</td>\n",
       "      <td>2.737182</td>\n",
       "      <td>6.189886</td>\n",
       "      <td>2.802017</td>\n",
       "    </tr>\n",
       "    <tr>\n",
       "      <th>2</th>\n",
       "      <td>0.722247</td>\n",
       "      <td>-0.295301</td>\n",
       "      <td>5.201638</td>\n",
       "      <td>5.148147</td>\n",
       "      <td>9.300645</td>\n",
       "      <td>4.902715</td>\n",
       "      <td>2.784810</td>\n",
       "      <td>7.239452</td>\n",
       "      <td>1.737356</td>\n",
       "      <td>8.274144</td>\n",
       "    </tr>\n",
       "    <tr>\n",
       "      <th>3</th>\n",
       "      <td>-0.305275</td>\n",
       "      <td>9.310345</td>\n",
       "      <td>7.249434</td>\n",
       "      <td>4.789419</td>\n",
       "      <td>3.778767</td>\n",
       "      <td>1.761592</td>\n",
       "      <td>0.723930</td>\n",
       "      <td>8.248225</td>\n",
       "      <td>6.289133</td>\n",
       "      <td>2.732940</td>\n",
       "    </tr>\n",
       "    <tr>\n",
       "      <th>4</th>\n",
       "      <td>-0.304154</td>\n",
       "      <td>2.733947</td>\n",
       "      <td>2.720905</td>\n",
       "      <td>4.802536</td>\n",
       "      <td>8.303394</td>\n",
       "      <td>2.758613</td>\n",
       "      <td>0.699404</td>\n",
       "      <td>7.261989</td>\n",
       "      <td>6.261634</td>\n",
       "      <td>9.312920</td>\n",
       "    </tr>\n",
       "  </tbody>\n",
       "</table>\n",
       "</div>"
      ],
      "text/plain": [
       "          0         1         2         3         4         5         6  \\\n",
       "0  2.734121  0.727063  7.223338  8.305892 -0.308536  9.311002  2.717786   \n",
       "1  9.315706 -0.303162  7.253881  3.834180  0.697042  8.283113  3.783048   \n",
       "2  0.722247 -0.295301  5.201638  5.148147  9.300645  4.902715  2.784810   \n",
       "3 -0.305275  9.310345  7.249434  4.789419  3.778767  1.761592  0.723930   \n",
       "4 -0.304154  2.733947  2.720905  4.802536  8.303394  2.758613  0.699404   \n",
       "\n",
       "          7         8         9  \n",
       "0  3.770629  6.220300  3.900804  \n",
       "1  2.737182  6.189886  2.802017  \n",
       "2  7.239452  1.737356  8.274144  \n",
       "3  8.248225  6.289133  2.732940  \n",
       "4  7.261989  6.261634  9.312920  "
      ]
     },
     "execution_count": 52,
     "metadata": {},
     "output_type": "execute_result"
    }
   ],
   "source": [
    "df_scores = pd.DataFrame(y_predict_proba_scores_svc)\n",
    "df_scores.head()"
   ]
  },
  {
   "cell_type": "code",
   "execution_count": 59,
   "id": "5d71a008",
   "metadata": {},
   "outputs": [
    {
     "data": {
      "image/png": "[encoded data removed]",
      "text/plain": [
       "<Figure size 720x576 with 1 Axes>"
      ]
     },
     "metadata": {
      "needs_background": "light"
     },
     "output_type": "display_data"
    }
   ],
   "source": [
    "fpr_dict = {}\n",
    "tpr_dict = {}\n",
    "threshold_dict = {}\n",
    "\n",
    "for i in range(10):\n",
    "    fpr_dict[i], tpr_dict[i], threshold_dict[i] = roc_curve(y_train==i, df_scores.iloc[:,i])\n",
    "\n",
    "\n",
    "plt.figure(figsize=(10,8))\n",
    "colors = ['g','y','r','b','c','m','k','dimgray','darkorange', 'tan']\n",
    "for i in range(10):\n",
    "    plt.plot(fpr_dict[i], tpr_dict[i], label=f'Class{i}', c=colors[i])\n",
    "    \n",
    "plt.xlabel('FPR (1-specificity)')\n",
    "plt.ylabel('TPR (recall)')\n",
    "plt.title('ROC Curve (FPR Vs. TPR)')\n",
    "plt.legend()\n",
    "plt.show()"
   ]
  },
  {
   "cell_type": "markdown",
   "id": "883dbbed",
   "metadata": {},
   "source": [
    "#### get auc"
   ]
  },
  {
   "cell_type": "code",
   "execution_count": null,
   "id": "c3ad9e5f",
   "metadata": {},
   "outputs": [],
   "source": [
    "y_predict_proba_scores_svc"
   ]
  },
  {
   "cell_type": "code",
   "execution_count": 63,
   "id": "ce84c86e",
   "metadata": {
    "collapsed": true
   },
   "outputs": [
    {
     "ename": "AttributeError",
     "evalue": "predict_proba is not available when  probability=False",
     "output_type": "error",
     "traceback": [
      "\u001b[1;31m---------------------------------------------------------------------------\u001b[0m",
      "\u001b[1;31m_RemoteTraceback\u001b[0m                          Traceback (most recent call last)",
      "\u001b[1;31m_RemoteTraceback\u001b[0m: \n\"\"\"\nTraceback (most recent call last):\n  File \"C:\\Users\\moham\\anaconda3\\lib\\site-packages\\joblib\\externals\\loky\\process_executor.py\", line 431, in _process_worker\n    r = call_item()\n  File \"C:\\Users\\moham\\anaconda3\\lib\\site-packages\\joblib\\externals\\loky\\process_executor.py\", line 285, in __call__\n    return self.fn(*self.args, **self.kwargs)\n  File \"C:\\Users\\moham\\anaconda3\\lib\\site-packages\\joblib\\_parallel_backends.py\", line 595, in __call__\n    return self.func(*args, **kwargs)\n  File \"C:\\Users\\moham\\anaconda3\\lib\\site-packages\\joblib\\parallel.py\", line 262, in __call__\n    return [func(*args, **kwargs)\n  File \"C:\\Users\\moham\\anaconda3\\lib\\site-packages\\joblib\\parallel.py\", line 262, in <listcomp>\n    return [func(*args, **kwargs)\n  File \"C:\\Users\\moham\\anaconda3\\lib\\site-packages\\sklearn\\utils\\fixes.py\", line 222, in __call__\n    return self.function(*args, **kwargs)\n  File \"C:\\Users\\moham\\anaconda3\\lib\\site-packages\\sklearn\\model_selection\\_validation.py\", line 947, in _fit_and_predict\n    func = getattr(estimator, method)\n  File \"C:\\Users\\moham\\anaconda3\\lib\\site-packages\\sklearn\\svm\\_base.py\", line 666, in predict_proba\n    self._check_proba()\n  File \"C:\\Users\\moham\\anaconda3\\lib\\site-packages\\sklearn\\svm\\_base.py\", line 633, in _check_proba\n    raise AttributeError(\"predict_proba is not available when \"\nAttributeError: predict_proba is not available when  probability=False\n\"\"\"",
      "\nThe above exception was the direct cause of the following exception:\n",
      "\u001b[1;31mAttributeError\u001b[0m                            Traceback (most recent call last)",
      "\u001b[1;32m<ipython-input-63-25b78b8e803e>\u001b[0m in \u001b[0;36m<module>\u001b[1;34m\u001b[0m\n\u001b[0;32m      1\u001b[0m \u001b[1;31m# predict_probas\u001b[0m\u001b[1;33m\u001b[0m\u001b[1;33m\u001b[0m\u001b[1;33m\u001b[0m\u001b[0m\n\u001b[1;32m----> 2\u001b[1;33m y_predict_proba_scores_svc = cross_val_predict(svc_clf, X_train, y_train, \n\u001b[0m\u001b[0;32m      3\u001b[0m                                               cv=2, method='predict_proba', n_jobs=-1)\n",
      "\u001b[1;32m~\\anaconda3\\lib\\site-packages\\sklearn\\utils\\validation.py\u001b[0m in \u001b[0;36minner_f\u001b[1;34m(*args, **kwargs)\u001b[0m\n\u001b[0;32m     61\u001b[0m             \u001b[0mextra_args\u001b[0m \u001b[1;33m=\u001b[0m \u001b[0mlen\u001b[0m\u001b[1;33m(\u001b[0m\u001b[0margs\u001b[0m\u001b[1;33m)\u001b[0m \u001b[1;33m-\u001b[0m \u001b[0mlen\u001b[0m\u001b[1;33m(\u001b[0m\u001b[0mall_args\u001b[0m\u001b[1;33m)\u001b[0m\u001b[1;33m\u001b[0m\u001b[1;33m\u001b[0m\u001b[0m\n\u001b[0;32m     62\u001b[0m             \u001b[1;32mif\u001b[0m \u001b[0mextra_args\u001b[0m \u001b[1;33m<=\u001b[0m \u001b[1;36m0\u001b[0m\u001b[1;33m:\u001b[0m\u001b[1;33m\u001b[0m\u001b[1;33m\u001b[0m\u001b[0m\n\u001b[1;32m---> 63\u001b[1;33m                 \u001b[1;32mreturn\u001b[0m \u001b[0mf\u001b[0m\u001b[1;33m(\u001b[0m\u001b[1;33m*\u001b[0m\u001b[0margs\u001b[0m\u001b[1;33m,\u001b[0m \u001b[1;33m**\u001b[0m\u001b[0mkwargs\u001b[0m\u001b[1;33m)\u001b[0m\u001b[1;33m\u001b[0m\u001b[1;33m\u001b[0m\u001b[0m\n\u001b[0m\u001b[0;32m     64\u001b[0m \u001b[1;33m\u001b[0m\u001b[0m\n\u001b[0;32m     65\u001b[0m             \u001b[1;31m# extra_args > 0\u001b[0m\u001b[1;33m\u001b[0m\u001b[1;33m\u001b[0m\u001b[1;33m\u001b[0m\u001b[0m\n",
      "\u001b[1;32m~\\anaconda3\\lib\\site-packages\\sklearn\\model_selection\\_validation.py\u001b[0m in \u001b[0;36mcross_val_predict\u001b[1;34m(estimator, X, y, groups, cv, n_jobs, verbose, fit_params, pre_dispatch, method)\u001b[0m\n\u001b[0;32m    864\u001b[0m     parallel = Parallel(n_jobs=n_jobs, verbose=verbose,\n\u001b[0;32m    865\u001b[0m                         pre_dispatch=pre_dispatch)\n\u001b[1;32m--> 866\u001b[1;33m     predictions = parallel(delayed(_fit_and_predict)(\n\u001b[0m\u001b[0;32m    867\u001b[0m         clone(estimator), X, y, train, test, verbose, fit_params, method)\n\u001b[0;32m    868\u001b[0m         for train, test in splits)\n",
      "\u001b[1;32m~\\anaconda3\\lib\\site-packages\\joblib\\parallel.py\u001b[0m in \u001b[0;36m__call__\u001b[1;34m(self, iterable)\u001b[0m\n\u001b[0;32m   1052\u001b[0m \u001b[1;33m\u001b[0m\u001b[0m\n\u001b[0;32m   1053\u001b[0m             \u001b[1;32mwith\u001b[0m \u001b[0mself\u001b[0m\u001b[1;33m.\u001b[0m\u001b[0m_backend\u001b[0m\u001b[1;33m.\u001b[0m\u001b[0mretrieval_context\u001b[0m\u001b[1;33m(\u001b[0m\u001b[1;33m)\u001b[0m\u001b[1;33m:\u001b[0m\u001b[1;33m\u001b[0m\u001b[1;33m\u001b[0m\u001b[0m\n\u001b[1;32m-> 1054\u001b[1;33m                 \u001b[0mself\u001b[0m\u001b[1;33m.\u001b[0m\u001b[0mretrieve\u001b[0m\u001b[1;33m(\u001b[0m\u001b[1;33m)\u001b[0m\u001b[1;33m\u001b[0m\u001b[1;33m\u001b[0m\u001b[0m\n\u001b[0m\u001b[0;32m   1055\u001b[0m             \u001b[1;31m# Make sure that we get a last message telling us we are done\u001b[0m\u001b[1;33m\u001b[0m\u001b[1;33m\u001b[0m\u001b[1;33m\u001b[0m\u001b[0m\n\u001b[0;32m   1056\u001b[0m             \u001b[0melapsed_time\u001b[0m \u001b[1;33m=\u001b[0m \u001b[0mtime\u001b[0m\u001b[1;33m.\u001b[0m\u001b[0mtime\u001b[0m\u001b[1;33m(\u001b[0m\u001b[1;33m)\u001b[0m \u001b[1;33m-\u001b[0m \u001b[0mself\u001b[0m\u001b[1;33m.\u001b[0m\u001b[0m_start_time\u001b[0m\u001b[1;33m\u001b[0m\u001b[1;33m\u001b[0m\u001b[0m\n",
      "\u001b[1;32m~\\anaconda3\\lib\\site-packages\\joblib\\parallel.py\u001b[0m in \u001b[0;36mretrieve\u001b[1;34m(self)\u001b[0m\n\u001b[0;32m    931\u001b[0m             \u001b[1;32mtry\u001b[0m\u001b[1;33m:\u001b[0m\u001b[1;33m\u001b[0m\u001b[1;33m\u001b[0m\u001b[0m\n\u001b[0;32m    932\u001b[0m                 \u001b[1;32mif\u001b[0m \u001b[0mgetattr\u001b[0m\u001b[1;33m(\u001b[0m\u001b[0mself\u001b[0m\u001b[1;33m.\u001b[0m\u001b[0m_backend\u001b[0m\u001b[1;33m,\u001b[0m \u001b[1;34m'supports_timeout'\u001b[0m\u001b[1;33m,\u001b[0m \u001b[1;32mFalse\u001b[0m\u001b[1;33m)\u001b[0m\u001b[1;33m:\u001b[0m\u001b[1;33m\u001b[0m\u001b[1;33m\u001b[0m\u001b[0m\n\u001b[1;32m--> 933\u001b[1;33m                     \u001b[0mself\u001b[0m\u001b[1;33m.\u001b[0m\u001b[0m_output\u001b[0m\u001b[1;33m.\u001b[0m\u001b[0mextend\u001b[0m\u001b[1;33m(\u001b[0m\u001b[0mjob\u001b[0m\u001b[1;33m.\u001b[0m\u001b[0mget\u001b[0m\u001b[1;33m(\u001b[0m\u001b[0mtimeout\u001b[0m\u001b[1;33m=\u001b[0m\u001b[0mself\u001b[0m\u001b[1;33m.\u001b[0m\u001b[0mtimeout\u001b[0m\u001b[1;33m)\u001b[0m\u001b[1;33m)\u001b[0m\u001b[1;33m\u001b[0m\u001b[1;33m\u001b[0m\u001b[0m\n\u001b[0m\u001b[0;32m    934\u001b[0m                 \u001b[1;32melse\u001b[0m\u001b[1;33m:\u001b[0m\u001b[1;33m\u001b[0m\u001b[1;33m\u001b[0m\u001b[0m\n\u001b[0;32m    935\u001b[0m                     \u001b[0mself\u001b[0m\u001b[1;33m.\u001b[0m\u001b[0m_output\u001b[0m\u001b[1;33m.\u001b[0m\u001b[0mextend\u001b[0m\u001b[1;33m(\u001b[0m\u001b[0mjob\u001b[0m\u001b[1;33m.\u001b[0m\u001b[0mget\u001b[0m\u001b[1;33m(\u001b[0m\u001b[1;33m)\u001b[0m\u001b[1;33m)\u001b[0m\u001b[1;33m\u001b[0m\u001b[1;33m\u001b[0m\u001b[0m\n",
      "\u001b[1;32m~\\anaconda3\\lib\\site-packages\\joblib\\_parallel_backends.py\u001b[0m in \u001b[0;36mwrap_future_result\u001b[1;34m(future, timeout)\u001b[0m\n\u001b[0;32m    540\u001b[0m         AsyncResults.get from multiprocessing.\"\"\"\n\u001b[0;32m    541\u001b[0m         \u001b[1;32mtry\u001b[0m\u001b[1;33m:\u001b[0m\u001b[1;33m\u001b[0m\u001b[1;33m\u001b[0m\u001b[0m\n\u001b[1;32m--> 542\u001b[1;33m             \u001b[1;32mreturn\u001b[0m \u001b[0mfuture\u001b[0m\u001b[1;33m.\u001b[0m\u001b[0mresult\u001b[0m\u001b[1;33m(\u001b[0m\u001b[0mtimeout\u001b[0m\u001b[1;33m=\u001b[0m\u001b[0mtimeout\u001b[0m\u001b[1;33m)\u001b[0m\u001b[1;33m\u001b[0m\u001b[1;33m\u001b[0m\u001b[0m\n\u001b[0m\u001b[0;32m    543\u001b[0m         \u001b[1;32mexcept\u001b[0m \u001b[0mCfTimeoutError\u001b[0m \u001b[1;32mas\u001b[0m \u001b[0me\u001b[0m\u001b[1;33m:\u001b[0m\u001b[1;33m\u001b[0m\u001b[1;33m\u001b[0m\u001b[0m\n\u001b[0;32m    544\u001b[0m             \u001b[1;32mraise\u001b[0m \u001b[0mTimeoutError\u001b[0m \u001b[1;32mfrom\u001b[0m \u001b[0me\u001b[0m\u001b[1;33m\u001b[0m\u001b[1;33m\u001b[0m\u001b[0m\n",
      "\u001b[1;32m~\\anaconda3\\lib\\concurrent\\futures\\_base.py\u001b[0m in \u001b[0;36mresult\u001b[1;34m(self, timeout)\u001b[0m\n\u001b[0;32m    437\u001b[0m                 \u001b[1;32mraise\u001b[0m \u001b[0mCancelledError\u001b[0m\u001b[1;33m(\u001b[0m\u001b[1;33m)\u001b[0m\u001b[1;33m\u001b[0m\u001b[1;33m\u001b[0m\u001b[0m\n\u001b[0;32m    438\u001b[0m             \u001b[1;32melif\u001b[0m \u001b[0mself\u001b[0m\u001b[1;33m.\u001b[0m\u001b[0m_state\u001b[0m \u001b[1;33m==\u001b[0m \u001b[0mFINISHED\u001b[0m\u001b[1;33m:\u001b[0m\u001b[1;33m\u001b[0m\u001b[1;33m\u001b[0m\u001b[0m\n\u001b[1;32m--> 439\u001b[1;33m                 \u001b[1;32mreturn\u001b[0m \u001b[0mself\u001b[0m\u001b[1;33m.\u001b[0m\u001b[0m__get_result\u001b[0m\u001b[1;33m(\u001b[0m\u001b[1;33m)\u001b[0m\u001b[1;33m\u001b[0m\u001b[1;33m\u001b[0m\u001b[0m\n\u001b[0m\u001b[0;32m    440\u001b[0m             \u001b[1;32melse\u001b[0m\u001b[1;33m:\u001b[0m\u001b[1;33m\u001b[0m\u001b[1;33m\u001b[0m\u001b[0m\n\u001b[0;32m    441\u001b[0m                 \u001b[1;32mraise\u001b[0m \u001b[0mTimeoutError\u001b[0m\u001b[1;33m(\u001b[0m\u001b[1;33m)\u001b[0m\u001b[1;33m\u001b[0m\u001b[1;33m\u001b[0m\u001b[0m\n",
      "\u001b[1;32m~\\anaconda3\\lib\\concurrent\\futures\\_base.py\u001b[0m in \u001b[0;36m__get_result\u001b[1;34m(self)\u001b[0m\n\u001b[0;32m    386\u001b[0m     \u001b[1;32mdef\u001b[0m \u001b[0m__get_result\u001b[0m\u001b[1;33m(\u001b[0m\u001b[0mself\u001b[0m\u001b[1;33m)\u001b[0m\u001b[1;33m:\u001b[0m\u001b[1;33m\u001b[0m\u001b[1;33m\u001b[0m\u001b[0m\n\u001b[0;32m    387\u001b[0m         \u001b[1;32mif\u001b[0m \u001b[0mself\u001b[0m\u001b[1;33m.\u001b[0m\u001b[0m_exception\u001b[0m\u001b[1;33m:\u001b[0m\u001b[1;33m\u001b[0m\u001b[1;33m\u001b[0m\u001b[0m\n\u001b[1;32m--> 388\u001b[1;33m             \u001b[1;32mraise\u001b[0m \u001b[0mself\u001b[0m\u001b[1;33m.\u001b[0m\u001b[0m_exception\u001b[0m\u001b[1;33m\u001b[0m\u001b[1;33m\u001b[0m\u001b[0m\n\u001b[0m\u001b[0;32m    389\u001b[0m         \u001b[1;32melse\u001b[0m\u001b[1;33m:\u001b[0m\u001b[1;33m\u001b[0m\u001b[1;33m\u001b[0m\u001b[0m\n\u001b[0;32m    390\u001b[0m             \u001b[1;32mreturn\u001b[0m \u001b[0mself\u001b[0m\u001b[1;33m.\u001b[0m\u001b[0m_result\u001b[0m\u001b[1;33m\u001b[0m\u001b[1;33m\u001b[0m\u001b[0m\n",
      "\u001b[1;31mAttributeError\u001b[0m: predict_proba is not available when  probability=False"
     ]
    }
   ],
   "source": [
    "# predict_probas to be able to calculate auc\n",
    "y_predict_proba_scores_svc = cross_val_predict(svc_clf, X_train, y_train, \n",
    "                                              cv=2, method='predict_proba', n_jobs=-1)\n",
    "\n",
    "### it will raise an error to solve it you should make >> SVC(probability=True)\n",
    "### but it will take much time to run, i will continue, but you now know the idea"
   ]
  },
  {
   "cell_type": "code",
   "execution_count": null,
   "id": "4a48c82d",
   "metadata": {},
   "outputs": [],
   "source": [
    "df_scores_prob = pd.DataFrame(y_predict_proba_scores_svc)"
   ]
  },
  {
   "cell_type": "code",
   "execution_count": null,
   "id": "d1f05b92",
   "metadata": {},
   "outputs": [],
   "source": [
    "auc_total = roc_auc_score(y_train, y_predict_proba_scores_svc, multi_class='ovo')\n",
    "print('auc_total =>', auc_total)"
   ]
  },
  {
   "cell_type": "markdown",
   "id": "dbd7f070",
   "metadata": {},
   "source": [
    "## Evalute on Test set"
   ]
  },
  {
   "cell_type": "code",
   "execution_count": 64,
   "id": "882dbc82",
   "metadata": {},
   "outputs": [],
   "source": [
    "y_predict_test = svc_clf.predict(X_test)"
   ]
  },
  {
   "cell_type": "code",
   "execution_count": 65,
   "id": "0fb8b97d",
   "metadata": {},
   "outputs": [
    {
     "name": "stdout",
     "output_type": "stream",
     "text": [
      "score_test => 0.9792\n"
     ]
    }
   ],
   "source": [
    "score_test = accuracy_score(y_test, y_predict_test)\n",
    "print('score_test =>', score_test)"
   ]
  },
  {
   "cell_type": "code",
   "execution_count": 66,
   "id": "5c28cc2c",
   "metadata": {},
   "outputs": [
    {
     "name": "stdout",
     "output_type": "stream",
     "text": [
      "conf_matrix_test =>\n",
      " [[ 973    0    1    0    0    2    1    1    2    0]\n",
      " [   0 1126    3    1    0    1    1    1    2    0]\n",
      " [   6    1 1006    2    1    0    2    7    6    1]\n",
      " [   0    0    2  995    0    2    0    5    5    1]\n",
      " [   0    0    5    0  961    0    3    0    2   11]\n",
      " [   2    0    0    9    0  871    4    1    4    1]\n",
      " [   6    2    0    0    2    3  944    0    1    0]\n",
      " [   0    6   11    1    1    0    0  996    2   11]\n",
      " [   3    0    2    6    3    2    2    3  950    3]\n",
      " [   3    4    1    7   10    2    1    7    4  970]]\n"
     ]
    }
   ],
   "source": [
    "conf_matrix_test = confusion_matrix(y_test, y_predict_test)\n",
    "print('conf_matrix_test =>\\n', conf_matrix_test)"
   ]
  },
  {
   "cell_type": "code",
   "execution_count": 67,
   "id": "6e414137",
   "metadata": {},
   "outputs": [
    {
     "data": {
      "image/png": "[encoded data removed]",
      "text/plain": [
       "<Figure size 432x288 with 1 Axes>"
      ]
     },
     "metadata": {
      "needs_background": "light"
     },
     "output_type": "display_data"
    }
   ],
   "source": [
    "def confusion_martrix_multi(confu_martrix):\n",
    "    sns.heatmap(confu_martrix, fmt='g', annot=True, cbar=False, vmin=0, cmap='Blues')\n",
    "    plt.xticks(ticks=np.arange(confu_martrix.shape[0]) + 0.5, labels=np.arange(10))\n",
    "    plt.yticks(ticks=np.arange(confu_martrix.shape[1]) + 0.5, labels=np.arange(10))\n",
    "    plt.xlabel('Predicted')\n",
    "    plt.ylabel('Actual')\n",
    "    plt.title('Confusion Matrix')\n",
    "    plt.show()\n",
    "    \n",
    "confusion_martrix_multi(conf_matrix_test)"
   ]
  },
  {
   "cell_type": "code",
   "execution_count": 68,
   "id": "7bfe3966",
   "metadata": {},
   "outputs": [
    {
     "name": "stdout",
     "output_type": "stream",
     "text": [
      "precison_acc_test =>  0.9791973966593345\n",
      "============================================================\n",
      "recall_acc_test => 0.9790919842945065\n",
      "============================================================\n",
      "class_repo_test  => \n",
      "               precision    recall  f1-score   support\n",
      "\n",
      "           0       0.98      0.99      0.99       980\n",
      "           1       0.99      0.99      0.99      1135\n",
      "           2       0.98      0.97      0.98      1032\n",
      "           3       0.97      0.99      0.98      1010\n",
      "           4       0.98      0.98      0.98       982\n",
      "           5       0.99      0.98      0.98       892\n",
      "           6       0.99      0.99      0.99       958\n",
      "           7       0.98      0.97      0.97      1028\n",
      "           8       0.97      0.98      0.97       974\n",
      "           9       0.97      0.96      0.97      1009\n",
      "\n",
      "    accuracy                           0.98     10000\n",
      "   macro avg       0.98      0.98      0.98     10000\n",
      "weighted avg       0.98      0.98      0.98     10000\n",
      "\n"
     ]
    }
   ],
   "source": [
    "precison_acc_test = precision_score(y_test, y_predict_test, average='macro')\n",
    "print('precison_acc_test => ', precison_acc_test)\n",
    "\n",
    "print('==='*20)\n",
    "\n",
    "recall_acc_test = recall_score(y_test, y_predict_test, average='macro')\n",
    "print('recall_acc_test =>', recall_acc_test)\n",
    "\n",
    "print('==='*20)\n",
    "\n",
    "class_repo_test = classification_report(y_test, y_predict_test)\n",
    "print('class_repo_test  => \\n', class_repo_test)\n"
   ]
  },
  {
   "cell_type": "code",
   "execution_count": null,
   "id": "d9ca7427",
   "metadata": {},
   "outputs": [],
   "source": []
  },
  {
   "cell_type": "code",
   "execution_count": null,
   "id": "425c3e61",
   "metadata": {},
   "outputs": [],
   "source": []
  }
 ],
 "metadata": {
  "kernelspec": {
   "display_name": "Python 3",
   "language": "python",
   "name": "python3"
  },
  "language_info": {
   "codemirror_mode": {
    "name": "ipython",
    "version": 3
   },
   "file_extension": ".py",
   "mimetype": "text/x-python",
   "name": "python",
   "nbconvert_exporter": "python",
   "pygments_lexer": "ipython3",
   "version": "3.8.8"
  }
 },
 "nbformat": 4,
 "nbformat_minor": 5
}
