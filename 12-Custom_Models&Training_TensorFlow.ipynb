{
 "cells": [
  {
   "cell_type": "code",
   "execution_count": 1,
   "id": "7d0db13d",
   "metadata": {},
   "outputs": [],
   "source": [
    "## Most Important\n",
    "import numpy as np\n",
    "import pandas as pd\n",
    "import matplotlib.pyplot as plt\n",
    "%matplotlib inline\n",
    "import seaborn as sns\n",
    "\n",
    "## less Important\n",
    "from functools import partial\n",
    "import os\n",
    "from scipy import stats\n",
    "import missingno as msno\n",
    "import joblib\n",
    "import tarfile\n",
    "import shutil\n",
    "import urllib\n",
    "\n",
    "## Sklearn\n",
    "from sklearn import datasets\n",
    "## Preprocessing\n",
    "from sklearn.preprocessing import StandardScaler\n",
    "from sklearn.model_selection import train_test_split\n",
    "## Metrics\n",
    "from sklearn.metrics import accuracy_score\n",
    "\n",
    "## tensorflow & Keras\n",
    "import tensorflow as tf    ## i will use tf for every thing and for keras using tf.keras\n",
    "import tensorflow_datasets as tfds"
   ]
  },
  {
   "cell_type": "markdown",
   "id": "f67b92bc",
   "metadata": {},
   "source": [
    "## Custom Loss Functions\n",
    "`I will build a custom huber function with diffrent thresholds`  <br />\n",
    "`Passing this class or function to the loss hyperparameter when compiling the Model` <br />\n",
    "`Saving the model, and when you loading it again, every thing is saved, this class or function is saved as json file in hdf5 model` <br />\n",
    "`When loading the Model you should pass the dictionary of custom objects (as you will see)`"
   ]
  },
  {
   "cell_type": "code",
   "execution_count": 2,
   "id": "da641cd2",
   "metadata": {},
   "outputs": [],
   "source": [
    "## simple function ==> what i want to do\n",
    "def huber_fn(y_true, y_pred):\n",
    "    error = y_true - y_pred\n",
    "    is_small_error = tf.abs(error) < 1\n",
    "    like_MSE = tf.square(error) / 2\n",
    "    like_MAE = tf.abs(error) - 0.5\n",
    "    \n",
    "    ## when erroe is less than trheshold => then like_MSE, else like_MAE\n",
    "    return tf.where(is_small_error, like_MSE, like_MAE)"
   ]
  },
  {
   "cell_type": "code",
   "execution_count": 3,
   "id": "3fc6594f",
   "metadata": {},
   "outputs": [
    {
     "data": {
      "image/png": "[encoded data removed]",
      "text/plain": [
       "<Figure size 720x288 with 1 Axes>"
      ]
     },
     "metadata": {
      "needs_background": "light"
     },
     "output_type": "display_data"
    }
   ],
   "source": [
    "## plotting the huber_fn function\n",
    "plt.figure(figsize=(10, 4))\n",
    "pred_vals = np.linspace(-5, 5, 400)\n",
    "losses = huber_fn(y_true=0, y_pred=pred_vals)\n",
    "plt.plot(pred_vals, losses, 'b', label='Huber')\n",
    "plt.axvline(-1, c='r', linewidth=1, label='threshold (small error)')\n",
    "plt.axvline(1, c='r', linewidth=1)\n",
    "plt.axvline(0, c='k', linewidth=2)\n",
    "plt.title('Huber Loss Function', fontsize=14)\n",
    "plt.xlabel('Predicted Values', fontsize=12)\n",
    "plt.ylabel('Huber Loss Values', fontsize=12)\n",
    "plt.grid()\n",
    "plt.legend()\n",
    "plt.show()   ## thresholds between -1, 1 ==> small error ==> squared MSE, else ==> linear MAE"
   ]
  },
  {
   "cell_type": "code",
   "execution_count": 4,
   "id": "86f7600f",
   "metadata": {},
   "outputs": [],
   "source": [
    "## create a General Class, more flexiblity\n",
    "class HuberLoss(tf.keras.losses.Loss):\n",
    "    def __init__(self, threshold, **kwargs):   ## **kwargs => to handle the main Hyperparameters\n",
    "        self.threshold = threshold\n",
    "        super().__init__(**kwargs)             ## inherit from the main class\n",
    "    \n",
    "    def call(self, y_true, y_pred):\n",
    "        ''' this function is used instead of using MSE or MAE, it combine both of them\n",
    "            when the loss is less than a specified threshold, it will be as MSE\n",
    "            else when the loss is high than specified threshold, it will be as MAE\n",
    "        '''\n",
    "        error = y_true - y_pred\n",
    "        is_small_error = tf.abs(error) < self.threshold\n",
    "        like_MSE = tf.square(error) / 2\n",
    "        like_MAE = self.threshold * tf.abs(error) - self.threshold**2 / 2\n",
    "        \n",
    "        ## when erroe is less than trheshold => then like_MSE, else like_MAE\n",
    "        return tf.where(is_small_error, like_MSE, like_MAE)\n",
    "\n",
    "    def get_config(self):\n",
    "        ''' this function is to save what model threshold is specified\n",
    "        '''\n",
    "        base_config = super().get_config()\n",
    "        return {**base_config, 'threshold': self.threshold}"
   ]
  },
  {
   "cell_type": "markdown",
   "id": "8d5faa6e",
   "metadata": {},
   "source": [
    "`Now you can build your Model, compile it and pass the (HuberLoss) class to loss hyperparameter` <br />\n",
    "`fit the Model and save it` <br />\n",
    "`When you loading the Model again, you must specify a dictionary of custom_objects`\n",
    "\n",
    "``` python\n",
    "        ## when compiling the model, then fit it, then save it\n",
    "        model.compile(loss=HuberLoss, optimizer='adam', metrics=['mae'])\n",
    "        model.fit(X_train, y_train, epochs=20, validation_data=(X_valid, y_valid))\n",
    "        model.save('my_model_with_HuberLoss.h5')\n",
    "        \n",
    "        ## when loading the model again, you must specifiy as dictionary of custom objects\n",
    "        my_model = tf.keras.models.load_model('my_model_with_HuberLoss.h5',\n",
    "                                              custom_objects={'HuberLoss': HuberLoss})\n",
    "```"
   ]
  },
  {
   "cell_type": "markdown",
   "id": "a1de2b80",
   "metadata": {},
   "source": [
    "`Now you can build your Model, compile it and pass the (HuberLoss) class to loss hyperparameter` <br />\n",
    "`fit the Model and save it` <br />\n",
    "`When you loading the Model again, you must specify a dictionary of custom_objects`\n",
    "\n",
    " python\n",
    "        ## when compiling the model, then fit it, then save it\n",
    "        model.compile(loss=HuberLoss, optimizer='adam', metrics=['mae'])\n",
    "        model.fit(X_train, y_train, epochs=20, validation_data=(X_valid, y_valid))\n",
    "        model.save('my_model_with_HuberLoss.h5')\n",
    "        \n",
    "        ## when loading the model again, you must specifiy as dictionary of custom objects\n",
    "        my_model = tf.keras.models.load_model('my_model_with_HuberLoss.h5',\n",
    "                                              custom_objects={'HuberLoss': HuberLoss})"
   ]
  },
  {
   "cell_type": "markdown",
   "id": "ddb6a390",
   "metadata": {},
   "source": [
    "------"
   ]
  },
  {
   "cell_type": "markdown",
   "id": "58fd7c97",
   "metadata": {},
   "source": [
    "## Custom Activation Function, Initializers, Regularizers, and Constraints"
   ]
  },
  {
   "cell_type": "markdown",
   "id": "5562850a",
   "metadata": {},
   "source": [
    "#### `Custom soft_plus Activation Function`\n",
    "\n",
    "$$f(x) = In(e^{x} + 1)$$"
   ]
  },
  {
   "cell_type": "code",
   "execution_count": 5,
   "id": "5359abdb",
   "metadata": {},
   "outputs": [],
   "source": [
    "## for custom Activation function\n",
    "## let's implement soft_plus Activation function\n",
    "def my_softplus(x):\n",
    "    ''' this Function is to create a custom Activation Function (soft_plus)\n",
    "    '''\n",
    "    soft_plus = tf.math.log(tf.math.exp(x) + 1.0)\n",
    "    return soft_plus"
   ]
  },
  {
   "cell_type": "code",
   "execution_count": 6,
   "id": "e0cad1d2",
   "metadata": {},
   "outputs": [
    {
     "data": {
      "image/png": "[encoded data removed]",
      "text/plain": [
       "<Figure size 720x288 with 1 Axes>"
      ]
     },
     "metadata": {
      "needs_background": "light"
     },
     "output_type": "display_data"
    }
   ],
   "source": [
    "## Visulaizing soft_plus\n",
    "plt.figure(figsize=(10, 4))\n",
    "range_soft = np.linspace(-15, 15, 1000)\n",
    "vals_soft = my_softplus(range_soft)\n",
    "plt.plot(range_soft, vals_soft, 'b', label='Soft_plus')\n",
    "plt.axvline(0, c='k', linewidth=2)\n",
    "plt.title('Soft_plus Activation Function', fontsize=14)\n",
    "plt.xlabel('Input', fontsize=12)\n",
    "plt.ylabel('Function Output', fontsize=12)\n",
    "plt.grid()\n",
    "plt.legend()\n",
    "plt.show()   "
   ]
  },
  {
   "cell_type": "markdown",
   "id": "fb236f4a",
   "metadata": {},
   "source": [
    "#### `Custom Intializers `\n",
    "`glorot_normal ==> variance = (1 / fan_avg), mean = 0`"
   ]
  },
  {
   "cell_type": "code",
   "execution_count": 7,
   "id": "99756f10",
   "metadata": {},
   "outputs": [],
   "source": [
    "## make a custom glorot_normal intializer\n",
    "def my_glorot_initializer(shape, dtype=tf.float32):\n",
    "    ''' this Function tries to make weights intialization with glorot_normal Method\n",
    "        take the shape (fan_in, fan_out)\n",
    "    '''\n",
    "    std_dev = tf.sqrt(2.0 / (shape[0] + shape[1]))\n",
    "    weights_glorot = tf.random.normal(shape, mean=0, stddev=std_dev)\n",
    "    return weights_glorot"
   ]
  },
  {
   "cell_type": "code",
   "execution_count": 8,
   "id": "b411fa4b",
   "metadata": {},
   "outputs": [
    {
     "data": {
      "image/png": "[encoded data removed]",
      "text/plain": [
       "<Figure size 432x288 with 1 Axes>"
      ]
     },
     "metadata": {
      "needs_background": "light"
     },
     "output_type": "display_data"
    }
   ],
   "source": [
    "## test this function distribution\n",
    "weights_glorot = my_glorot_initializer((300, 100), dtype=tf.float32)\n",
    "pd.DataFrame(weights_glorot[:,0]).hist(bins=50);  ## test one faeture ==> Normal Dist. ==> ok!"
   ]
  },
  {
   "cell_type": "markdown",
   "id": "ddb3644f",
   "metadata": {},
   "source": [
    "#### `L1 regularizer `"
   ]
  },
  {
   "cell_type": "code",
   "execution_count": 9,
   "id": "f71a3de0",
   "metadata": {},
   "outputs": [],
   "source": [
    "## define custom function implemetns l1_regularizer, adding loss (alpha * abs(weights) + loss)\n",
    "## np.sum() => tf.reduce_sum()\n",
    "def my_l1_regularizer(weights):\n",
    "    ''' this Function tries to add loss to the Main Loss function => (alpha * weights)\n",
    "            let alpha=0.01\n",
    "    '''\n",
    "    new_loss = tf.reduce_sum(tf.abs(weights) * 0.01)\n",
    "    return new_loss"
   ]
  },
  {
   "cell_type": "markdown",
   "id": "52b8fe93",
   "metadata": {},
   "source": [
    "#### `Positive Constraint for weights `"
   ]
  },
  {
   "cell_type": "code",
   "execution_count": 10,
   "id": "0408ba48",
   "metadata": {},
   "outputs": [],
   "source": [
    "## define custom function to make constraints for returning only postive weights\n",
    "def my_postive_weights(weights):\n",
    "    ''' this Function tries to return only postive weights\n",
    "    '''\n",
    "    postive_only_else_zero = tf.where(weights < 0, tf.zeros_like(weights), weights)\n",
    "    return postive_only_else_zero"
   ]
  },
  {
   "cell_type": "markdown",
   "id": "ec391718",
   "metadata": {},
   "source": [
    "`Now you can build your Model, pass these Function to the Model, compiling, fitting and saving the Model, but also when you load the Model again, you should specify custom_objects dictionary`\n",
    "\n",
    "``` python\n",
    "        ## when building the Model\n",
    "        model = tf.keras.models.Sequential()\n",
    "        model.add(tf.keras.layers.Dense(30, activation=my_softplus,  ## custom activation\n",
    "                         kernel_initializer=my_glorot_initializer,   ## custom initializer\n",
    "                         kernel_regularizer=my_l1_regularizer,  ## custom regularizer\n",
    "                         kernel_constraint=my_postive_weights)) ## custom constraint\n",
    "        model.compile(____)\n",
    "        model.fit(____)\n",
    "        model.save('my_model_with_customs.h5')\n",
    "                   \n",
    "        ## when loading the Model\n",
    "        my_model = tf.keras.models.load_model('my_model_with_customs.h5',\n",
    "                              custom_objects={'soft_plus':my_softplus,\n",
    "                                              'my_glorot_initializer': my_glorot_initializer,\n",
    "                                              'my_l1_regularizer' : my_l1_regularizer,\n",
    "                                              'my_postive_weights': my_postive_weights})\n",
    "        \n",
    "\n",
    "```"
   ]
  },
  {
   "cell_type": "markdown",
   "id": "76e9f533",
   "metadata": {},
   "source": [
    "## Computing Gradients using autodiff\n",
    "`using reverse-mode autodiff`"
   ]
  },
  {
   "cell_type": "markdown",
   "id": "d7835ec5",
   "metadata": {},
   "source": [
    "$$f(x) = 3 * w_1^{2} + 2 * w_1 * w_2$$"
   ]
  },
  {
   "cell_type": "code",
   "execution_count": 11,
   "id": "d74ec125",
   "metadata": {},
   "outputs": [
    {
     "data": {
      "text/plain": [
       "[<tf.Tensor: shape=(), dtype=float32, numpy=36.0>,\n",
       " <tf.Tensor: shape=(), dtype=float32, numpy=10.0>]"
      ]
     },
     "execution_count": 11,
     "metadata": {},
     "output_type": "execute_result"
    }
   ],
   "source": [
    "## define the function contains the equation\n",
    "def f(w1, w2):\n",
    "    return 3 * w1**2 + 2 * w1 * w2\n",
    "\n",
    "w1, w2 = tf.Variable(5.), tf.Variable(3.)\n",
    "## when (w1, w2) = (5, 3)\n",
    "## partial_derivative regard to w1 ==> 36\n",
    "## partial_derivative regard to w1 ==> 10\n",
    "## Jacobian vector = [36, 10]\n",
    "\n",
    "## using GradientTape\n",
    "## persistent=True  ==> to be able to call it more times without raising errors\n",
    "with tf.GradientTape(persistent=True) as tape:\n",
    "    z = f(w1, w2)\n",
    "\n",
    "jacob_vector = tape.gradient(z, [w1, w2])\n",
    "jacob_vector ### [36., 10] ===> it is True ==> magic!"
   ]
  },
  {
   "cell_type": "markdown",
   "id": "b8fac922",
   "metadata": {},
   "source": [
    "## Done !"
   ]
  },
  {
   "cell_type": "code",
   "execution_count": null,
   "id": "de3ed690",
   "metadata": {},
   "outputs": [],
   "source": []
  }
 ],
 "metadata": {
  "kernelspec": {
   "display_name": "Python 3 (ipykernel)",
   "language": "python",
   "name": "python3"
  },
  "language_info": {
   "codemirror_mode": {
    "name": "ipython",
    "version": 3
   },
   "file_extension": ".py",
   "mimetype": "text/x-python",
   "name": "python",
   "nbconvert_exporter": "python",
   "pygments_lexer": "ipython3",
   "version": "3.8.8"
  }
 },
 "nbformat": 4,
 "nbformat_minor": 5
}
