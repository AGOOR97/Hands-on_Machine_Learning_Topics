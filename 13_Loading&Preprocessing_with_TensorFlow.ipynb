{
 "cells": [
  {
   "cell_type": "code",
   "execution_count": 1,
   "id": "43ef49fd",
   "metadata": {},
   "outputs": [],
   "source": [
    "## Most Important\n",
    "import numpy as np\n",
    "import pandas as pd\n",
    "import matplotlib.pyplot as plt\n",
    "%matplotlib inline\n",
    "import seaborn as sns\n",
    "\n",
    "## less Important\n",
    "from functools import partial\n",
    "import os\n",
    "from scipy import stats\n",
    "import missingno as msno\n",
    "import joblib\n",
    "import tarfile\n",
    "import shutil\n",
    "import urllib\n",
    "\n",
    "## Sklearn\n",
    "from sklearn import datasets\n",
    "## Preprocessing\n",
    "from sklearn.preprocessing import StandardScaler\n",
    "from sklearn.model_selection import train_test_split\n",
    "## Metrics\n",
    "from sklearn.metrics import accuracy_score\n",
    "\n",
    "## tensorflow & Keras\n",
    "import tensorflow as tf    ## i will use tf for every thing and for keras using tf.keras\n",
    "import tensorflow_datasets as tfds"
   ]
  },
  {
   "cell_type": "code",
   "execution_count": 2,
   "id": "22a1d716",
   "metadata": {},
   "outputs": [],
   "source": [
    "np.random.seed(42)\n",
    "tf.random.set_seed(42)"
   ]
  },
  {
   "cell_type": "markdown",
   "id": "8e0a031d",
   "metadata": {},
   "source": [
    "## Data API in TensorFlow\n",
    "`Understanding Data API`"
   ]
  },
  {
   "cell_type": "code",
   "execution_count": 3,
   "id": "2e97ae9a",
   "metadata": {},
   "outputs": [
    {
     "name": "stdout",
     "output_type": "stream",
     "text": [
      "tf.Tensor(0, shape=(), dtype=int32)\n",
      "tf.Tensor(1, shape=(), dtype=int32)\n",
      "tf.Tensor(2, shape=(), dtype=int32)\n",
      "tf.Tensor(3, shape=(), dtype=int32)\n",
      "tf.Tensor(4, shape=(), dtype=int32)\n",
      "tf.Tensor(5, shape=(), dtype=int32)\n",
      "tf.Tensor(6, shape=(), dtype=int32)\n",
      "tf.Tensor(7, shape=(), dtype=int32)\n",
      "tf.Tensor(8, shape=(), dtype=int32)\n",
      "tf.Tensor(9, shape=(), dtype=int32)\n"
     ]
    }
   ],
   "source": [
    "## create a Dataset from a collection\n",
    "X_new = tf.range(10)\n",
    "dummy_1 = tf.data.Dataset.from_tensor_slices(X_new)  ## only returns transformation\n",
    "\n",
    "## in order to see these values you should iterate over them (Action), or casting them to list\n",
    "for value in dummy_1:\n",
    "    print(value)"
   ]
  },
  {
   "cell_type": "code",
   "execution_count": 4,
   "id": "8136b7c6",
   "metadata": {},
   "outputs": [
    {
     "name": "stdout",
     "output_type": "stream",
     "text": [
      "tf.Tensor([0 1 2 3 4 5 6], shape=(7,), dtype=int32)\n",
      "tf.Tensor([7 8 9 0 1 2 3], shape=(7,), dtype=int32)\n",
      "tf.Tensor([4 5 6 7 8 9 0], shape=(7,), dtype=int32)\n",
      "tf.Tensor([1 2 3 4 5 6 7], shape=(7,), dtype=int32)\n",
      "tf.Tensor([8 9], shape=(2,), dtype=int32)\n"
     ]
    }
   ],
   "source": [
    "## you can repeat then batch for specific number\n",
    "\n",
    "## will repeat 3 times, then take each 7 as a batch\n",
    "## you can drop_remainder=True  ==> to delete uncompleted batches\n",
    "dummy_2 = dummy_1.repeat(3).batch(7)\n",
    "for value in dummy_2:\n",
    "    print(value)"
   ]
  },
  {
   "cell_type": "code",
   "execution_count": 68,
   "id": "2d78b398",
   "metadata": {},
   "outputs": [
    {
     "name": "stdout",
     "output_type": "stream",
     "text": [
      "tf.Tensor([6 5 8 3 0 7 9], shape=(7,), dtype=int32)\n",
      "tf.Tensor([4 2 1 5 1 9 6], shape=(7,), dtype=int32)\n",
      "tf.Tensor([3 8 0 4 7 2 2], shape=(7,), dtype=int32)\n",
      "tf.Tensor([5 8 7 3 9 6 1], shape=(7,), dtype=int32)\n",
      "\n"
     ]
    },
    {
     "data": {
      "text/plain": [
       "array([[2, 3, 4, 7, 0, 6, 8],\n",
       "       [5, 1, 9, 7, 2, 8, 1],\n",
       "       [5, 3, 9, 0, 6, 4, 0],\n",
       "       [7, 4, 3, 9, 5, 1, 6]])"
      ]
     },
     "execution_count": 68,
     "metadata": {},
     "output_type": "execute_result"
    }
   ],
   "source": [
    "## you can repeat then batch for specific number\n",
    "\n",
    "## will repeat 3 times, then take each 7 as a batch\n",
    "## you can drop_remainder=True  ==> to delete uncompleted batches\n",
    "## you can also shuffle\n",
    "dummy_3 = dummy_1.shuffle(buffer_size=100, seed=123).repeat(3).batch(7, drop_remainder=True)\n",
    "for value in dummy_3:\n",
    "    print(value)\n",
    "\n",
    "print()\n",
    "\n",
    "## other Method\n",
    "outs_3 = tf.squeeze(list(dummy_3)).numpy()\n",
    "outs_3  \n",
    "## without looping, diffrent outs because of shuffle,\n",
    "## to make this not happende set ==>  , reshuffle_each_iteration=False"
   ]
  },
  {
   "cell_type": "code",
   "execution_count": 6,
   "id": "94efc55d",
   "metadata": {},
   "outputs": [
    {
     "name": "stdout",
     "output_type": "stream",
     "text": [
      "tf.Tensor([ 0  2  4  6  8 10 12], shape=(7,), dtype=int32)\n",
      "tf.Tensor([14 16 18  0  2  4  6], shape=(7,), dtype=int32)\n",
      "tf.Tensor([ 8 10 12 14 16 18  0], shape=(7,), dtype=int32)\n",
      "tf.Tensor([ 2  4  6  8 10 12 14], shape=(7,), dtype=int32)\n",
      "tf.Tensor([16 18], shape=(2,), dtype=int32)\n"
     ]
    }
   ],
   "source": [
    "## you can map, filter, reduce or many other transformations\n",
    "dummy_4 = dummy_2.map(lambda x: x*2)\n",
    "for value in dummy_4:\n",
    "    print(value)"
   ]
  },
  {
   "cell_type": "code",
   "execution_count": 7,
   "id": "fa442b7c",
   "metadata": {},
   "outputs": [
    {
     "name": "stdout",
     "output_type": "stream",
     "text": [
      "WARNING:tensorflow:From C:\\Users\\moham\\AppData\\Local\\Temp/ipykernel_14988/1394358411.py:2: unbatch (from tensorflow.python.data.experimental.ops.batching) is deprecated and will be removed in a future version.\n",
      "Instructions for updating:\n",
      "Use `tf.data.Dataset.unbatch()`.\n",
      "tf.Tensor(0, shape=(), dtype=int32)\n",
      "tf.Tensor(1, shape=(), dtype=int32)\n",
      "tf.Tensor(2, shape=(), dtype=int32)\n",
      "tf.Tensor(3, shape=(), dtype=int32)\n",
      "tf.Tensor(4, shape=(), dtype=int32)\n",
      "tf.Tensor(5, shape=(), dtype=int32)\n",
      "tf.Tensor(6, shape=(), dtype=int32)\n",
      "tf.Tensor(7, shape=(), dtype=int32)\n",
      "tf.Tensor(8, shape=(), dtype=int32)\n",
      "tf.Tensor(9, shape=(), dtype=int32)\n",
      "tf.Tensor(0, shape=(), dtype=int32)\n",
      "tf.Tensor(1, shape=(), dtype=int32)\n",
      "tf.Tensor(2, shape=(), dtype=int32)\n",
      "tf.Tensor(3, shape=(), dtype=int32)\n",
      "tf.Tensor(4, shape=(), dtype=int32)\n",
      "tf.Tensor(5, shape=(), dtype=int32)\n",
      "tf.Tensor(6, shape=(), dtype=int32)\n",
      "tf.Tensor(7, shape=(), dtype=int32)\n",
      "tf.Tensor(8, shape=(), dtype=int32)\n",
      "tf.Tensor(9, shape=(), dtype=int32)\n",
      "tf.Tensor(0, shape=(), dtype=int32)\n",
      "tf.Tensor(1, shape=(), dtype=int32)\n",
      "tf.Tensor(2, shape=(), dtype=int32)\n",
      "tf.Tensor(3, shape=(), dtype=int32)\n",
      "tf.Tensor(4, shape=(), dtype=int32)\n",
      "tf.Tensor(5, shape=(), dtype=int32)\n",
      "tf.Tensor(6, shape=(), dtype=int32)\n",
      "tf.Tensor(7, shape=(), dtype=int32)\n",
      "tf.Tensor(8, shape=(), dtype=int32)\n",
      "tf.Tensor(9, shape=(), dtype=int32)\n"
     ]
    }
   ],
   "source": [
    "## you can unbatch these batches\n",
    "dummy_5 = dummy_2.apply(tf.data.experimental.unbatch())\n",
    "for value in dummy_5:\n",
    "    print(value)"
   ]
  },
  {
   "cell_type": "code",
   "execution_count": 8,
   "id": "a2dd10fe",
   "metadata": {},
   "outputs": [
    {
     "data": {
      "text/plain": [
       "array([6, 7, 8, 9])"
      ]
     },
     "execution_count": 8,
     "metadata": {},
     "output_type": "execute_result"
    }
   ],
   "source": [
    "## you can make filter\n",
    "dummy_6 = dummy_1.filter(lambda x: x>5)\n",
    "outs_6 = tf.squeeze(list(dummy_6)).numpy()\n",
    "outs_6  ## final output without looping"
   ]
  },
  {
   "cell_type": "markdown",
   "id": "9ad2ac1d",
   "metadata": {},
   "source": [
    "## Using California Housing Dataset \n",
    "#### `understanding Interleave, shuffle, ... and other`"
   ]
  },
  {
   "cell_type": "code",
   "execution_count": 9,
   "id": "7f23b7e1",
   "metadata": {},
   "outputs": [],
   "source": [
    "## load housing dataset\n",
    "housing_dataset = datasets.fetch_california_housing()\n",
    "\n",
    "df_housing = pd.DataFrame(np.c_[housing_dataset['data'], housing_dataset['target']], \n",
    "                         columns=housing_dataset['feature_names']+['target'])\n",
    "\n",
    "X = df_housing.iloc[:, :-1]\n",
    "y = df_housing.iloc[:, -1]"
   ]
  },
  {
   "cell_type": "code",
   "execution_count": 10,
   "id": "ebb9c308",
   "metadata": {},
   "outputs": [],
   "source": [
    "## split the data\n",
    "X_train_full, X_test, y_train_full, y_test = train_test_split(X, y, train_size=0.20, \n",
    "                                                              random_state=42)\n",
    "\n",
    "X_train, X_valid, y_train, y_valid = train_test_split(X_train_full, y_train_full, test_size=0.2,\n",
    "                                                             random_state=42)\n",
    "\n",
    "## to get only the mean and std of X_train for each feature\n",
    "X_train_mean = list(X_train.mean())\n",
    "X_train_std = list(X_train.std())\n",
    "\n",
    "## or from fitting without transformation by standardscaler\n",
    "scaler = StandardScaler()\n",
    "scaler.fit(X_train)\n",
    "X_mean = scaler.mean_    ## => equal to == X_train_mean\n",
    "X_std = scaler.scale_     ## equal to == X_train_std"
   ]
  },
  {
   "cell_type": "markdown",
   "id": "6c8c5e29",
   "metadata": {},
   "source": [
    "### Split the Dataset into multiple csv Files"
   ]
  },
  {
   "cell_type": "code",
   "execution_count": 11,
   "id": "2352bc65",
   "metadata": {},
   "outputs": [],
   "source": [
    "## craete a function to split data for each set to multiple csv files\n",
    "def split_to_mulitple_csv(dataset, dataset_name='train', split_parts=10):\n",
    "    ''' this function tries to split the dataset with split_parts required to multiple csv files\n",
    "    Args:\n",
    "    ****\n",
    "    (dataset : 2d array) ==> required dataset to be split\n",
    "    (dataset_name : string) ==> name to be used in creating directory\n",
    "    (split_parts : int) ==> required number of splits\n",
    "    '''\n",
    "    housing_dir_path = os.path.join('dataset_for_split', 'split_housing')\n",
    "    if not os.path.isdir(housing_dir_path):\n",
    "        os.makedirs(housing_dir_path)\n",
    "    each_dir_path = os.path.join(housing_dir_path, dataset_name)\n",
    "    if not os.path.isdir(each_dir_path):\n",
    "        os.makedirs(each_dir_path)\n",
    "        \n",
    "    file_paths = []\n",
    "    \n",
    "    split_data = np.array_split(dataset, split_parts)\n",
    "    \n",
    "    for chunk in range(len(split_data)):\n",
    "        path_each = os.path.join(each_dir_path, f'{dataset_name}_{chunk}.csv')\n",
    "        file_paths.append(path_each)   ## append to filepaths\n",
    "        split_data[chunk].to_csv(path_each, index=False)  ## save to csv\n",
    "        \n",
    "    return file_paths"
   ]
  },
  {
   "cell_type": "code",
   "execution_count": 12,
   "id": "a6402143",
   "metadata": {},
   "outputs": [],
   "source": [
    "## before calling the function ==> make features and target in the same dataframe\n",
    "col_names = housing_dataset['feature_names'] + ['target']\n",
    "train_data = pd.DataFrame(np.c_[X_train, y_train], columns=col_names).reset_index(drop=True)\n",
    "valid_data = pd.DataFrame(np.c_[X_valid, y_valid], columns=col_names).reset_index(drop=True)\n",
    "test_data = pd.DataFrame(np.c_[X_test, y_test], columns=col_names).reset_index(drop=True)\n",
    "\n",
    "## call the function for splitting ==> train, valid, test\n",
    "train_filePaths = split_to_mulitple_csv(train_data, dataset_name='train', split_parts=20)\n",
    "valid_filePaths = split_to_mulitple_csv(valid_data, dataset_name='valid', split_parts=10)\n",
    "test_filePaths = split_to_mulitple_csv(test_data, dataset_name='test', split_parts=10)"
   ]
  },
  {
   "cell_type": "code",
   "execution_count": 13,
   "id": "170c5179",
   "metadata": {},
   "outputs": [
    {
     "data": {
      "text/plain": [
       "['dataset_for_split\\\\split_housing\\\\train\\\\train_0.csv',\n",
       " 'dataset_for_split\\\\split_housing\\\\train\\\\train_1.csv',\n",
       " 'dataset_for_split\\\\split_housing\\\\train\\\\train_2.csv',\n",
       " 'dataset_for_split\\\\split_housing\\\\train\\\\train_3.csv',\n",
       " 'dataset_for_split\\\\split_housing\\\\train\\\\train_4.csv',\n",
       " 'dataset_for_split\\\\split_housing\\\\train\\\\train_5.csv',\n",
       " 'dataset_for_split\\\\split_housing\\\\train\\\\train_6.csv',\n",
       " 'dataset_for_split\\\\split_housing\\\\train\\\\train_7.csv',\n",
       " 'dataset_for_split\\\\split_housing\\\\train\\\\train_8.csv',\n",
       " 'dataset_for_split\\\\split_housing\\\\train\\\\train_9.csv',\n",
       " 'dataset_for_split\\\\split_housing\\\\train\\\\train_10.csv',\n",
       " 'dataset_for_split\\\\split_housing\\\\train\\\\train_11.csv',\n",
       " 'dataset_for_split\\\\split_housing\\\\train\\\\train_12.csv',\n",
       " 'dataset_for_split\\\\split_housing\\\\train\\\\train_13.csv',\n",
       " 'dataset_for_split\\\\split_housing\\\\train\\\\train_14.csv',\n",
       " 'dataset_for_split\\\\split_housing\\\\train\\\\train_15.csv',\n",
       " 'dataset_for_split\\\\split_housing\\\\train\\\\train_16.csv',\n",
       " 'dataset_for_split\\\\split_housing\\\\train\\\\train_17.csv',\n",
       " 'dataset_for_split\\\\split_housing\\\\train\\\\train_18.csv',\n",
       " 'dataset_for_split\\\\split_housing\\\\train\\\\train_19.csv']"
      ]
     },
     "execution_count": 13,
     "metadata": {},
     "output_type": "execute_result"
    }
   ],
   "source": [
    "train_filePaths"
   ]
  },
  {
   "cell_type": "code",
   "execution_count": 70,
   "id": "8b183e2b",
   "metadata": {
    "scrolled": true
   },
   "outputs": [
    {
     "data": {
      "text/html": [
       "<div>\n",
       "<style scoped>\n",
       "    .dataframe tbody tr th:only-of-type {\n",
       "        vertical-align: middle;\n",
       "    }\n",
       "\n",
       "    .dataframe tbody tr th {\n",
       "        vertical-align: top;\n",
       "    }\n",
       "\n",
       "    .dataframe thead th {\n",
       "        text-align: right;\n",
       "    }\n",
       "</style>\n",
       "<table border=\"1\" class=\"dataframe\">\n",
       "  <thead>\n",
       "    <tr style=\"text-align: right;\">\n",
       "      <th></th>\n",
       "      <th>MedInc</th>\n",
       "      <th>HouseAge</th>\n",
       "      <th>AveRooms</th>\n",
       "      <th>AveBedrms</th>\n",
       "      <th>Population</th>\n",
       "      <th>AveOccup</th>\n",
       "      <th>Latitude</th>\n",
       "      <th>Longitude</th>\n",
       "      <th>target</th>\n",
       "    </tr>\n",
       "  </thead>\n",
       "  <tbody>\n",
       "    <tr>\n",
       "      <th>0</th>\n",
       "      <td>2.5156</td>\n",
       "      <td>18.0</td>\n",
       "      <td>6.139303</td>\n",
       "      <td>1.323383</td>\n",
       "      <td>543.0</td>\n",
       "      <td>2.701493</td>\n",
       "      <td>39.79</td>\n",
       "      <td>-120.53</td>\n",
       "      <td>0.719</td>\n",
       "    </tr>\n",
       "    <tr>\n",
       "      <th>1</th>\n",
       "      <td>3.2604</td>\n",
       "      <td>30.0</td>\n",
       "      <td>5.551020</td>\n",
       "      <td>1.081633</td>\n",
       "      <td>531.0</td>\n",
       "      <td>3.612245</td>\n",
       "      <td>37.61</td>\n",
       "      <td>-120.76</td>\n",
       "      <td>0.879</td>\n",
       "    </tr>\n",
       "    <tr>\n",
       "      <th>2</th>\n",
       "      <td>5.6094</td>\n",
       "      <td>24.0</td>\n",
       "      <td>6.290141</td>\n",
       "      <td>0.977465</td>\n",
       "      <td>1162.0</td>\n",
       "      <td>3.273239</td>\n",
       "      <td>33.85</td>\n",
       "      <td>-118.04</td>\n",
       "      <td>2.792</td>\n",
       "    </tr>\n",
       "    <tr>\n",
       "      <th>3</th>\n",
       "      <td>1.2413</td>\n",
       "      <td>11.0</td>\n",
       "      <td>3.967700</td>\n",
       "      <td>1.177003</td>\n",
       "      <td>2812.0</td>\n",
       "      <td>3.633075</td>\n",
       "      <td>32.69</td>\n",
       "      <td>-117.10</td>\n",
       "      <td>0.831</td>\n",
       "    </tr>\n",
       "    <tr>\n",
       "      <th>4</th>\n",
       "      <td>5.3506</td>\n",
       "      <td>33.0</td>\n",
       "      <td>5.322957</td>\n",
       "      <td>0.974060</td>\n",
       "      <td>1837.0</td>\n",
       "      <td>2.382620</td>\n",
       "      <td>37.52</td>\n",
       "      <td>-122.29</td>\n",
       "      <td>3.881</td>\n",
       "    </tr>\n",
       "  </tbody>\n",
       "</table>\n",
       "</div>"
      ],
      "text/plain": [
       "   MedInc  HouseAge  AveRooms  AveBedrms  Population  AveOccup  Latitude  \\\n",
       "0  2.5156      18.0  6.139303   1.323383       543.0  2.701493     39.79   \n",
       "1  3.2604      30.0  5.551020   1.081633       531.0  3.612245     37.61   \n",
       "2  5.6094      24.0  6.290141   0.977465      1162.0  3.273239     33.85   \n",
       "3  1.2413      11.0  3.967700   1.177003      2812.0  3.633075     32.69   \n",
       "4  5.3506      33.0  5.322957   0.974060      1837.0  2.382620     37.52   \n",
       "\n",
       "   Longitude  target  \n",
       "0    -120.53   0.719  \n",
       "1    -120.76   0.879  \n",
       "2    -118.04   2.792  \n",
       "3    -117.10   0.831  \n",
       "4    -122.29   3.881  "
      ]
     },
     "execution_count": 70,
     "metadata": {},
     "output_type": "execute_result"
    }
   ],
   "source": [
    "pd.read_csv(train_filePaths[0]).head()"
   ]
  },
  {
   "cell_type": "markdown",
   "id": "8328a09b",
   "metadata": {},
   "source": [
    "### Building an Input Pipeline\n",
    "#### `interleave  between train_files`"
   ]
  },
  {
   "cell_type": "code",
   "execution_count": 15,
   "id": "994af89a",
   "metadata": {},
   "outputs": [
    {
     "data": {
      "text/plain": [
       "[<tf.Tensor: shape=(), dtype=string, numpy=b'dataset_for_split\\\\split_housing\\\\train\\\\train_5.csv'>,\n",
       " <tf.Tensor: shape=(), dtype=string, numpy=b'dataset_for_split\\\\split_housing\\\\train\\\\train_16.csv'>,\n",
       " <tf.Tensor: shape=(), dtype=string, numpy=b'dataset_for_split\\\\split_housing\\\\train\\\\train_11.csv'>,\n",
       " <tf.Tensor: shape=(), dtype=string, numpy=b'dataset_for_split\\\\split_housing\\\\train\\\\train_1.csv'>,\n",
       " <tf.Tensor: shape=(), dtype=string, numpy=b'dataset_for_split\\\\split_housing\\\\train\\\\train_18.csv'>,\n",
       " <tf.Tensor: shape=(), dtype=string, numpy=b'dataset_for_split\\\\split_housing\\\\train\\\\train_13.csv'>,\n",
       " <tf.Tensor: shape=(), dtype=string, numpy=b'dataset_for_split\\\\split_housing\\\\train\\\\train_9.csv'>,\n",
       " <tf.Tensor: shape=(), dtype=string, numpy=b'dataset_for_split\\\\split_housing\\\\train\\\\train_6.csv'>,\n",
       " <tf.Tensor: shape=(), dtype=string, numpy=b'dataset_for_split\\\\split_housing\\\\train\\\\train_10.csv'>,\n",
       " <tf.Tensor: shape=(), dtype=string, numpy=b'dataset_for_split\\\\split_housing\\\\train\\\\train_17.csv'>,\n",
       " <tf.Tensor: shape=(), dtype=string, numpy=b'dataset_for_split\\\\split_housing\\\\train\\\\train_0.csv'>,\n",
       " <tf.Tensor: shape=(), dtype=string, numpy=b'dataset_for_split\\\\split_housing\\\\train\\\\train_15.csv'>,\n",
       " <tf.Tensor: shape=(), dtype=string, numpy=b'dataset_for_split\\\\split_housing\\\\train\\\\train_2.csv'>,\n",
       " <tf.Tensor: shape=(), dtype=string, numpy=b'dataset_for_split\\\\split_housing\\\\train\\\\train_12.csv'>,\n",
       " <tf.Tensor: shape=(), dtype=string, numpy=b'dataset_for_split\\\\split_housing\\\\train\\\\train_7.csv'>,\n",
       " <tf.Tensor: shape=(), dtype=string, numpy=b'dataset_for_split\\\\split_housing\\\\train\\\\train_19.csv'>,\n",
       " <tf.Tensor: shape=(), dtype=string, numpy=b'dataset_for_split\\\\split_housing\\\\train\\\\train_4.csv'>,\n",
       " <tf.Tensor: shape=(), dtype=string, numpy=b'dataset_for_split\\\\split_housing\\\\train\\\\train_8.csv'>,\n",
       " <tf.Tensor: shape=(), dtype=string, numpy=b'dataset_for_split\\\\split_housing\\\\train\\\\train_14.csv'>,\n",
       " <tf.Tensor: shape=(), dtype=string, numpy=b'dataset_for_split\\\\split_housing\\\\train\\\\train_3.csv'>]"
      ]
     },
     "execution_count": 15,
     "metadata": {},
     "output_type": "execute_result"
    }
   ],
   "source": [
    "train_dataset_filePaths = tf.data.Dataset.list_files(train_filePaths, shuffle=True, seed=42)\n",
    "[*train_dataset_filePaths]  ## shuffle these 20 csv files"
   ]
  },
  {
   "cell_type": "code",
   "execution_count": 16,
   "id": "f9c566af",
   "metadata": {},
   "outputs": [
    {
     "name": "stdout",
     "output_type": "stream",
     "text": [
      "b'3.8029,35.0,5.641379310344828,1.0528735632183908,1110.0,2.5517241379310347,34.11,-118.02,4.148'\n",
      "b'2.1793,39.0,3.932098765432099,0.9845679012345679,1362.0,4.203703703703703,33.99,-118.25,1.079'\n",
      "b'4.875,40.0,5.181818181818182,1.0101010101010102,399.0,4.03030303030303,33.91,-118.1,1.676'\n",
      "b'1.9014,24.0,5.024326672458732,1.0912250217202433,1990.0,1.7289313640312771,33.7,-117.19,0.835'\n",
      "b'0.9318,35.0,2.803339517625232,1.1001855287569573,914.0,1.6957328385899815,33.78,-118.19,1.875'\n"
     ]
    }
   ],
   "source": [
    "## you can call interleave method to read from five files at a time and interleave their lines\n",
    "## skipping the first line as it is a header\n",
    "## cycle_length to select the number to read from files at a time\n",
    "## num_parallel_calls=True ==> to use parallelism instead of sequential (to read files in parallel)\n",
    "\n",
    "n_readers = 10  ## interleave will take 10 files at time\n",
    "train_dataset = train_dataset_filePaths.interleave(\n",
    "                            lambda filepath: tf.data.TextLineDataset(filepath).skip(1), \n",
    "                            cycle_length=n_readers, num_parallel_calls=n_readers)\n",
    "\n",
    "for line in train_dataset.take(5):\n",
    "    print(line.numpy())   ## need to parsed as it is byte string"
   ]
  },
  {
   "cell_type": "code",
   "execution_count": 17,
   "id": "fb5d7ccf",
   "metadata": {},
   "outputs": [
    {
     "name": "stdout",
     "output_type": "stream",
     "text": [
      "old shape => (3302, 9)\n",
      "new shape is => 3302\n"
     ]
    }
   ],
   "source": [
    "## check shape of train_dataset\n",
    "\n",
    "# old is\n",
    "print('old shape =>', train_data.shape)\n",
    "\n",
    "# new is\n",
    "print('new shape is =>', len(tf.squeeze(list(train_dataset))))  ## the same ok"
   ]
  },
  {
   "cell_type": "markdown",
   "id": "ddbd8445",
   "metadata": {},
   "source": [
    "#### `Preprocessing the data to solve byte string problem`"
   ]
  },
  {
   "cell_type": "code",
   "execution_count": 18,
   "id": "41b7a24c",
   "metadata": {},
   "outputs": [],
   "source": [
    "def preprocess(line):\n",
    "    ''' this function tries to preprocess and parse the output from byte string to flaot\n",
    "    '''\n",
    "    n_inputs = len(X_mean)  ## 8 fetures\n",
    "    defs = [0.] * n_inputs + [tf.constant([], dtype=tf.float32)]  ## defalut datatypes\n",
    "    fields = tf.io.decode_csv(line, record_defaults=defs) ## Convert CSV records to tensors \n",
    "\n",
    "    features = tf.stack(fields[:-1])\n",
    "    label = tf.stack(fields[-1:])\n",
    "    \n",
    "    ## Normalize the data\n",
    "    features_norm = (features - X_train_mean) / X_train_std\n",
    "    \n",
    "    return features_norm, label"
   ]
  },
  {
   "cell_type": "code",
   "execution_count": 19,
   "id": "3ec64666",
   "metadata": {},
   "outputs": [
    {
     "data": {
      "text/plain": [
       "(<tf.Tensor: shape=(8,), dtype=float32, numpy=\n",
       " array([-0.03542254,  0.51437455,  0.0494825 , -0.090136  , -0.26611662,\n",
       "        -0.05940131, -0.7260594 ,  0.78286725], dtype=float32)>,\n",
       " <tf.Tensor: shape=(1,), dtype=float32, numpy=array([4.148], dtype=float32)>)"
      ]
     },
     "execution_count": 19,
     "metadata": {},
     "output_type": "execute_result"
    }
   ],
   "source": [
    "line_test = b'3.8029,35.0,5.641379310344828,1.0528735632183908,1110.0,2.5517241379310347,34.11,-118.02,4.148'\n",
    "preprocess(line_test)    ## seems good => that what i need"
   ]
  },
  {
   "cell_type": "markdown",
   "id": "c4f29cda",
   "metadata": {},
   "source": [
    "#### `Putting everything together`\n",
    "\n",
    "1. read from list files\n",
    "2. interleave between these list files\n",
    "3. preprocess the output with the previous function\n",
    "4. shuffle, repeat, batch, and prefetch data"
   ]
  },
  {
   "cell_type": "code",
   "execution_count": 71,
   "id": "82ee5e5e",
   "metadata": {},
   "outputs": [],
   "source": [
    "def putting_all_step_together(file_paths, n_readers=5, n_shuffle=5000, n_batch_size=32):\n",
    "    ''' this function tries to put all steps of preprocessing the data which splitted\n",
    "        to multiple csv files specially for big dataset which does not fit in memory\n",
    "        reading from list files and interleave between them, preprocess the output as the \n",
    "        ouput is formatted as byte string, then shuffle, repeat, batch and prefetch\n",
    "    Args:\n",
    "    *****\n",
    "        (filepath: string) ==> list of files containing the file paths of required dataset\n",
    "        (n_readers : int) ==> number of files, tensorflow interleave them at a time\n",
    "        (n_shuffle : int) ==> buffer size of shuffle\n",
    "        (n_batch_size : int) ==> number of batch_size\n",
    "    Returns:\n",
    "    ********\n",
    "        the final dataset\n",
    "    '''\n",
    "    data_filePaths = tf.data.Dataset.list_files(file_paths)  # reading from list files\n",
    "    dataset = data_filePaths.interleave(     ## interleave, skip the header, using n_readers\n",
    "                lambda filepath: tf.data.TextLineDataset(filepath).skip(1), \n",
    "                cycle_length=n_readers, num_parallel_calls=n_readers) \n",
    "    \n",
    "    dataset = dataset.map(preprocess, num_parallel_calls=n_readers)  ## mapping to the above function\n",
    "    dataset = dataset.shuffle(buffer_size=n_shuffle, seed=123).repeat(1)\n",
    "    dataset = dataset.batch(n_batch_size).prefetch(1)\n",
    "    return dataset"
   ]
  },
  {
   "cell_type": "code",
   "execution_count": 21,
   "id": "54f5f9e7",
   "metadata": {},
   "outputs": [],
   "source": [
    "## final preprocessing on dataset\n",
    "train_data_final = putting_all_step_together(train_filePaths)\n",
    "valid_data_final = putting_all_step_together(valid_filePaths)\n",
    "test_data_final = putting_all_step_together(test_filePaths)"
   ]
  },
  {
   "cell_type": "code",
   "execution_count": 22,
   "id": "b6c49e12",
   "metadata": {
    "collapsed": true
   },
   "outputs": [
    {
     "name": "stdout",
     "output_type": "stream",
     "text": [
      "(<tf.Tensor: shape=(32, 8), dtype=float32, numpy=\n",
      "array([[ 7.71730185e-01,  8.31815004e-01,  5.37235618e-01,\n",
      "        -5.16370423e-02, -4.56512392e-01, -6.21708259e-02,\n",
      "         1.05110610e+00, -1.35011792e+00],\n",
      "       [ 2.12278366e+00, -1.94578886e+00, -1.11743204e-01,\n",
      "        -1.80651590e-01, -7.45305955e-01, -5.60712181e-02,\n",
      "        -9.35411751e-01,  8.77332509e-01],\n",
      "       [ 1.17703581e+00,  4.35014457e-01,  1.19843662e-01,\n",
      "        -3.66109997e-01, -4.84511763e-01,  4.77443114e-02,\n",
      "        -8.51670802e-01,  8.52474809e-01],\n",
      "       [ 5.62710941e-01, -9.93467510e-01,  1.71364024e-02,\n",
      "        -3.88409317e-01, -6.52508020e-01, -3.07168253e-03,\n",
      "        -7.26059377e-01,  1.09610140e+00],\n",
      "       [ 2.48003170e-01, -7.55387187e-01, -8.90222937e-02,\n",
      "        -8.50467235e-02, -9.33204815e-02, -8.66049826e-02,\n",
      "        -7.30712652e-01,  9.56886232e-01],\n",
      "       [-4.36117113e-01, -4.37946737e-01, -4.38922763e-01,\n",
      "        -6.58479556e-02,  2.11623025e+00, -4.38315533e-02,\n",
      "        -8.98192763e-01,  8.77332509e-01],\n",
      "       [ 1.11274242e+00, -4.37946737e-01,  3.06655914e-01,\n",
      "        -6.41502365e-02,  2.29072347e-01,  2.26610731e-02,\n",
      "        -7.53973663e-01,  7.38117337e-01],\n",
      "       [-6.82391882e-01,  5.93734682e-01, -1.11683030e-02,\n",
      "        -8.55446681e-02, -1.39719442e-01, -2.89383661e-02,\n",
      "        -1.37737739e+00,  1.25520504e+00],\n",
      "       [ 1.48445204e-01,  5.93734682e-01,  8.64585266e-02,\n",
      "        -1.48351058e-01, -1.94918215e-01, -2.77873967e-02,\n",
      "        -8.51670802e-01,  7.13255882e-01],\n",
      "       [-1.02995396e+00, -1.46962821e+00, -5.38331926e-01,\n",
      "         1.46076418e-02, -5.17214052e-02,  6.69426769e-02,\n",
      "        -8.47019315e-01,  6.48621321e-01],\n",
      "       [-8.33877265e-01, -4.37946737e-01, -2.47379486e-02,\n",
      "         2.11495206e-01,  3.94765623e-02, -8.16936642e-02,\n",
      "        -3.77139449e-01, -4.25327003e-01],\n",
      "       [ 3.08995396e-01, -1.15218771e+00,  1.08162664e-01,\n",
      "        -1.37113348e-01,  1.03065455e+00, -3.34665738e-02,\n",
      "         1.34885085e+00, -8.67834032e-01],\n",
      "       [ 1.37211704e+00,  5.14374554e-01, -1.61806624e-02,\n",
      "        -2.93113738e-01, -8.46103728e-01, -2.98038460e-02,\n",
      "        -8.37714553e-01,  6.28732920e-01],\n",
      "       [-9.14623976e-01,  1.86349642e+00, -5.59919477e-01,\n",
      "        -1.99886680e-01, -9.70900953e-01, -5.69613762e-02,\n",
      "        -7.16754675e-01,  6.68509722e-01],\n",
      "       [ 1.19573422e-01,  5.14374554e-01, -3.13916683e-01,\n",
      "        -2.36475170e-01, -4.44512665e-01,  1.64022073e-02,\n",
      "        -7.35364139e-01,  7.58005738e-01],\n",
      "       [-3.67264897e-01, -9.14107382e-01, -4.23780710e-01,\n",
      "        -2.32009247e-01, -9.08502340e-01, -5.91290882e-05,\n",
      "         8.51058543e-01, -1.21587574e+00],\n",
      "       [ 2.13262737e-01, -1.86642873e+00,  1.59701258e-01,\n",
      "        -1.58663496e-01,  4.26978207e+00,  4.53134673e-03,\n",
      "        -8.00495565e-01,  1.16570902e+00],\n",
      "       [-4.90821540e-01, -8.34747314e-01, -7.86329150e-01,\n",
      "        -2.36964852e-01, -4.46912616e-01, -1.29603982e-01,\n",
      "        -7.77234614e-01,  5.88956058e-01],\n",
      "       [-5.60677685e-02, -1.15218771e+00, -2.26435065e-02,\n",
      "         2.79834121e-01, -1.65318877e-01, -1.27646074e-01,\n",
      "        -2.23615587e-01, -6.04319036e-01],\n",
      "       [-7.13158250e-02,  3.55654359e-01, -4.80985120e-02,\n",
      "        -4.26627472e-02, -3.00515860e-01, -4.38370667e-02,\n",
      "        -5.02750814e-01,  7.18228936e-01],\n",
      "       [-6.28368735e-01,  1.86349642e+00, -2.53205121e-01,\n",
      "        -7.07956031e-02, -8.41303825e-01, -1.12164304e-01,\n",
      "         4.41658616e-01, -1.15621042e+00],\n",
      "       [-2.59637535e-01, -1.62834835e+00,  5.84736429e-02,\n",
      "         7.73095414e-02, -8.23704243e-01, -2.76801120e-02,\n",
      "         6.64967179e-01, -1.27008244e-01],\n",
      "       [-2.09544227e-01, -4.37946737e-01,  2.36342885e-02,\n",
      "        -2.78475791e-01, -3.44514877e-01,  1.62797458e-02,\n",
      "         1.49772322e+00, -8.47949386e-01],\n",
      "       [-1.10787106e+00,  1.17574021e-01, -6.12827241e-01,\n",
      "        -6.21337518e-02,  3.07470590e-01,  5.07168993e-02,\n",
      "        -7.91190863e-01,  6.98340476e-01],\n",
      "       [-1.22503507e+00,  1.96934134e-01, -3.71342391e-01,\n",
      "        -7.80095309e-02, -3.12515587e-01, -9.36420262e-02,\n",
      "         2.42352486e+00, -2.23513198e+00],\n",
      "       [-5.95304966e-01, -8.34747314e-01,  4.84315485e-01,\n",
      "         8.68995011e-01, -3.54914665e-01, -7.32634291e-02,\n",
      "         1.27906621e+00, -4.10411656e-01],\n",
      "       [-1.91728517e-01, -8.34747314e-01,  4.75046746e-02,\n",
      "        -8.71676952e-02, -4.69312102e-01, -1.70620736e-02,\n",
      "         1.89781845e+00, -1.12637973e+00],\n",
      "       [-5.28339148e-01, -1.99866414e-01, -2.89304823e-01,\n",
      "        -1.58051878e-01,  3.47469717e-01,  3.07353889e-03,\n",
      "        -8.74931753e-01,  8.32586408e-01],\n",
      "       [-4.17725116e-01, -1.07282758e+00, -1.62925929e-01,\n",
      "        -1.04939967e-01,  5.01866281e-01, -6.04005009e-02,\n",
      "         1.39537275e+00, -8.47949386e-01],\n",
      "       [ 7.08694398e-01,  3.55654359e-01,  3.22393961e-02,\n",
      "        -2.02390298e-01, -3.99713665e-01, -8.80106166e-03,\n",
      "        -6.84188962e-01,  5.09406149e-01],\n",
      "       [-1.11987054e+00, -7.55387187e-01, -1.56267490e-02,\n",
      "         3.50239314e-02, -8.70103180e-01, -3.15148495e-02,\n",
      "         2.22347736e+00, -3.80580902e-01],\n",
      "       [-1.19495821e+00,  1.62541604e+00, -3.26843083e-01,\n",
      "        -5.96805401e-02,  6.58759773e-02,  2.23283023e-02,\n",
      "         9.11538482e-01, -6.98788106e-01]], dtype=float32)>, <tf.Tensor: shape=(32, 1), dtype=float32, numpy=\n",
      "array([[2.865],\n",
      "       [2.962],\n",
      "       [2.139],\n",
      "       [1.327],\n",
      "       [1.557],\n",
      "       [1.836],\n",
      "       [2.667],\n",
      "       [1.091],\n",
      "       [2.188],\n",
      "       [2.222],\n",
      "       [1.148],\n",
      "       [1.345],\n",
      "       [2.781],\n",
      "       [2.438],\n",
      "       [2.024],\n",
      "       [1.563],\n",
      "       [1.387],\n",
      "       [2.763],\n",
      "       [3.362],\n",
      "       [1.114],\n",
      "       [2.346],\n",
      "       [0.807],\n",
      "       [0.993],\n",
      "       [1.813],\n",
      "       [0.741],\n",
      "       [0.919],\n",
      "       [1.183],\n",
      "       [1.843],\n",
      "       [1.198],\n",
      "       [2.092],\n",
      "       [0.7  ],\n",
      "       [0.809]], dtype=float32)>)\n"
     ]
    }
   ],
   "source": [
    "for value in train_data_final.take(1):\n",
    "    print(value)  ## first batch with 32 array each of 8 values for features, then 32 for target"
   ]
  },
  {
   "cell_type": "markdown",
   "id": "81be16ce",
   "metadata": {},
   "source": [
    "##### `Building the Model`"
   ]
  },
  {
   "cell_type": "code",
   "execution_count": 23,
   "id": "8cf76577",
   "metadata": {
    "collapsed": true
   },
   "outputs": [
    {
     "name": "stdout",
     "output_type": "stream",
     "text": [
      "Epoch 1/20\n",
      "104/104 [==============================] - 2s 8ms/step - loss: 1.0124 - mae: 0.6530 - val_loss: 0.6837 - val_mae: 0.5824\n",
      "Epoch 2/20\n",
      "104/104 [==============================] - 1s 7ms/step - loss: 0.5829 - mae: 0.5027 - val_loss: 0.4773 - val_mae: 0.4928\n",
      "Epoch 3/20\n",
      "104/104 [==============================] - 1s 7ms/step - loss: 0.4862 - mae: 0.4767 - val_loss: 0.4612 - val_mae: 0.4914\n",
      "Epoch 4/20\n",
      "104/104 [==============================] - 1s 6ms/step - loss: 0.4607 - mae: 0.4707 - val_loss: 0.4525 - val_mae: 0.4874\n",
      "Epoch 5/20\n",
      "104/104 [==============================] - 1s 7ms/step - loss: 0.4336 - mae: 0.4638 - val_loss: 0.4528 - val_mae: 0.4893\n",
      "Epoch 6/20\n",
      "104/104 [==============================] - 1s 7ms/step - loss: 0.4193 - mae: 0.4582 - val_loss: 0.5041 - val_mae: 0.4915\n",
      "Epoch 7/20\n",
      "104/104 [==============================] - 1s 6ms/step - loss: 0.4096 - mae: 0.4550 - val_loss: 0.4751 - val_mae: 0.4769\n",
      "Epoch 8/20\n",
      "104/104 [==============================] - 1s 7ms/step - loss: 0.4077 - mae: 0.4486 - val_loss: 0.4360 - val_mae: 0.4664\n",
      "Epoch 9/20\n",
      "104/104 [==============================] - 1s 6ms/step - loss: 0.3968 - mae: 0.4451 - val_loss: 0.4589 - val_mae: 0.4835\n",
      "Epoch 10/20\n",
      "104/104 [==============================] - 1s 7ms/step - loss: 0.3970 - mae: 0.4435 - val_loss: 0.4358 - val_mae: 0.4643\n",
      "Epoch 11/20\n",
      "104/104 [==============================] - 1s 7ms/step - loss: 0.3912 - mae: 0.4402 - val_loss: 0.4254 - val_mae: 0.4626\n",
      "Epoch 12/20\n",
      "104/104 [==============================] - 1s 7ms/step - loss: 0.3871 - mae: 0.4372 - val_loss: 0.4299 - val_mae: 0.4651\n",
      "Epoch 13/20\n",
      "104/104 [==============================] - 1s 7ms/step - loss: 0.3824 - mae: 0.4352 - val_loss: 0.4349 - val_mae: 0.4823\n",
      "Epoch 14/20\n",
      "104/104 [==============================] - 1s 6ms/step - loss: 0.3814 - mae: 0.4375 - val_loss: 0.4178 - val_mae: 0.4533\n",
      "Epoch 15/20\n",
      "104/104 [==============================] - 1s 7ms/step - loss: 0.3799 - mae: 0.4330 - val_loss: 0.4155 - val_mae: 0.4517\n",
      "Epoch 16/20\n",
      "104/104 [==============================] - 1s 7ms/step - loss: 0.3746 - mae: 0.4301 - val_loss: 0.4271 - val_mae: 0.4622\n",
      "Epoch 17/20\n",
      "104/104 [==============================] - 1s 6ms/step - loss: 0.3759 - mae: 0.4319 - val_loss: 0.4113 - val_mae: 0.4522\n",
      "Epoch 18/20\n",
      "104/104 [==============================] - 1s 6ms/step - loss: 0.3700 - mae: 0.4301 - val_loss: 0.4152 - val_mae: 0.4501\n",
      "Epoch 19/20\n",
      "104/104 [==============================] - 1s 6ms/step - loss: 0.3693 - mae: 0.4289 - val_loss: 0.4122 - val_mae: 0.4506\n",
      "Epoch 20/20\n",
      "104/104 [==============================] - 1s 6ms/step - loss: 0.3661 - mae: 0.4280 - val_loss: 0.4219 - val_mae: 0.4506\n"
     ]
    }
   ],
   "source": [
    "model = tf.keras.models.Sequential([\n",
    "    tf.keras.layers.Dense(16, activation='relu', input_shape=X_train.shape[1:]),\n",
    "    tf.keras.layers.Dense(1)\n",
    "])\n",
    "\n",
    "n_epochs = 20\n",
    "n_batch_size = 32\n",
    "s = n_epochs * len(X_train) // n_batch_size\n",
    "lr_exponen = tf.keras.optimizers.schedules.ExponentialDecay(initial_learning_rate=0.01, \n",
    "                                                            decay_steps=s,\n",
    "                                                            decay_rate=0.1)\n",
    "my_optimiz = tf.keras.optimizers.RMSprop(learning_rate=lr_exponen)\n",
    "model.compile(loss='mse', optimizer=my_optimiz, metrics=['mae'])\n",
    "\n",
    "early_stopp = tf.keras.callbacks.EarlyStopping(patience=5, restore_best_weights=True)\n",
    "\n",
    "\n",
    "history = model.fit(train_data_final, validation_data=valid_data_final, \n",
    "                    epochs=n_epochs, batch_size=n_batch_size, callbacks=[early_stopp])"
   ]
  },
  {
   "cell_type": "code",
   "execution_count": 28,
   "id": "4a9d8ae1",
   "metadata": {},
   "outputs": [
    {
     "data": {
      "image/png": "[encoded data removed]",
      "text/plain": [
       "<Figure size 864x288 with 1 Axes>"
      ]
     },
     "metadata": {
      "needs_background": "light"
     },
     "output_type": "display_data"
    }
   ],
   "source": [
    "pd.DataFrame(history.history).plot(figsize=(12, 4))\n",
    "plt.xlabel('Epochs', fontsize=14);"
   ]
  },
  {
   "cell_type": "code",
   "execution_count": 31,
   "id": "7bc38121",
   "metadata": {},
   "outputs": [
    {
     "name": "stdout",
     "output_type": "stream",
     "text": [
      "mse_test => 0.36749348044395447\n",
      "mae_test => 0.422836035490036\n"
     ]
    }
   ],
   "source": [
    "## evaluate this model\n",
    "mse_test, mae_test = model.evaluate(test_data_final, verbose=0)\n",
    "print('mse_test =>', mse_test)\n",
    "print('mae_test =>', mae_test)"
   ]
  },
  {
   "cell_type": "code",
   "execution_count": 43,
   "id": "0e0abd8a",
   "metadata": {
    "collapsed": true
   },
   "outputs": [
    {
     "data": {
      "text/plain": [
       "array([[3.3677921 ],\n",
       "       [1.3310635 ],\n",
       "       [1.872678  ],\n",
       "       [1.5208141 ],\n",
       "       [3.2843537 ],\n",
       "       [0.6505389 ],\n",
       "       [2.6353254 ],\n",
       "       [1.1508127 ],\n",
       "       [3.3986974 ],\n",
       "       [1.2798111 ],\n",
       "       [1.6578592 ],\n",
       "       [0.8442855 ],\n",
       "       [0.64515764],\n",
       "       [1.0092124 ],\n",
       "       [5.0035925 ],\n",
       "       [1.2079382 ],\n",
       "       [1.068916  ],\n",
       "       [0.872061  ],\n",
       "       [1.4522307 ],\n",
       "       [2.192949  ],\n",
       "       [1.3390065 ],\n",
       "       [2.6621919 ],\n",
       "       [1.9383812 ],\n",
       "       [2.7691536 ],\n",
       "       [0.82575536],\n",
       "       [3.3791819 ],\n",
       "       [2.440524  ],\n",
       "       [0.6170407 ],\n",
       "       [2.4356966 ],\n",
       "       [2.9775233 ],\n",
       "       [2.374599  ],\n",
       "       [1.5264574 ],\n",
       "       [0.6342253 ],\n",
       "       [3.0059605 ],\n",
       "       [2.8295536 ],\n",
       "       [3.5785856 ],\n",
       "       [2.0153074 ],\n",
       "       [0.85962033],\n",
       "       [2.0320902 ],\n",
       "       [1.471571  ],\n",
       "       [1.0308676 ],\n",
       "       [1.4101477 ],\n",
       "       [2.8237057 ],\n",
       "       [1.8492774 ],\n",
       "       [1.0060358 ],\n",
       "       [0.83715826],\n",
       "       [1.7229215 ],\n",
       "       [1.91502   ],\n",
       "       [2.8288293 ],\n",
       "       [2.048883  ],\n",
       "       [0.59608924],\n",
       "       [2.0651689 ],\n",
       "       [2.9241161 ],\n",
       "       [1.0045826 ],\n",
       "       [1.7666324 ],\n",
       "       [1.6949836 ],\n",
       "       [1.6106242 ],\n",
       "       [1.1316259 ],\n",
       "       [1.6611613 ],\n",
       "       [0.8132128 ],\n",
       "       [2.8314657 ],\n",
       "       [2.2249122 ],\n",
       "       [1.2203685 ],\n",
       "       [3.3886995 ],\n",
       "       [1.0501605 ],\n",
       "       [2.322194  ],\n",
       "       [0.607167  ],\n",
       "       [1.4811277 ],\n",
       "       [0.6486635 ],\n",
       "       [0.67050046],\n",
       "       [1.2519374 ],\n",
       "       [3.4690518 ],\n",
       "       [3.0027232 ],\n",
       "       [4.348344  ],\n",
       "       [0.6834106 ],\n",
       "       [1.8624198 ],\n",
       "       [1.9215633 ],\n",
       "       [1.8557644 ],\n",
       "       [2.058834  ],\n",
       "       [0.9507024 ],\n",
       "       [1.3590826 ],\n",
       "       [2.745667  ],\n",
       "       [2.3681464 ],\n",
       "       [0.8681989 ],\n",
       "       [1.9298209 ],\n",
       "       [2.0282965 ],\n",
       "       [2.1550899 ],\n",
       "       [0.8847643 ],\n",
       "       [1.1133673 ],\n",
       "       [2.3165774 ],\n",
       "       [4.0186524 ],\n",
       "       [4.2916856 ],\n",
       "       [3.1628394 ],\n",
       "       [2.2787843 ],\n",
       "       [1.5640123 ],\n",
       "       [2.1601157 ]], dtype=float32)"
      ]
     },
     "execution_count": 43,
     "metadata": {},
     "output_type": "execute_result"
    }
   ],
   "source": [
    "## evaluate on new dataset\n",
    "X_new = test_data_final.take(3).map(lambda x, y: x) ## take only the features\n",
    "y_preds = model.predict(X_new)\n",
    "y_preds"
   ]
  },
  {
   "cell_type": "code",
   "execution_count": 50,
   "id": "4072c2d9",
   "metadata": {},
   "outputs": [
    {
     "data": {
      "text/plain": [
       "(TensorShape([32, 8]), TensorShape([32, 1]))"
      ]
     },
     "execution_count": 50,
     "metadata": {},
     "output_type": "execute_result"
    }
   ],
   "source": [
    "X_new, y_new = list(test_data_final)[50]\n",
    "X_new.shape, y_new.shape   ## test again"
   ]
  },
  {
   "cell_type": "code",
   "execution_count": 59,
   "id": "1df72166",
   "metadata": {},
   "outputs": [
    {
     "name": "stdout",
     "output_type": "stream",
     "text": [
      "mse_batch50 => 0.2357958\n",
      "mae_batch50 => 0.373627\n"
     ]
    }
   ],
   "source": [
    "y_pred_vals = model.predict(X_new)\n",
    "mse_batch50 = tf.reduce_mean(tf.keras.metrics.mean_squared_error(y_new, y_pred_vals)).numpy()\n",
    "print('mse_batch50 =>', mse_batch50)\n",
    "mae_batch50 = tf.reduce_mean(tf.keras.metrics.mean_absolute_error(y_new, y_pred_vals)).numpy()\n",
    "print('mae_batch50 =>', mae_batch50)"
   ]
  },
  {
   "cell_type": "code",
   "execution_count": null,
   "id": "17429e23",
   "metadata": {},
   "outputs": [],
   "source": []
  }
 ],
 "metadata": {
  "kernelspec": {
   "display_name": "Python 3 (ipykernel)",
   "language": "python",
   "name": "python3"
  },
  "language_info": {
   "codemirror_mode": {
    "name": "ipython",
    "version": 3
   },
   "file_extension": ".py",
   "mimetype": "text/x-python",
   "name": "python",
   "nbconvert_exporter": "python",
   "pygments_lexer": "ipython3",
   "version": "3.8.8"
  }
 },
 "nbformat": 4,
 "nbformat_minor": 5
}
