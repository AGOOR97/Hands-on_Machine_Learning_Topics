{
 "cells": [
  {
   "cell_type": "code",
   "execution_count": 1,
   "id": "7237e24c",
   "metadata": {},
   "outputs": [],
   "source": [
    "# Most Important \n",
    "import numpy as np\n",
    "import pandas as pd\n",
    "import matplotlib.pyplot as plt\n",
    "%matplotlib inline\n",
    "import seaborn as sns\n",
    "from scipy import stats\n",
    "\n",
    "# other\n",
    "import missingno as msno\n",
    "import joblib\n",
    "import tarfile\n",
    "import os\n",
    "import urllib\n",
    "\n",
    "### Scikit-learn\n",
    "\n",
    "from sklearn import datasets\n",
    "from sklearn import utils\n",
    "\n",
    "# Metrics\n",
    "from sklearn.metrics import mean_squared_error, mean_squared_log_error\n",
    "from sklearn.metrics import accuracy_score, r2_score\n",
    "from sklearn.metrics import confusion_matrix, classification_report\n",
    "from sklearn.metrics import precision_score, recall_score\n",
    "from sklearn.metrics import roc_auc_score, roc_curve, precision_recall_curve\n",
    "\n",
    "# Preprocessing & Imputing\n",
    "from sklearn.preprocessing import StandardScaler, MinMaxScaler, LabelEncoder, OneHotEncoder\n",
    "from sklearn.preprocessing import PolynomialFeatures\n",
    "from sklearn.impute import SimpleImputer\n",
    "from sklearn.pipeline import Pipeline\n",
    "from sklearn.compose import ColumnTransformer\n",
    "\n",
    "# Validating and Tuning\n",
    "from sklearn.model_selection import train_test_split, StratifiedShuffleSplit\n",
    "from sklearn.model_selection import cross_val_score, cross_val_predict\n",
    "from sklearn.model_selection import GridSearchCV, RandomizedSearchCV\n",
    "\n",
    "# Algorithms\n",
    "import xgboost as xgb\n",
    "\n",
    "from sklearn.linear_model import LinearRegression, SGDClassifier, SGDRegressor\n",
    "from sklearn.linear_model import LogisticRegression\n",
    "from sklearn.neighbors import KNeighborsClassifier, KNeighborsRegressor\n",
    "from sklearn.tree import DecisionTreeClassifier, DecisionTreeRegressor\n",
    "from sklearn.svm import SVC, SVR\n",
    "\n",
    "from sklearn.ensemble import RandomForestClassifier, RandomForestRegressor\n",
    "from sklearn.ensemble import VotingClassifier, VotingRegressor\n",
    "from sklearn.ensemble import BaggingClassifier, BaggingRegressor\n",
    "from sklearn.ensemble import AdaBoostClassifier, AdaBoostRegressor\n",
    "from sklearn.ensemble import GradientBoostingClassifier, GradientBoostingRegressor"
   ]
  },
  {
   "cell_type": "markdown",
   "id": "84e759d4",
   "metadata": {},
   "source": [
    "## Voting Classifiers"
   ]
  },
  {
   "cell_type": "code",
   "execution_count": 2,
   "id": "f2f24c3f",
   "metadata": {},
   "outputs": [],
   "source": [
    "iris = datasets.load_iris()\n",
    "df_iris = pd.DataFrame(np.c_[iris.data, iris.target], columns=iris.feature_names+['target'])\n",
    "\n",
    "# shuffle the data\n",
    "df_iris = utils.shuffle(df_iris)\n",
    "\n",
    "X = df_iris.drop(columns=['target'], axis=1).astype(np.float64)\n",
    "y = df_iris['target'].astype(np.float64)\n"
   ]
  },
  {
   "cell_type": "code",
   "execution_count": 3,
   "id": "1a696031",
   "metadata": {},
   "outputs": [],
   "source": [
    "X_train, X_val, y_train, y_val = train_test_split(X, y, \n",
    "                                                  test_size=0.2, random_state=42, shuffle=True)"
   ]
  },
  {
   "cell_type": "code",
   "execution_count": 4,
   "id": "ffba54f3",
   "metadata": {},
   "outputs": [],
   "source": [
    "log_clf = LogisticRegression(max_iter=10000)\n",
    "forest_clf = RandomForestClassifier()\n",
    "svc_clf = SVC(probability=True, max_iter=10000)"
   ]
  },
  {
   "cell_type": "code",
   "execution_count": 5,
   "id": "d064b0c3",
   "metadata": {},
   "outputs": [
    {
     "data": {
      "text/plain": [
       "VotingClassifier(estimators=[('lr', LogisticRegression(max_iter=10000)),\n",
       "                             ('forest', RandomForestClassifier()),\n",
       "                             ('svc', SVC(max_iter=10000, probability=True))],\n",
       "                 n_jobs=-1, voting='soft')"
      ]
     },
     "execution_count": 5,
     "metadata": {},
     "output_type": "execute_result"
    }
   ],
   "source": [
    "vote_clf = VotingClassifier(estimators=[('lr', log_clf), \n",
    "                                        ('forest', forest_clf), \n",
    "                                        ('svc', svc_clf)], \n",
    "                            voting='soft', n_jobs=-1)   ## tou can try both (hard and soft voting)\n",
    "\n",
    "vote_clf.fit(X_train, y_train)"
   ]
  },
  {
   "cell_type": "code",
   "execution_count": 6,
   "id": "4a9cb2f7",
   "metadata": {
    "scrolled": true
   },
   "outputs": [
    {
     "name": "stdout",
     "output_type": "stream",
     "text": [
      "LogisticRegression 0.9333333333333333\n",
      "==============================\n",
      "RandomForestClassifier 0.9333333333333333\n",
      "==============================\n",
      "SVC 0.9\n",
      "==============================\n",
      "VotingClassifier 0.9\n",
      "==============================\n"
     ]
    }
   ],
   "source": [
    "classifiers = [log_clf, forest_clf, svc_clf, vote_clf]\n",
    "\n",
    "for alg in classifiers:\n",
    "    \n",
    "    alg.fit(X_train, y_train)\n",
    "    y_predict = alg.predict(X_val)\n",
    "    \n",
    "    print(alg.__class__.__name__, accuracy_score(y_val, y_predict))\n",
    "    print('==='*10)"
   ]
  },
  {
   "cell_type": "markdown",
   "id": "0db9e1fa",
   "metadata": {},
   "source": [
    "### Bagging and Pasing\n",
    "\n",
    "**Bagging is an ensemble Method stands for (BOOSTSTRAP AGGREGATION)**  <br />\n",
    "* Bagging is parallel method and with replacement in dataset <br />\n",
    "* Bagging is parallel method and without replacement in dataset for the same predictor\n",
    "\n",
    "* if you set (bootstrap=True => 'bagging' , bootstrap=False => 'pasting') "
   ]
  },
  {
   "cell_type": "markdown",
   "id": "83f9ece2",
   "metadata": {},
   "source": [
    "####  BaggingClassifier for DT or you cam use RandomForest\n",
    "* i will show both Methods"
   ]
  },
  {
   "cell_type": "markdown",
   "id": "e4325fab",
   "metadata": {},
   "source": [
    "#### 1. Bagging"
   ]
  },
  {
   "cell_type": "code",
   "execution_count": 7,
   "id": "873c3263",
   "metadata": {},
   "outputs": [
    {
     "name": "stdout",
     "output_type": "stream",
     "text": [
      "Out of bag scores => 0.9583333333333334\n",
      "score_bagging_testing => 0.9\n"
     ]
    }
   ],
   "source": [
    "## Bagging\n",
    "\n",
    "bag_clf = BaggingClassifier(base_estimator=DecisionTreeClassifier(max_depth=3),\n",
    "                            n_estimators=300, \n",
    "                            bootstrap=True, \n",
    "                            max_samples=1.0, n_jobs=-1, oob_score=True)  \n",
    "# max_samples=1.0 >> size of each = size of whole data\n",
    "## bootstrap and max_samples for instances\n",
    "## bootstrap_features and max_features are for features\n",
    "## you can make sampling subsets in both directions or both\n",
    "\n",
    "bag_clf.fit(X_train, y_train)\n",
    "\n",
    "## score of OOB (out of bag scores)\n",
    "print('Out of bag scores =>', bag_clf.oob_score_)\n",
    "\n",
    "## predcict and get the score\n",
    "y_pred_bag = bag_clf.predict(X_val)\n",
    "\n",
    "score_bagging = accuracy_score(y_val, y_pred_bag)\n",
    "print('score_bagging_testing =>', score_bagging)  \n",
    "\n",
    "### data is too small and it is very very simple (just for illustration)"
   ]
  },
  {
   "cell_type": "code",
   "execution_count": 8,
   "id": "4b42f928",
   "metadata": {},
   "outputs": [
    {
     "name": "stderr",
     "output_type": "stream",
     "text": [
      "C:\\Users\\moham\\anaconda3\\lib\\site-packages\\sklearn\\model_selection\\_search.py:918: UserWarning: One or more of the test scores are non-finite: [       nan        nan        nan 0.96666667 0.96666667 0.96666667]\n",
      "  warnings.warn(\n"
     ]
    },
    {
     "name": "stdout",
     "output_type": "stream",
     "text": [
      "score_bag_past => 0.9\n"
     ]
    }
   ],
   "source": [
    "### make grid search for both (bagging and pasting)\n",
    "\n",
    "\n",
    "best_params = {'bootstrap': [False, True], \n",
    "               'n_estimators': np.arange(200,500,100)}\n",
    "\n",
    "\n",
    "grid_search_bag_past = GridSearchCV(bag_clf, \n",
    "                                    param_grid=best_params, cv=5, \n",
    "                                    n_jobs=-1, scoring='accuracy')\n",
    "\n",
    "grid_search_bag_past.fit(X_train, y_train)\n",
    "\n",
    "\n",
    "## best model\n",
    "best_bag_past = grid_search_bag_past.best_estimator_\n",
    "\n",
    "print('score_bag_past =>', accuracy_score(y_val, best_bag_past.predict(X_val)))\n",
    "### data is too small and it is very very simple (just for illustration)"
   ]
  },
  {
   "cell_type": "markdown",
   "id": "758840e1",
   "metadata": {},
   "source": [
    "#### 1. RandomForest"
   ]
  },
  {
   "cell_type": "code",
   "execution_count": 9,
   "id": "4c9adbd8",
   "metadata": {},
   "outputs": [
    {
     "name": "stdout",
     "output_type": "stream",
     "text": [
      "score_forest => 0.9333333333333333\n",
      "bag_forest => 0.9333333333333333\n"
     ]
    }
   ],
   "source": [
    "#### forest\n",
    "\n",
    "rnd_clf = RandomForestClassifier(n_estimators=300, max_depth=3, n_jobs=-1)\n",
    "rnd_clf.fit(X_train, y_train)\n",
    "\n",
    "print('score_forest =>', accuracy_score(y_val, rnd_clf.predict(X_val)))\n",
    "### data is too small and it is very very simple (just for illustration)\n",
    "\n",
    "\n",
    "## get the same code of above RandomForest using BaggingClassifier\n",
    "\n",
    "bag_forest = BaggingClassifier(DecisionTreeClassifier(max_depth=3, splitter='random'), \n",
    "                               n_estimators=300,\n",
    "                               max_samples=1.0,  \n",
    "                               bootstrap=True, n_jobs=-1)\n",
    "\n",
    "## (max_samples=1.0) => should be float number (1.0 the same size of whole data)\n",
    "bag_forest.fit(X_train, y_train)\n",
    "\n",
    "print('bag_forest =>', accuracy_score(y_val, bag_forest.predict(X_val)))\n",
    "### data is too small and it is very very simple (just for illustration)\n",
    "\n"
   ]
  },
  {
   "cell_type": "markdown",
   "id": "08133289",
   "metadata": {},
   "source": [
    "#### Feature impoertances"
   ]
  },
  {
   "cell_type": "code",
   "execution_count": 10,
   "id": "f5a8f557",
   "metadata": {},
   "outputs": [
    {
     "name": "stdout",
     "output_type": "stream",
     "text": [
      "   index              Names  importances\n",
      "0      2  petal length (cm)     0.486378\n",
      "1      3   petal width (cm)     0.416757\n",
      "2      0  sepal length (cm)     0.083799\n",
      "3      1   sepal width (cm)     0.013065\n",
      "============================================================\n",
      "sepal length (cm) => 0.08379910887995216\n",
      "sepal width (cm) => 0.01306507819867732\n",
      "petal length (cm) => 0.48637833945828274\n",
      "petal width (cm) => 0.41675747346308784\n"
     ]
    }
   ],
   "source": [
    "col_names = list(X_train.columns)\n",
    "\n",
    "impotances = rnd_clf.feature_importances_\n",
    "\n",
    "df_importances = pd.DataFrame({'Names': col_names, 'importances':impotances})\n",
    "df_importances = df_importances.sort_values('importances', ascending=False).reset_index()\n",
    "\n",
    "print(df_importances)\n",
    "\n",
    "print('==='*20)\n",
    "################### Another Method ####################\n",
    "\n",
    "for name, score in zip(iris.feature_names, rnd_clf.feature_importances_):\n",
    "    print(name, '=>', score)"
   ]
  },
  {
   "cell_type": "code",
   "execution_count": null,
   "id": "595f382b",
   "metadata": {},
   "outputs": [],
   "source": []
  },
  {
   "cell_type": "markdown",
   "id": "a0812da1",
   "metadata": {},
   "source": [
    "### Boosting\n",
    "\n",
    "* Boosting is sequential method and with  <br />\n",
    "* some techniques of Boosting are (AdaBoost, GradientBoosting)\n",
    "     * AdaBoost tries to solve the missclassified instances sequentially by giving more weights to it and try to solve again and so on until estimating for all predictors\n",
    "     \n",
    "     * GradientBoosting tries to solve the residual errors of instances sequentially and the total prediction is the sum af all trials to solve this errors\n",
    "\n"
   ]
  },
  {
   "cell_type": "markdown",
   "id": "43198edb",
   "metadata": {},
   "source": [
    "### AdaBoost\n",
    "\n",
    "* scikit-learn uses a multiclass version of Adaboost called SAMME so use Algorithm (SAMME.R)\n",
    "* algorithm='SAMME.R' \n",
    "* learning_rate , which is used to get (predictor weights) , default=1.0\n"
   ]
  },
  {
   "cell_type": "code",
   "execution_count": 11,
   "id": "33874e55",
   "metadata": {},
   "outputs": [
    {
     "name": "stdout",
     "output_type": "stream",
     "text": [
      "ada_clf => 0.9\n"
     ]
    }
   ],
   "source": [
    "### AdaBoost Classifiers\n",
    "\n",
    "ada_clf = AdaBoostClassifier(DecisionTreeClassifier(max_depth=3), \n",
    "                             n_estimators=300, algorithm='SAMME.R', \n",
    "                             learning_rate=0.5)\n",
    "\n",
    "ada_clf.fit(X_train, y_train)\n",
    "\n",
    "print('ada_clf =>', accuracy_score(y_val, ada_clf.predict(X_val)))\n",
    "### data is too small and it is very very simple (just for illustration)"
   ]
  },
  {
   "cell_type": "code",
   "execution_count": null,
   "id": "059d08c5",
   "metadata": {},
   "outputs": [],
   "source": []
  },
  {
   "cell_type": "markdown",
   "id": "4533de5f",
   "metadata": {},
   "source": [
    "### GradientBoosting\n",
    "\n",
    "* GradientBoosting tries to solve the residual errors of instances sequentially and the total prediction is the sum af all trials to solve this errors\n",
    "\n",
    "* learning_rate here is used to sacle the contribution of each tree\n",
    "\n",
    "    * `if you think your Model is Overfitting , you can regularize the Model using learning_rate ` <br />\n",
    "    * ` this technique of Regularization is called (Shrinkage)`"
   ]
  },
  {
   "cell_type": "code",
   "execution_count": 12,
   "id": "645d105e",
   "metadata": {},
   "outputs": [],
   "source": [
    "X = 6 * np.random.rand(100, 1) - 3\n",
    "y = np.squeeze(0.5 * X**2 + X + 2 + np.random.rand(100, 1))"
   ]
  },
  {
   "cell_type": "markdown",
   "id": "2c59f3a0",
   "metadata": {},
   "source": [
    "#### Manually"
   ]
  },
  {
   "cell_type": "code",
   "execution_count": 13,
   "id": "3eebc184",
   "metadata": {},
   "outputs": [
    {
     "data": {
      "image/png": "[encoded data removed]",
      "text/plain": [
       "<Figure size 432x288 with 1 Axes>"
      ]
     },
     "metadata": {
      "needs_background": "light"
     },
     "output_type": "display_data"
    }
   ],
   "source": [
    "### try GradientBoosting Manually\n",
    "## Using Decision Trees\n",
    "\n",
    "tree_reg1 = DecisionTreeRegressor(max_depth=2)\n",
    "tree_reg1.fit(X, y)\n",
    "\n",
    "##\n",
    "\n",
    "y2 = y - tree_reg1.predict(X)\n",
    "tree_reg2 = DecisionTreeRegressor(max_depth=2)\n",
    "tree_reg2.fit(X, y2)\n",
    "\n",
    "### \n",
    "y3 = y2 - tree_reg2.predict(X)\n",
    "tree_reg3 = DecisionTreeRegressor(max_depth=2)\n",
    "tree_reg3.fit(X, y3)\n",
    "\n",
    "\n",
    "#### final Prediction\n",
    "X_new = np.linspace(-3,3,500).reshape(-1,1)\n",
    "y_pred_manually = sum(tree.predict(X_new) for tree in (tree_reg1, tree_reg2, tree_reg3))\n",
    "\n",
    "## Plotting\n",
    "plt.plot(X, y, 'r+', label='Xy values')\n",
    "plt.plot(X_new, y_pred_manually, linewidth=2, c='b', label='RL fitted')\n",
    "plt.title('GBRT manually')\n",
    "plt.xlabel('X')\n",
    "plt.ylabel('y')\n",
    "plt.legend();"
   ]
  },
  {
   "cell_type": "markdown",
   "id": "8c7105f4",
   "metadata": {},
   "source": [
    "#### Using GradientBoosting"
   ]
  },
  {
   "cell_type": "code",
   "execution_count": 14,
   "id": "e81d5f90",
   "metadata": {},
   "outputs": [
    {
     "data": {
      "image/png": "[encoded data removed]",
      "text/plain": [
       "<Figure size 432x288 with 1 Axes>"
      ]
     },
     "metadata": {
      "needs_background": "light"
     },
     "output_type": "display_data"
    }
   ],
   "source": [
    "### (n_estimators=3) just for example as i did above\n",
    "# if you think your Model is Overfitting , you can regularize the Model using learning_rate \n",
    "# this technique of Regularization is called (Shrinkage)\n",
    "\n",
    "gbrt = GradientBoostingRegressor( n_estimators=3, \n",
    "                                 learning_rate=1, random_state=42,loss='ls') \n",
    "## ls refers to leat squares\n",
    "\n",
    "gbrt.fit(X, y)\n",
    "\n",
    "#### final Prediction\n",
    "X_new = np.linspace(-3,3,500).reshape(-1,1)\n",
    "y_pred_gbrt = gbrt.predict(X_new)\n",
    "\n",
    "## Plotting\n",
    "plt.plot(X, y, 'r+', label='Xy values')\n",
    "plt.plot(X_new, y_pred_gbrt, linewidth=2, c='b', label='RL fitted')\n",
    "plt.title('GBRT API')\n",
    "plt.xlabel('X')\n",
    "plt.ylabel('y')\n",
    "plt.legend();"
   ]
  },
  {
   "cell_type": "markdown",
   "id": "2d925548",
   "metadata": {},
   "source": [
    "#### trade-off between (learning_rate & n_estimators)\n",
    "` Reducing of learning_rate requires incresing n_estimators, it will need more trees to fit`<br />\n",
    "\n",
    "\n",
    "` Low learning_rate >>> High n_estimators`  <br />\n",
    "` High learning_rate >>> Low n_estimators`"
   ]
  },
  {
   "cell_type": "code",
   "execution_count": 15,
   "id": "f4776ed8",
   "metadata": {},
   "outputs": [
    {
     "data": {
      "image/png": "[encoded data removed]",
      "text/plain": [
       "<Figure size 720x216 with 2 Axes>"
      ]
     },
     "metadata": {
      "needs_background": "light"
     },
     "output_type": "display_data"
    }
   ],
   "source": [
    "gbrt1 = GradientBoostingRegressor(n_estimators=100, learning_rate=0.1, criterion='mse')\n",
    "gbrt2 = GradientBoostingRegressor(n_estimators=3, learning_rate=1, criterion='mse')\n",
    "\n",
    "gbrt1.fit(X, y)\n",
    "gbrt2.fit(X, y)\n",
    "\n",
    "#### final Prediction\n",
    "X_new = np.linspace(-3,3,500).reshape(-1,1)\n",
    "y_pred_gbrt1 = gbrt1.predict(X_new)\n",
    "y_pred_gbrt2 = gbrt2.predict(X_new)\n",
    "\n",
    "\n",
    "### plotting\n",
    "\n",
    "fig, axes = plt.subplots(ncols=2, sharey=True, figsize=(10,3))\n",
    "\n",
    "plt.sca(axes[0])\n",
    "plt.plot(X, y, 'r+', label='Xy values')\n",
    "plt.plot(X_new, y_pred_gbrt1, linewidth=2, c='b', label='RL GBRT')\n",
    "plt.title(f'n_estimators={gbrt1.n_estimators_} ,eta ={gbrt1.learning_rate}')\n",
    "plt.xlabel('X')\n",
    "plt.ylabel('y')\n",
    "plt.legend()\n",
    "\n",
    "plt.sca(axes[1])\n",
    "plt.plot(X, y, 'r+', label='Xy values')\n",
    "plt.plot(X_new, y_pred_gbrt2, linewidth=2, c='b', label='RL GBRT')\n",
    "plt.title(f'n_estimators={gbrt2.n_estimators_} ,eta ={gbrt2.learning_rate}')\n",
    "plt.xlabel('X')\n",
    "plt.legend()\n",
    "plt.show()"
   ]
  },
  {
   "cell_type": "markdown",
   "id": "bf50d6bd",
   "metadata": {},
   "source": [
    "#### early stopping method \n",
    "\n",
    "`using (staged_predcit) Method for early stopping`"
   ]
  },
  {
   "cell_type": "code",
   "execution_count": 56,
   "id": "6ae4821c",
   "metadata": {},
   "outputs": [
    {
     "name": "stdout",
     "output_type": "stream",
     "text": [
      "errors shape = (n_estimators[1....150]) ===> 150\n",
      "n_best_estimator => 33\n"
     ]
    },
    {
     "data": {
      "image/png": "[encoded data removed]",
      "text/plain": [
       "<Figure size 432x288 with 1 Axes>"
      ]
     },
     "metadata": {
      "needs_background": "light"
     },
     "output_type": "display_data"
    }
   ],
   "source": [
    "### split the data\n",
    "X_train, X_val, y_train, y_val = train_test_split(X, y, \n",
    "                                                  test_size=0.2, \n",
    "                                                  random_state=42, shuffle=True)\n",
    "\n",
    "### for each n_estimators it will iterate from 1 to 150 and each time get the model fitted\n",
    "### and each time predict  get error and so on\n",
    "### you can get the argmin where the minimum is minmized as possible as it is before it returns up\n",
    "### get this index from n_estimators , then this n_estimators is the best \n",
    "### under other conditions of learning_rate and max_depth\n",
    "gbrt_new = GradientBoostingRegressor(n_estimators=150, learning_rate=1.0, max_depth=2)\n",
    "gbrt_new.fit(X_train, y_train)\n",
    "\n",
    "\n",
    "errors = [mean_squared_error(y_val, y_pred) for y_pred in gbrt_new.staged_predict(X_val)]\n",
    "\n",
    "print('errors shape = (n_estimators[1....150]) ===>', len(errors))\n",
    "\n",
    "### get argmin\n",
    "\n",
    "### increse one as n_estimators starts from 1 \n",
    "### and argmin starts from 0\n",
    "n_best_estimator = np.argmin(errors) + 1 \n",
    "print('n_best_estimator =>', n_best_estimator)\n",
    "\n",
    "\n",
    "\n",
    "### some plottings\n",
    "\n",
    "estimators = np.arange(1, 151)\n",
    "plt.plot(estimators, errors, 'b', label='Errors')\n",
    "\n",
    "plt.vlines(x=33, ymin=0.1, ymax=0.45, colors='gray', label='n_estimators=33')\n",
    "\n",
    "plt.xlabel('n_estimators')\n",
    "plt.ylabel('Error (MSE)')\n",
    "plt.legend()\n",
    "plt.show()\n"
   ]
  },
  {
   "cell_type": "code",
   "execution_count": 60,
   "id": "20d02370",
   "metadata": {},
   "outputs": [
    {
     "data": {
      "image/png": "[encoded data removed]",
      "text/plain": [
       "<Figure size 432x288 with 1 Axes>"
      ]
     },
     "metadata": {
      "needs_background": "light"
     },
     "output_type": "display_data"
    }
   ],
   "source": [
    "### modify the n_estimators to be 11\n",
    "\n",
    "gbrt_final = GradientBoostingRegressor(n_estimators=33, learning_rate=1.0, max_depth=2)\n",
    "gbrt_final.fit(X_train, y_train)\n",
    "\n",
    "#### final Prediction\n",
    "X_new = np.linspace(-3, 3, 500).reshape(-1,1)\n",
    "y_pred_final = gbrt_final.predict(X_new)\n",
    "\n",
    "plt.plot(X, y, 'r+', label='Xy values')\n",
    "plt.plot(X_new, y_pred_final, linewidth=2, c='b', label='RL GBRT')\n",
    "plt.text(-3, 6, 'Best Model', fontsize=20, c='g')\n",
    "plt.text(0, 7, 'AGOOR', fontsize=20, c='k')\n",
    "plt.title(f'n_estimators={gbrt_final.n_estimators_}, eta ={gbrt_final.learning_rate}')\n",
    "plt.xlabel('X', fontsize=12)\n",
    "plt.ylabel('y', fontsize=12)\n",
    "plt.legend()\n",
    "plt.show()"
   ]
  },
  {
   "cell_type": "code",
   "execution_count": null,
   "id": "c41a8d18",
   "metadata": {},
   "outputs": [],
   "source": []
  },
  {
   "cell_type": "markdown",
   "id": "9a739746",
   "metadata": {},
   "source": [
    "## XGBoost \n",
    "`Extreme Gradient Boosting`  <br />\n",
    "`XgBoost is very powerfull API and also offers several nice features such as (early stopping)`"
   ]
  },
  {
   "cell_type": "code",
   "execution_count": 22,
   "id": "d9188335",
   "metadata": {},
   "outputs": [],
   "source": [
    "xgb_reg = xgb.XGBRegressor()"
   ]
  },
  {
   "cell_type": "code",
   "execution_count": 26,
   "id": "35cd5a57",
   "metadata": {},
   "outputs": [
    {
     "data": {
      "text/plain": [
       "XGBRegressor(base_score=0.5, booster='gbtree', colsample_bylevel=1,\n",
       "             colsample_bynode=1, colsample_bytree=1, gamma=0, gpu_id=-1,\n",
       "             importance_type='gain', interaction_constraints='',\n",
       "             learning_rate=0.300000012, max_delta_step=0, max_depth=6,\n",
       "             min_child_weight=1, missing=nan, monotone_constraints='()',\n",
       "             n_estimators=100, n_jobs=8, num_parallel_tree=1, random_state=0,\n",
       "             reg_alpha=0, reg_lambda=1, scale_pos_weight=1, subsample=1,\n",
       "             tree_method='exact', validate_parameters=1, verbosity=None)"
      ]
     },
     "execution_count": 26,
     "metadata": {},
     "output_type": "execute_result"
    }
   ],
   "source": [
    "xgb_reg.fit(X_train, y_train)"
   ]
  },
  {
   "cell_type": "code",
   "execution_count": 27,
   "id": "3ee01da1",
   "metadata": {},
   "outputs": [
    {
     "name": "stdout",
     "output_type": "stream",
     "text": [
      "rmse_logError => 0.1129976878550634\n"
     ]
    }
   ],
   "source": [
    "rmse_logError = (mean_squared_log_error(y_val, xgb_reg.predict(X_val)))**0.5\n",
    "\n",
    "print('rmse_logError =>', rmse_logError)"
   ]
  },
  {
   "cell_type": "code",
   "execution_count": null,
   "id": "6aa27b38",
   "metadata": {},
   "outputs": [],
   "source": []
  },
  {
   "cell_type": "code",
   "execution_count": null,
   "id": "16756f9b",
   "metadata": {},
   "outputs": [],
   "source": []
  }
 ],
 "metadata": {
  "kernelspec": {
   "display_name": "Python 3",
   "language": "python",
   "name": "python3"
  },
  "language_info": {
   "codemirror_mode": {
    "name": "ipython",
    "version": 3
   },
   "file_extension": ".py",
   "mimetype": "text/x-python",
   "name": "python",
   "nbconvert_exporter": "python",
   "pygments_lexer": "ipython3",
   "version": "3.8.8"
  }
 },
 "nbformat": 4,
 "nbformat_minor": 5
}
