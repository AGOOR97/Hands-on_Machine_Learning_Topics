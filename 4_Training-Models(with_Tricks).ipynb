{
 "cells": [
  {
   "cell_type": "code",
   "execution_count": 1,
   "id": "d8bddd33",
   "metadata": {},
   "outputs": [],
   "source": [
    "# Most Important \n",
    "import numpy as np\n",
    "import pandas as pd\n",
    "import matplotlib.pyplot as plt\n",
    "%matplotlib inline\n",
    "import seaborn as sns\n",
    "from scipy import stats\n",
    "\n",
    "# other\n",
    "import missingno as msno\n",
    "import joblib\n",
    "import tarfile\n",
    "import os\n",
    "import urllib\n",
    "\n",
    "### Scikit-learn\n",
    "\n",
    "from sklearn import datasets\n",
    "\n",
    "# Metrics\n",
    "from sklearn.metrics import mean_squared_error, mean_squared_log_error\n",
    "from sklearn.metrics import accuracy_score, r2_score\n",
    "from sklearn.metrics import confusion_matrix, classification_report\n",
    "from sklearn.metrics import precision_score, recall_score\n",
    "from sklearn.metrics import roc_auc_score, roc_curve, precision_recall_curve\n",
    "\n",
    "# Preprocessing & Imputing\n",
    "from sklearn.preprocessing import StandardScaler, MinMaxScaler, LabelEncoder, OneHotEncoder\n",
    "from sklearn.preprocessing import PolynomialFeatures\n",
    "from sklearn.impute import SimpleImputer\n",
    "from sklearn.pipeline import Pipeline\n",
    "from sklearn.compose import ColumnTransformer\n",
    "\n",
    "# Validating and Tuning\n",
    "from sklearn.model_selection import train_test_split, StratifiedShuffleSplit\n",
    "from sklearn.model_selection import cross_val_score, cross_val_predict\n",
    "from sklearn.model_selection import GridSearchCV, RandomizedSearchCV\n",
    "\n",
    "# Algorithms\n",
    "import xgboost\n",
    "from sklearn.linear_model import LinearRegression, Ridge, Lasso, ElasticNet\n",
    "from sklearn.linear_model import SGDClassifier, SGDRegressor\n",
    "from sklearn.linear_model import LogisticRegression\n",
    "from sklearn.tree import DecisionTreeClassifier, DecisionTreeRegressor\n",
    "from sklearn.ensemble import RandomForestClassifier, RandomForestRegressor\n",
    "from sklearn.ensemble import VotingClassifier, VotingRegressor\n",
    "from sklearn.ensemble import BaggingClassifier, BaggingRegressor\n",
    "from sklearn.ensemble import AdaBoostClassifier, AdaBoostRegressor\n",
    "from sklearn.ensemble import GradientBoostingClassifier, GradientBoostingRegressor"
   ]
  },
  {
   "cell_type": "markdown",
   "id": "a3b55454",
   "metadata": {},
   "source": [
    "## Linear Regression using(Normal_eqn & G.D)"
   ]
  },
  {
   "cell_type": "markdown",
   "id": "689192f5",
   "metadata": {},
   "source": [
    "### Normal equation\n",
    "\n",
    "$$thetas = (X^{T}X)^{-1}X^{T}y$$"
   ]
  },
  {
   "cell_type": "code",
   "execution_count": 2,
   "id": "a063b766",
   "metadata": {},
   "outputs": [],
   "source": [
    "### Assume some data\n",
    "\n",
    "X = 2 * np.random.rand(100, 1)\n",
    "y = 4 + 3 * X + np.random.rand(100, 1)"
   ]
  },
  {
   "cell_type": "code",
   "execution_count": 3,
   "id": "3b3ad78b",
   "metadata": {},
   "outputs": [
    {
     "data": {
      "image/png": "[encoded data removed]",
      "text/plain": [
       "<Figure size 432x288 with 1 Axes>"
      ]
     },
     "metadata": {
      "needs_background": "light"
     },
     "output_type": "display_data"
    }
   ],
   "source": [
    "plt.plot(X, y, '.r')\n",
    "plt.xlabel('X')\n",
    "plt.ylabel('y')\n",
    "plt.show()"
   ]
  },
  {
   "cell_type": "code",
   "execution_count": 4,
   "id": "9287a595",
   "metadata": {},
   "outputs": [],
   "source": [
    "### conctenate a column of ones in X to be in place of X0\n",
    "\n",
    "X_new = np.insert(arr=X, values=1, obj=0, axis=1)"
   ]
  },
  {
   "cell_type": "code",
   "execution_count": 5,
   "id": "8bdd751c",
   "metadata": {},
   "outputs": [
    {
     "name": "stdout",
     "output_type": "stream",
     "text": [
      "thetas_normal => \n",
      " [[4.54872205]\n",
      " [2.94111301]]\n"
     ]
    }
   ],
   "source": [
    "# thetas = (X^{T}X)^{-1}X^{T}y\n",
    "\n",
    "thetas_normal = ((np.linalg.inv((X_new.T) @ X_new) @ X_new.T) @ y)\n",
    "print('thetas_normal => \\n', thetas_normal)"
   ]
  },
  {
   "cell_type": "code",
   "execution_count": 6,
   "id": "0e862fe8",
   "metadata": {},
   "outputs": [
    {
     "name": "stdout",
     "output_type": "stream",
     "text": [
      "y_predict_normal => \n",
      " [[ 4.54872205]\n",
      " [10.43094808]]\n",
      "========================================\n"
     ]
    },
    {
     "data": {
      "image/png": "[encoded data removed]",
      "text/plain": [
       "<Figure size 432x288 with 1 Axes>"
      ]
     },
     "metadata": {
      "needs_background": "light"
     },
     "output_type": "display_data"
    }
   ],
   "source": [
    "### Make prediction using this Method\n",
    "\n",
    "X_test = np.array([[0], [2]])\n",
    "X_test = np.insert(values=1, arr=X_test, axis=1, obj=0)  ## for x0\n",
    "\n",
    "y_predict_normal = X_test @ thetas_normal\n",
    "\n",
    "print('y_predict_normal => \\n', y_predict_normal)\n",
    "\n",
    "print('=='*20)\n",
    "\n",
    "plt.plot(X, y, '.r', label='main values')\n",
    "plt.plot(X_test[:,1], y_predict_normal, 'b-', label='RL')\n",
    "plt.xlabel('X')\n",
    "plt.ylabel('y')\n",
    "plt.legend()\n",
    "plt.show()"
   ]
  },
  {
   "cell_type": "markdown",
   "id": "48541609",
   "metadata": {},
   "source": [
    "### Notes:\n",
    "\n",
    "1. Linear Regression is based os least squares , which is implemented numpy\n",
    "2. this function computes using (Moore-Penroso inverse) from (np.linalg.pinv())\n",
    "3. this is also a technique of Factorization called (SVD *Singular Value Decomposition)\n",
    "4. and this method which is implemented in LinearRegression Alg."
   ]
  },
  {
   "cell_type": "code",
   "execution_count": 7,
   "id": "88a8566a",
   "metadata": {},
   "outputs": [
    {
     "data": {
      "text/plain": [
       "LinearRegression()"
      ]
     },
     "execution_count": 7,
     "metadata": {},
     "output_type": "execute_result"
    }
   ],
   "source": [
    "lin_reg = LinearRegression()\n",
    "lin_reg.fit(X, y)"
   ]
  },
  {
   "cell_type": "code",
   "execution_count": 8,
   "id": "2e61d792",
   "metadata": {},
   "outputs": [
    {
     "name": "stdout",
     "output_type": "stream",
     "text": [
      "y_pred_lin_reg => \n",
      " [[ 4.54872205]\n",
      " [10.43094808]]\n"
     ]
    }
   ],
   "source": [
    "y_pred_lin_reg = lin_reg.predict(X_test[:,1].reshape(2,1))\n",
    "print('y_pred_lin_reg => \\n', y_pred_lin_reg)"
   ]
  },
  {
   "cell_type": "code",
   "execution_count": 9,
   "id": "635b3381",
   "metadata": {},
   "outputs": [
    {
     "name": "stdout",
     "output_type": "stream",
     "text": [
      "out thetas implemented in Linear Regression => \n",
      " [[4.54872205]\n",
      " [2.94111301]]\n"
     ]
    }
   ],
   "source": [
    "### check thetas using (np.linalg.lstsq) (close enough to normal eqn)\n",
    "\n",
    "## first arary\n",
    "print('out thetas implemented in Linear Regression => \\n', np.linalg.lstsq(X_new, y, rcond=1e-6)[0])"
   ]
  },
  {
   "cell_type": "markdown",
   "id": "0da4aa82",
   "metadata": {},
   "source": [
    "### Gradient Descent \n",
    "\n",
    "using metric of (MSE)"
   ]
  },
  {
   "cell_type": "markdown",
   "id": "ea21a25d",
   "metadata": {},
   "source": [
    "#### Batch GD"
   ]
  },
  {
   "cell_type": "code",
   "execution_count": 10,
   "id": "85abc652",
   "metadata": {},
   "outputs": [
    {
     "data": {
      "text/plain": [
       "(100, 2)"
      ]
     },
     "execution_count": 10,
     "metadata": {},
     "output_type": "execute_result"
    }
   ],
   "source": [
    "X_new.shape"
   ]
  },
  {
   "cell_type": "code",
   "execution_count": 11,
   "id": "4ede948c",
   "metadata": {},
   "outputs": [
    {
     "data": {
      "text/plain": [
       "(100,)"
      ]
     },
     "execution_count": 11,
     "metadata": {},
     "output_type": "execute_result"
    }
   ],
   "source": [
    "y_new = np.squeeze(y)\n",
    "y_new.shape"
   ]
  },
  {
   "cell_type": "code",
   "execution_count": 12,
   "id": "2a6e1478",
   "metadata": {},
   "outputs": [],
   "source": [
    "thetas_batch = np.zeros(X_new.shape[1])"
   ]
  },
  {
   "cell_type": "code",
   "execution_count": 13,
   "id": "503649ec",
   "metadata": {},
   "outputs": [],
   "source": [
    "def batch_GD(X, y, theta_input, alfa, iters):\n",
    "    \n",
    "    cost_steps = np.zeros(iters)\n",
    "    theta_steps = np.zeros(iters*2).reshape(-1,2)\n",
    "    \n",
    "    for i in range(iters):\n",
    "        \n",
    "        h_theta = X @ theta_input\n",
    "        \n",
    "        loss = h_theta - y\n",
    "        \n",
    "        cost = np.sum(loss**2) / (2 * len(X))\n",
    "        \n",
    "        gradient = (X.T @ loss) / len(X)\n",
    "        \n",
    "        theta_input = theta_input - alfa * gradient\n",
    "        \n",
    "        \n",
    "        # append in array\n",
    "        theta_other = theta_input\n",
    "        cost_steps[i] = cost\n",
    "        theta_steps[i] = theta_other\n",
    "        \n",
    "    # return thetas final , thetas steps for each iteration , cost steps for each iteration\n",
    "    return theta_input, theta_steps, cost_steps"
   ]
  },
  {
   "cell_type": "code",
   "execution_count": 14,
   "id": "8f8b73dd",
   "metadata": {},
   "outputs": [
    {
     "name": "stdout",
     "output_type": "stream",
     "text": [
      "theta_final from batch GD => [4.54872186 2.94111318]\n"
     ]
    }
   ],
   "source": [
    "theta_final_batch, theta_steps, cost_steps = batch_GD(X_new, y_new, thetas_batch, 0.1, 1000)\n",
    "print('theta_final from batch GD =>', theta_final_batch)  ## at this eta (thetas are close enough)"
   ]
  },
  {
   "cell_type": "code",
   "execution_count": 15,
   "id": "14a87cbe",
   "metadata": {},
   "outputs": [
    {
     "name": "stdout",
     "output_type": "stream",
     "text": [
      "y_predict_batch => \n",
      " [ 4.54872186 10.43094822]\n"
     ]
    }
   ],
   "source": [
    "y_predict_batch = X_test @ theta_final_batch\n",
    "print('y_predict_batch => \\n', y_predict_batch)"
   ]
  },
  {
   "cell_type": "markdown",
   "id": "06bba8d1",
   "metadata": {},
   "source": [
    "#### Stochastic GD"
   ]
  },
  {
   "cell_type": "code",
   "execution_count": 16,
   "id": "d8089c21",
   "metadata": {},
   "outputs": [],
   "source": [
    "thetas_stochastic = np.zeros(X_new.shape[1])"
   ]
  },
  {
   "cell_type": "code",
   "execution_count": 17,
   "id": "cbbe86ec",
   "metadata": {},
   "outputs": [],
   "source": [
    "def stochastic_GD(X, y, thetas_stoch, alfa, epochs):\n",
    "    \n",
    "    cost_steps = np.zeros(epochs)\n",
    "    theta_steps = np.zeros(epochs*2).reshape(-1,2)\n",
    "    \n",
    "    # one Epoch = loop on all Dataset Rows\n",
    "    \n",
    "    for i in range(epochs):\n",
    "        \n",
    "        cost = 0\n",
    "        \n",
    "        for j in range(len(X)):\n",
    "            \n",
    "            X_j = X[j,:].reshape(1,-1)\n",
    "            h_theta = X_j @ thetas_stoch\n",
    "            loss = h_theta - y[j]\n",
    "            cost = np.sum(loss**2)\n",
    "            gradient = (X_j.T) @ loss\n",
    "            \n",
    "            thetas_stoch = thetas_stoch - alfa * gradient\n",
    "              \n",
    "            cost += cost\n",
    "            \n",
    "        # append each epoch\n",
    "        total_cost_each_epoch = cost / (2 * len(X))\n",
    "        \n",
    "        theta_tempor = thetas_stoch\n",
    "        cost_steps[i] = total_cost_each_epoch\n",
    "        theta_steps[i] = theta_tempor\n",
    "            \n",
    "    return thetas_stoch, theta_steps, cost_steps"
   ]
  },
  {
   "cell_type": "code",
   "execution_count": 18,
   "id": "67cb3d6a",
   "metadata": {},
   "outputs": [
    {
     "name": "stdout",
     "output_type": "stream",
     "text": [
      "thetas_stoch => [4.44569508 3.03743975]\n",
      "============================================================\n",
      "y_predict_stochastic => \n",
      " [ 4.44569508 10.52057458]\n"
     ]
    }
   ],
   "source": [
    "thetas_stoch, theta_steps, cost_steps = stochastic_GD(X_new, y_new, \n",
    "                                                      thetas_stochastic, alfa=0.1, epochs=50)\n",
    "\n",
    "print('thetas_stoch =>', thetas_stoch)\n",
    "\n",
    "print('==='*20)\n",
    "\n",
    "y_predict_stochastic = X_test @ thetas_stoch\n",
    "print('y_predict_stochastic => \\n', y_predict_stochastic)  ### close enough to above methods"
   ]
  },
  {
   "cell_type": "markdown",
   "id": "9e7b386a",
   "metadata": {},
   "source": [
    "#### Mini-Batch GD"
   ]
  },
  {
   "cell_type": "code",
   "execution_count": 19,
   "id": "9745e809",
   "metadata": {},
   "outputs": [],
   "source": [
    "thetas_miniBatch = np.zeros(X_new.shape[1])"
   ]
  },
  {
   "cell_type": "code",
   "execution_count": 20,
   "id": "f5a4dab5",
   "metadata": {},
   "outputs": [],
   "source": [
    "def mini_batch_GD(X, y, thetas_mini, alfa, epochs, batch_size):\n",
    "    \n",
    "    \n",
    "    cost_steps = np.zeros(epochs)\n",
    "    theta_steps = np.zeros(epochs*2).reshape(-1,2)\n",
    "    \n",
    "    num_batches = int(len(X) / batch_size)\n",
    "    \n",
    "  \n",
    "    for j in range(epochs):\n",
    "        \n",
    "        begin = 0\n",
    "        cost = 0\n",
    "        \n",
    "        for i in range(num_batches):\n",
    "            \n",
    "            X_batch = X[begin:begin+batch_size,:]\n",
    "            y_batch = y[begin:begin+batch_size]\n",
    "\n",
    "            h_theta = X_batch @ thetas_mini\n",
    "            loss = h_theta - y_batch\n",
    "            cost = np.sum(loss**2) / (2 * len(X_batch))\n",
    "            gradient = (X_batch.T @ loss) / len(X_batch)\n",
    "\n",
    "            thetas_mini = thetas_mini - alfa * gradient\n",
    "\n",
    "            begin+=batch_size\n",
    "            \n",
    "            cost+=cost\n",
    "        \n",
    "        \n",
    "        # append each epoch\n",
    "        total_cost_each_epoch = cost\n",
    "        \n",
    "        theta_tempor = thetas_mini\n",
    "        \n",
    "        cost_steps[j] = total_cost_each_epoch\n",
    "        theta_steps[j] = theta_tempor\n",
    "            \n",
    "        \n",
    "    return thetas_mini, theta_steps, cost_steps"
   ]
  },
  {
   "cell_type": "code",
   "execution_count": 21,
   "id": "8cd62baf",
   "metadata": {},
   "outputs": [
    {
     "name": "stdout",
     "output_type": "stream",
     "text": [
      "thetas_mini => [4.5277991  2.93466764]\n",
      "============================================================\n",
      "y_predict_miniBatch => \n",
      " [ 4.5277991  10.39713439]\n"
     ]
    }
   ],
   "source": [
    "thetas_mini, theta_steps, cost_steps = mini_batch_GD(\n",
    "                        X_new, y_new, thetas_miniBatch, alfa=0.1, epochs=50, batch_size=10)\n",
    "\n",
    "\n",
    "print('thetas_mini =>', thetas_mini)\n",
    "\n",
    "print('==='*20)\n",
    "\n",
    "y_predict_miniBatch = X_test @ thetas_mini\n",
    "print('y_predict_miniBatch => \\n', y_predict_miniBatch)  ### close enough to above methods"
   ]
  },
  {
   "cell_type": "code",
   "execution_count": null,
   "id": "ae12ff20",
   "metadata": {},
   "outputs": [],
   "source": []
  },
  {
   "cell_type": "markdown",
   "id": "d4478b44",
   "metadata": {},
   "source": [
    "## Polynomial Regression"
   ]
  },
  {
   "cell_type": "code",
   "execution_count": 22,
   "id": "6b71e277",
   "metadata": {},
   "outputs": [],
   "source": [
    "### New_data\n",
    "\n",
    "X = 6 * np.random.rand(100, 1) - 3\n",
    "y = 0.5 * X**2 + X + 2 + np.random.rand(100, 1)"
   ]
  },
  {
   "cell_type": "code",
   "execution_count": 23,
   "id": "f774484e",
   "metadata": {},
   "outputs": [
    {
     "data": {
      "image/png": "[encoded data removed]",
      "text/plain": [
       "<Figure size 432x288 with 1 Axes>"
      ]
     },
     "metadata": {
      "needs_background": "light"
     },
     "output_type": "display_data"
    }
   ],
   "source": [
    "plt.plot(X, y, '.r', label='Polynomial Values')\n",
    "plt.xlabel('X => Polynomial')\n",
    "plt.ylabel('y => Polynomial')\n",
    "plt.legend();"
   ]
  },
  {
   "cell_type": "code",
   "execution_count": 24,
   "id": "f6694120",
   "metadata": {},
   "outputs": [],
   "source": [
    "### make PolynomialFeatures\n",
    "\n",
    "poly_feat = PolynomialFeatures(degree=2, include_bias=False)  # no bias column for x0 (False)\n",
    "\n",
    "X_poly = poly_feat.fit_transform(X)"
   ]
  },
  {
   "cell_type": "code",
   "execution_count": 25,
   "id": "d458bc36",
   "metadata": {},
   "outputs": [
    {
     "data": {
      "text/plain": [
       "LinearRegression()"
      ]
     },
     "execution_count": 25,
     "metadata": {},
     "output_type": "execute_result"
    }
   ],
   "source": [
    "lin_reg_poly = LinearRegression()\n",
    "lin_reg_poly.fit(X_poly, y)"
   ]
  },
  {
   "cell_type": "code",
   "execution_count": 26,
   "id": "e7eaa9bc",
   "metadata": {},
   "outputs": [
    {
     "name": "stdout",
     "output_type": "stream",
     "text": [
      "score_lin_reg_poly =>  0.9859967354477344\n"
     ]
    }
   ],
   "source": [
    "score_lin_reg_poly = lin_reg_poly.score(X_poly, y)\n",
    "print('score_lin_reg_poly => ', score_lin_reg_poly)"
   ]
  },
  {
   "cell_type": "code",
   "execution_count": 27,
   "id": "d827cff7",
   "metadata": {},
   "outputs": [],
   "source": [
    "y_predict_poly = lin_reg_poly.predict(X_poly)"
   ]
  },
  {
   "cell_type": "code",
   "execution_count": 28,
   "id": "fe2aba15",
   "metadata": {},
   "outputs": [],
   "source": [
    "# Visualising the Polynomial Regression results (for higher resolution and smoother curve)"
   ]
  },
  {
   "cell_type": "code",
   "execution_count": 29,
   "id": "3cc80600",
   "metadata": {},
   "outputs": [],
   "source": [
    "## doing some tricks\n",
    "\n",
    "X_grid = np.arange(min(X), max(X)+0.2, 0.1)\n",
    "X_grid = X_grid.reshape(-1,1)\n",
    "\n",
    "X_grid_poly = poly_feat.fit_transform(X_grid)\n",
    "y_grid_poly = lin_reg_poly.predict(X_grid_poly)"
   ]
  },
  {
   "cell_type": "code",
   "execution_count": 30,
   "id": "50e7364b",
   "metadata": {},
   "outputs": [
    {
     "data": {
      "image/png": "[encoded data removed]",
      "text/plain": [
       "<Figure size 432x288 with 1 Axes>"
      ]
     },
     "metadata": {
      "needs_background": "light"
     },
     "output_type": "display_data"
    }
   ],
   "source": [
    "plt.plot(X_grid, y_grid_poly, 'b-', label='RL (2nd Degree)')\n",
    "plt.plot(X, y, '.r', label='Polynomial Values')\n",
    "plt.xlabel('X => Polynomial')\n",
    "plt.ylabel('y => Polynomial')\n",
    "plt.legend();"
   ]
  },
  {
   "cell_type": "markdown",
   "id": "f1ce8e5f",
   "metadata": {},
   "source": [
    "### Study the case of (trade-off between (bias & variance))"
   ]
  },
  {
   "cell_type": "code",
   "execution_count": 31,
   "id": "457e3185",
   "metadata": {},
   "outputs": [],
   "source": [
    "## get high bias by assuming simple Linear Regression with degree=1\n",
    "## get high variance by assuming complex Regression with degree=300"
   ]
  },
  {
   "cell_type": "code",
   "execution_count": 32,
   "id": "f52b9f55",
   "metadata": {},
   "outputs": [],
   "source": [
    "## degree = 1\n",
    "\n",
    "lin_reg_degree_1 = LinearRegression()\n",
    "lin_reg_degree_1.fit(X, y)\n",
    "\n",
    "y_predict_degree_1 = lin_reg_degree_1.predict(X)"
   ]
  },
  {
   "cell_type": "code",
   "execution_count": 33,
   "id": "ffd049bd",
   "metadata": {},
   "outputs": [
    {
     "data": {
      "image/png": "[encoded data removed]",
      "text/plain": [
       "<Figure size 432x288 with 1 Axes>"
      ]
     },
     "metadata": {
      "needs_background": "light"
     },
     "output_type": "display_data"
    }
   ],
   "source": [
    "plt.plot(X, y_predict_degree_1, 'g--', label='RL (1st Degree)')\n",
    "plt.plot(X_grid, y_grid_poly, 'b-', label='RL (2nd Degree)')\n",
    "plt.plot(X, y, '.r', label='Polynomial Values')\n",
    "plt.xlabel('X => Polynomial')\n",
    "plt.ylabel('y => Polynomial')\n",
    "plt.legend();"
   ]
  },
  {
   "cell_type": "code",
   "execution_count": null,
   "id": "5f7456d1",
   "metadata": {},
   "outputs": [],
   "source": []
  },
  {
   "cell_type": "markdown",
   "id": "cd39c270",
   "metadata": {},
   "source": [
    "### Study trade-off between Underfitting & Overfitting\n",
    "\n",
    "**for quadratic Data**  <br />\n",
    "Study when degree =  1 >>> simple model ... High bias and Low variance >> Underfitting\n",
    "Study when degree =  10 >>> compex model ... Low bias and High variance >> Overfitting\n"
   ]
  },
  {
   "cell_type": "code",
   "execution_count": 34,
   "id": "a2b8477f",
   "metadata": {},
   "outputs": [],
   "source": [
    "def plot_learning_curves(model, X, y):\n",
    "    ''' this function is used to plot (size of training Data vs. RMSE) sequentially \n",
    "    '''\n",
    "    train_errors = []\n",
    "    val_errors = []\n",
    "    \n",
    "    X_train, X_val, y_train, y_val = train_test_split(X, y, test_size=0.2, random_state=20)\n",
    "    \n",
    "    for i in range(1, len(X_train)):\n",
    "        model.fit(X_train[:i], y_train[:i])\n",
    "        y_train_predict = model.predict(X_train[:i])\n",
    "        \n",
    "        y_val_predict = model.predict(X_val[:i])\n",
    "        \n",
    "        train_errors.append(np.sqrt(mean_squared_error(y_train[:i], y_train_predict)))\n",
    "        val_errors.append(np.sqrt(mean_squared_error(y_val[:i], y_val_predict)))\n",
    "    \n",
    "    plt.plot(train_errors, 'b-+', label='train')\n",
    "    plt.plot(val_errors, 'r-', label='Val')\n",
    "    plt.xlabel('Size of instances')\n",
    "    plt.ylabel('RMSE')\n",
    "    plt.axis([0,80,0,3])\n",
    "    plt.legend()"
   ]
  },
  {
   "cell_type": "code",
   "execution_count": 35,
   "id": "6d55432c",
   "metadata": {},
   "outputs": [
    {
     "data": {
      "image/png": "[encoded data removed]",
      "text/plain": [
       "<Figure size 432x288 with 1 Axes>"
      ]
     },
     "metadata": {
      "needs_background": "light"
     },
     "output_type": "display_data"
    }
   ],
   "source": [
    "lin_reg_degree_1 = LinearRegression()\n",
    "\n",
    "## call the function\n",
    "plot_learning_curves(lin_reg_degree_1, X, y)"
   ]
  },
  {
   "cell_type": "code",
   "execution_count": 36,
   "id": "cd2d78d0",
   "metadata": {},
   "outputs": [
    {
     "data": {
      "image/png": "[encoded data removed]",
      "text/plain": [
       "<Figure size 432x288 with 1 Axes>"
      ]
     },
     "metadata": {
      "needs_background": "light"
     },
     "output_type": "display_data"
    }
   ],
   "source": [
    "### degree of 300 for (overfitting)\n",
    "\n",
    "poly_feat_300 = PolynomialFeatures(degree=300, include_bias=False)\n",
    "X_poly_300 = poly_feat_300.fit_transform(X)\n",
    "\n",
    "lin_reg_poly_300 = LinearRegression()\n",
    "\n",
    "## call the function  (overfitting)\n",
    "plot_learning_curves(lin_reg_poly_300, X_poly_300, y)"
   ]
  },
  {
   "cell_type": "code",
   "execution_count": null,
   "id": "29b663ef",
   "metadata": {},
   "outputs": [],
   "source": []
  },
  {
   "cell_type": "code",
   "execution_count": null,
   "id": "5fdc8b66",
   "metadata": {},
   "outputs": [],
   "source": []
  },
  {
   "cell_type": "markdown",
   "id": "2d10bc15",
   "metadata": {},
   "source": [
    "## Regularization\n",
    "\n",
    "Regularization is used to control overfitting and complexity of model\n",
    "1. Using Ridge or use SGD\n",
    "2. Using Lasso or use SGD\n",
    "3. Using Elastic Net"
   ]
  },
  {
   "cell_type": "code",
   "execution_count": 37,
   "id": "e5cb948e",
   "metadata": {},
   "outputs": [],
   "source": [
    "### New_data\n",
    "\n",
    "X = 2 * np.random.rand(100, 1)\n",
    "y = 4 + 3 * X + np.random.rand(100, 1)"
   ]
  },
  {
   "cell_type": "markdown",
   "id": "0609cd9f",
   "metadata": {},
   "source": [
    "#### First:  Ridge or Use SGD\n",
    "\n",
    "* based on L2 Norm \n",
    "* increasing of alpha ... reducing overfitting and reducing complexity of model \n",
    "* leading to higher bias and lower variance\n",
    "* High increase of alpha leads to Flat Line (Ver simple Model with High High bias)"
   ]
  },
  {
   "cell_type": "markdown",
   "id": "092fdf04",
   "metadata": {},
   "source": [
    "###### Ridge"
   ]
  },
  {
   "cell_type": "code",
   "execution_count": 38,
   "id": "adfc41a9",
   "metadata": {},
   "outputs": [
    {
     "data": {
      "image/png": "[encoded data removed]",
      "text/plain": [
       "<Figure size 432x288 with 1 Axes>"
      ]
     },
     "metadata": {
      "needs_background": "light"
     },
     "output_type": "display_data"
    }
   ],
   "source": [
    "### using Ridge with diffrent alphas(0, 10, 100)\n",
    "\n",
    "model_ridge_0 = Ridge(alpha=0)\n",
    "model_ridge_0.fit(X, y)\n",
    "y_predict_ridge_0 = model_ridge_0.predict(X)\n",
    "\n",
    "#######################################\n",
    "\n",
    "model_ridge_10 = Ridge(alpha=10)\n",
    "model_ridge_10.fit(X, y)\n",
    "y_predict_ridge_10 = model_ridge_10.predict(X)\n",
    "\n",
    "#######################################\n",
    "\n",
    "model_ridge_100 = Ridge(alpha=100)\n",
    "model_ridge_100.fit(X, y)\n",
    "y_predict_ridge_100 = model_ridge_100.predict(X)\n",
    "\n",
    "#######################################\n",
    "\n",
    "plt.plot(X, y, 'r.')\n",
    "plt.plot(X, y_predict_ridge_0, 'k--', label='alpha = 0')\n",
    "plt.plot(X, y_predict_ridge_10, 'b:', label='alpha = 10')\n",
    "plt.plot(X, y_predict_ridge_100, 'g-', label='alpha = 100')\n",
    "plt.xlabel('X values')\n",
    "plt.ylabel('y values')\n",
    "plt.legend();"
   ]
  },
  {
   "cell_type": "markdown",
   "id": "7cc4ba3c",
   "metadata": {},
   "source": [
    "##### SGDRegressor  (penalty='l2')\n"
   ]
  },
  {
   "cell_type": "code",
   "execution_count": 39,
   "id": "6d979bc9",
   "metadata": {},
   "outputs": [],
   "source": [
    "reg_sgd_0 = SGDRegressor(penalty='l2', alpha=0)\n",
    "reg_sgd_0.fit(X, np.squeeze(y))\n",
    "y_predict_sgd_0 = reg_sgd_0.predict(X)\n",
    "\n",
    "#######################################\n",
    "\n",
    "reg_sgd_10 = SGDRegressor(penalty='l2', alpha=10)\n",
    "reg_sgd_10.fit(X, np.squeeze(y))\n",
    "y_predict_sgd_10 = reg_sgd_10.predict(X)\n",
    "\n",
    "#######################################\n",
    "\n",
    "reg_sgd_100 = SGDRegressor(penalty='l2', alpha=100)\n",
    "reg_sgd_100.fit(X, np.squeeze(y))\n",
    "y_predict_sgd_100 = reg_sgd_100.predict(X)\n",
    "\n",
    "#######################################\n"
   ]
  },
  {
   "cell_type": "code",
   "execution_count": 40,
   "id": "7f166d61",
   "metadata": {},
   "outputs": [
    {
     "data": {
      "image/png": "[encoded data removed]",
      "text/plain": [
       "<Figure size 432x288 with 1 Axes>"
      ]
     },
     "metadata": {
      "needs_background": "light"
     },
     "output_type": "display_data"
    }
   ],
   "source": [
    "plt.plot(X, y, 'r.')\n",
    "plt.plot(X, y_predict_sgd_0, 'k--', label='alpha = 0')\n",
    "plt.plot(X, y_predict_sgd_10, 'b:', label='alpha = 10')\n",
    "plt.plot(X, y_predict_sgd_100, 'g-', label='alpha = 100')\n",
    "plt.xlabel('X values')\n",
    "plt.ylabel('y values')\n",
    "plt.legend();"
   ]
  },
  {
   "cell_type": "markdown",
   "id": "ad00f469",
   "metadata": {},
   "source": [
    "#### Second:  Lasso or Use SGD\n",
    "\n",
    "* based on L1 Norm \n",
    "* increasing of alpha ... reducing overfitting and reducing complexity of model \n",
    "* leading to higher bias and lower variance\n",
    "* High increase of alpha leads to Flat Line (Ver simple Model with High High bias)"
   ]
  },
  {
   "cell_type": "markdown",
   "id": "993c6880",
   "metadata": {},
   "source": [
    "##### Lasso"
   ]
  },
  {
   "cell_type": "code",
   "execution_count": 41,
   "id": "90111dfc",
   "metadata": {},
   "outputs": [
    {
     "data": {
      "image/png": "[encoded data removed]",
      "text/plain": [
       "<Figure size 432x288 with 1 Axes>"
      ]
     },
     "metadata": {
      "needs_background": "light"
     },
     "output_type": "display_data"
    }
   ],
   "source": [
    "### using Lasso with diffrent alphas(0.0001, 0.1, 1)\n",
    "\n",
    "model_lasso_0 = Lasso(alpha=0.0001)\n",
    "model_lasso_0.fit(X, y)\n",
    "y_predict_lasso_0 = model_lasso_0.predict(X)\n",
    "\n",
    "#######################################\n",
    "\n",
    "model_lasso_10 = Lasso(alpha=0.1)\n",
    "model_lasso_10.fit(X, y)\n",
    "y_predict_lasso_10 = model_lasso_10.predict(X)\n",
    "\n",
    "#######################################\n",
    "\n",
    "model_lasso_100 = Lasso(alpha=1)\n",
    "model_lasso_100.fit(X, y)\n",
    "y_predict_lasso_100 = model_lasso_100.predict(X)\n",
    "\n",
    "#######################################\n",
    "\n",
    "plt.plot(X, y, 'r.')\n",
    "plt.plot(X, y_predict_lasso_0, 'k--', label='alpha = 0.0001')\n",
    "plt.plot(X, y_predict_lasso_10, 'b:', label='alpha = 0.1')\n",
    "plt.plot(X, y_predict_lasso_100, 'g-', label='alpha = 1')\n",
    "plt.xlabel('X values')\n",
    "plt.ylabel('y values')\n",
    "plt.legend();"
   ]
  },
  {
   "cell_type": "markdown",
   "id": "52d76dfd",
   "metadata": {},
   "source": [
    "##### SGD (penalty='l1')"
   ]
  },
  {
   "cell_type": "code",
   "execution_count": 42,
   "id": "622e0e1d",
   "metadata": {},
   "outputs": [
    {
     "data": {
      "image/png": "[encoded data removed]",
      "text/plain": [
       "<Figure size 432x288 with 1 Axes>"
      ]
     },
     "metadata": {
      "needs_background": "light"
     },
     "output_type": "display_data"
    }
   ],
   "source": [
    "### using Lasso with diffrent alphas(0.0001, 0.1, 1)\n",
    "\n",
    "model_sgd_0 = SGDRegressor(alpha=0.0001, penalty='l1')\n",
    "model_sgd_0.fit(X, np.squeeze(y))\n",
    "y_predict_sgd_0 = model_sgd_0.predict(X)\n",
    "\n",
    "#######################################\n",
    "\n",
    "model_sgd_10 = SGDRegressor(alpha=0.1, penalty='l1')\n",
    "model_sgd_10.fit(X, np.squeeze(y))\n",
    "y_predict_lasso_10 = model_sgd_10.predict(X)\n",
    "\n",
    "#######################################\n",
    "\n",
    "model_sgd_100 = SGDRegressor(alpha=1, penalty='l1')\n",
    "model_sgd_100.fit(X, np.squeeze(y))\n",
    "y_predict_sgd_100 = model_sgd_100.predict(X)\n",
    "\n",
    "#######################################\n",
    "\n",
    "plt.plot(X, y, 'r.')\n",
    "plt.plot(X, y_predict_sgd_0, 'k--', label='alpha = 0.0001')\n",
    "plt.plot(X, y_predict_lasso_10, 'b:', label='alpha = 0.1')\n",
    "plt.plot(X, y_predict_sgd_100, 'g-', label='alpha = 1')\n",
    "plt.xlabel('X values')\n",
    "plt.ylabel('y values')\n",
    "plt.legend();"
   ]
  },
  {
   "cell_type": "markdown",
   "id": "eae27ca2",
   "metadata": {},
   "source": [
    "#### Third:  Elastic_Net or Use SGD\n",
    "\n",
    "* based on both L2 & L1 Norm with mix ratio (r)"
   ]
  },
  {
   "cell_type": "code",
   "execution_count": 43,
   "id": "e58e2abe",
   "metadata": {},
   "outputs": [
    {
     "data": {
      "text/plain": [
       "True"
      ]
     },
     "execution_count": 43,
     "metadata": {},
     "output_type": "execute_result"
    }
   ],
   "source": [
    "reg_elastic = ElasticNet(alpha=1.0, l1_ratio=0.5)\n",
    "reg_elastic.fit(X, y)\n",
    "\n",
    "y_predict_elastic = reg_elastic.predict(X)\n",
    "\n",
    "###########################################################################################\n",
    "\n",
    "# l1_ratio > only when penalty='elasticnet'\n",
    "reg_elastic_sgd = SGDRegressor(penalty='elasticnet', alpha=1.0, l1_ratio=0.5) \n",
    "reg_elastic_sgd.fit(X, np.squeeze(y))\n",
    "\n",
    "y_predict_elastic_sgd = reg_elastic_sgd.predict(X)\n",
    "\n",
    "###########################################################################################\n",
    "\n",
    "### check similarity for both above methods using Elastic Net technique for Regularization\n",
    "np.allclose(y_predict_elastic, y_predict_elastic_sgd, rtol=0.5)"
   ]
  },
  {
   "cell_type": "code",
   "execution_count": null,
   "id": "1e063137",
   "metadata": {},
   "outputs": [],
   "source": []
  },
  {
   "cell_type": "markdown",
   "id": "7e867b5a",
   "metadata": {},
   "source": [
    "### Some Notes about (Logistic Regression)"
   ]
  },
  {
   "cell_type": "code",
   "execution_count": 44,
   "id": "3ff8fcf4",
   "metadata": {},
   "outputs": [],
   "source": [
    "## load_iris_dataset\n",
    "\n",
    "iris = datasets.load_iris()"
   ]
  },
  {
   "cell_type": "code",
   "execution_count": 45,
   "id": "340976a2",
   "metadata": {},
   "outputs": [],
   "source": [
    "iris_df = pd.DataFrame(np.c_[iris.data, iris.target], columns=iris.feature_names+['target'])"
   ]
  },
  {
   "cell_type": "code",
   "execution_count": 46,
   "id": "0c143fec",
   "metadata": {},
   "outputs": [
    {
     "data": {
      "text/plain": [
       "Index(['sepal length (cm)', 'sepal width (cm)', 'petal length (cm)',\n",
       "       'petal width (cm)', 'target'],\n",
       "      dtype='object')"
      ]
     },
     "execution_count": 46,
     "metadata": {},
     "output_type": "execute_result"
    }
   ],
   "source": [
    "iris_df.columns"
   ]
  },
  {
   "cell_type": "code",
   "execution_count": 47,
   "id": "39a1cbda",
   "metadata": {},
   "outputs": [],
   "source": [
    "X = iris_df[['petal width (cm)']]\n",
    "y = (iris_df['target']==2) ## Binary classification (true for virginica else false)"
   ]
  },
  {
   "cell_type": "code",
   "execution_count": 59,
   "id": "08f137af",
   "metadata": {},
   "outputs": [
    {
     "data": {
      "image/png": "[encoded data removed]",
      "text/plain": [
       "<Figure size 432x288 with 1 Axes>"
      ]
     },
     "metadata": {
      "needs_background": "light"
     },
     "output_type": "display_data"
    }
   ],
   "source": [
    "### Define LogisticRegression Alg.\n",
    "### C & penalty are for regularization , but Note C is inverse of alpha\n",
    "### increasing C >> reducing Rgularizarion and vice versa\n",
    "\n",
    "log_reg = LogisticRegression(C=1.0, penalty='l2')\n",
    "log_reg.fit(X, y)\n",
    "\n",
    "### test new data\n",
    "X_new_test = np.linspace(0, 3, 100).reshape(-1, 1)\n",
    "\n",
    "## instead of predict use predict_proba\n",
    "y_pred_proba_logistic = log_reg.predict_proba(X_new_test)\n",
    "\n",
    "### plotting\n",
    "### When probabilty is greater than 0.5 >> iris Virginica,, else >> Not Virginica\n",
    "plt.plot(X_new_test, y_pred_proba_logistic[:,1], 'b-', label='Virginica, prob>0.5')\n",
    "plt.plot(X_new_test, y_pred_proba_logistic[:,0], 'k--', label='Not Virginica, prob<0.5')\n",
    "\n",
    "plt.axhline(y=0.5, color='y', linestyle='-.')\n",
    "plt.axvline(x=1.66666667, color='y', linestyle='-.')\n",
    "plt.xlabel('Petal Width')\n",
    "plt.ylabel('Probability')\n",
    "plt.title('Petal Width vs. Probability')\n",
    "plt.legend(loc='center left')\n",
    "plt.show()"
   ]
  },
  {
   "cell_type": "code",
   "execution_count": null,
   "id": "11274e39",
   "metadata": {},
   "outputs": [],
   "source": []
  },
  {
   "cell_type": "markdown",
   "id": "d36af2ef",
   "metadata": {},
   "source": [
    "### Try multi features with probabilities"
   ]
  },
  {
   "cell_type": "code",
   "execution_count": 60,
   "id": "c38cd5f0",
   "metadata": {},
   "outputs": [],
   "source": [
    "X_multi = iris_df[['petal length (cm)', 'petal width (cm)']]\n",
    "y_multi = (iris_df['target']==2) ## Binary classification (true for virginica else false)"
   ]
  },
  {
   "cell_type": "code",
   "execution_count": 61,
   "id": "c04a9534",
   "metadata": {},
   "outputs": [
    {
     "name": "stdout",
     "output_type": "stream",
     "text": [
      "idx prob = 0.5 => 70\n",
      "values petal (length & width) => 4.8 and 1.8\n",
      "============================================================\n",
      "idx prob = 0.9 => 100\n",
      "values petal (length & width) => 6.0 and 2.5\n",
      "============================================================\n",
      "idx prob = 0.15 => 50\n",
      "values petal (length & width) => 4.7 and 1.4\n"
     ]
    }
   ],
   "source": [
    "log_reg_2 = LogisticRegression(penalty='l2', C=1.0)\n",
    "log_reg_2.fit(X_multi, y_multi)\n",
    "outs = log_reg_2.predict_proba(X_multi)\n",
    "\n",
    "##########################################################\n",
    "idx_11 = np.argmax(outs[:,1]>0.5)\n",
    "print('idx prob = 0.5 =>', idx_11)\n",
    "print('values petal (length & width) =>', X_multi.iloc[idx_11][0],'and' , X_multi.iloc[idx_11][1])\n",
    "\n",
    "print('==='*20)\n",
    "##########################################################\n",
    "idx_22 = np.argmax(outs[:,1]>0.9)\n",
    "print('idx prob = 0.9 =>', idx_22)\n",
    "print('values petal (length & width) =>', X_multi.iloc[idx_22][0],'and' , X_multi.iloc[idx_22][1])\n",
    "\n",
    "print('==='*20)\n",
    "##########################################################\n",
    "idx_33 = np.argmax(outs[:,1]>0.15)\n",
    "print('idx prob = 0.15 =>', idx_33)\n",
    "print('values petal (length & width) =>', X_multi.iloc[idx_33][0],'and' , X_multi.iloc[idx_33][1])\n"
   ]
  },
  {
   "cell_type": "code",
   "execution_count": 62,
   "id": "d30434ef",
   "metadata": {},
   "outputs": [
    {
     "data": {
      "image/png": "[encoded data removed]",
      "text/plain": [
       "<Figure size 432x288 with 1 Axes>"
      ]
     },
     "metadata": {
      "needs_background": "light"
     },
     "output_type": "display_data"
    }
   ],
   "source": [
    "plt.plot(X_multi.iloc[:,0], X_multi.iloc[:,1], 'g.')\n",
    "########################################################\n",
    "v1 = [0, 4.8]\n",
    "h1 = [1.8, 0]\n",
    "plt.plot(v1, h1, 'r-', label='50% probabilty')\n",
    "########################################################\n",
    "v2 = [0, 6]\n",
    "h2 = [2.5, 0]\n",
    "plt.plot(v2, h2, 'b-', label='90% probabilty')\n",
    "########################################################\n",
    "v3 = [0, 4.7]\n",
    "h3 = [1.4, 0]\n",
    "plt.plot(v3, h3, 'k-', label='15% probabilty')\n",
    "\n",
    "\n",
    "########################################################\n",
    "plt.xlabel('petal length (cm)')\n",
    "plt.ylabel('petal width (cm)')\n",
    "plt.legend()\n",
    "plt.show()"
   ]
  },
  {
   "cell_type": "code",
   "execution_count": null,
   "id": "775fa411",
   "metadata": {},
   "outputs": [],
   "source": []
  },
  {
   "cell_type": "markdown",
   "id": "3aa5b40f",
   "metadata": {},
   "source": [
    "## Try multiclassification Using Softmax Regression\n",
    "\n",
    "**ordinary methods is to use (OVO or OVR)** <br />\n",
    "**but we ca use softmax regression to support multiclassifcation in LogisticRegression**"
   ]
  },
  {
   "cell_type": "code",
   "execution_count": 63,
   "id": "701c18e2",
   "metadata": {},
   "outputs": [],
   "source": [
    "X = iris_df.drop(columns=['target'], axis=1)\n",
    "y = iris_df['target'] ## multi_class classimulti_classfication"
   ]
  },
  {
   "cell_type": "code",
   "execution_count": 64,
   "id": "60c1b2d0",
   "metadata": {},
   "outputs": [],
   "source": [
    "multi_log_reg = LogisticRegression(multi_class='multinomial', solver='lbfgs', C=1.0, max_iter=1000)"
   ]
  },
  {
   "cell_type": "code",
   "execution_count": 65,
   "id": "cad1b882",
   "metadata": {},
   "outputs": [
    {
     "data": {
      "text/plain": [
       "LogisticRegression(max_iter=1000, multi_class='multinomial')"
      ]
     },
     "execution_count": 65,
     "metadata": {},
     "output_type": "execute_result"
    }
   ],
   "source": [
    "multi_log_reg.fit(X, y)"
   ]
  },
  {
   "cell_type": "markdown",
   "id": "f40ff962",
   "metadata": {},
   "source": [
    "#### predict"
   ]
  },
  {
   "cell_type": "code",
   "execution_count": 68,
   "id": "3f4dba9b",
   "metadata": {},
   "outputs": [],
   "source": [
    "y_predict_softmax = multi_log_reg.predict(X)"
   ]
  },
  {
   "cell_type": "markdown",
   "id": "e90c947e",
   "metadata": {},
   "source": [
    "### Accuracy Metrics"
   ]
  },
  {
   "cell_type": "code",
   "execution_count": 69,
   "id": "1daf5119",
   "metadata": {},
   "outputs": [
    {
     "name": "stdout",
     "output_type": "stream",
     "text": [
      "score_soft => 0.9733333333333334\n"
     ]
    }
   ],
   "source": [
    "score_soft = accuracy_score(y, y_predict_softmax)\n",
    "print('score_soft =>', score_soft)"
   ]
  },
  {
   "cell_type": "code",
   "execution_count": 70,
   "id": "ba0ba3c0",
   "metadata": {},
   "outputs": [
    {
     "name": "stdout",
     "output_type": "stream",
     "text": [
      "============================================================\n",
      "class_report => \n",
      "               precision    recall  f1-score   support\n",
      "\n",
      "         0.0       1.00      1.00      1.00        50\n",
      "         1.0       0.98      0.94      0.96        50\n",
      "         2.0       0.94      0.98      0.96        50\n",
      "\n",
      "    accuracy                           0.97       150\n",
      "   macro avg       0.97      0.97      0.97       150\n",
      "weighted avg       0.97      0.97      0.97       150\n",
      "\n",
      "============================================================\n"
     ]
    },
    {
     "data": {
      "image/png": "[encoded data removed]",
      "text/plain": [
       "<Figure size 432x432 with 1 Axes>"
      ]
     },
     "metadata": {
      "needs_background": "light"
     },
     "output_type": "display_data"
    }
   ],
   "source": [
    "### Plotting confusion matrix\n",
    "\n",
    "conf_matrix = confusion_matrix(y, y_predict_softmax)\n",
    "\n",
    "plt.figure(figsize=(6,6))\n",
    "sns.heatmap(conf_matrix, fmt='g', annot=True, cbar=False, vmin=0, cmap='Blues');\n",
    "\n",
    "print('==='*20)\n",
    "\n",
    "class_report = classification_report(y, y_predict_softmax)\n",
    "print('class_report => \\n', class_report) \n",
    "print('==='*20)"
   ]
  },
  {
   "cell_type": "markdown",
   "id": "729ca810",
   "metadata": {},
   "source": [
    "#### predict_proba"
   ]
  },
  {
   "cell_type": "code",
   "execution_count": 73,
   "id": "6636d60a",
   "metadata": {},
   "outputs": [],
   "source": [
    "y_predict_proba_softmax = multi_log_reg.predict_proba(X)"
   ]
  },
  {
   "cell_type": "code",
   "execution_count": 74,
   "id": "e9cb9cb1",
   "metadata": {},
   "outputs": [
    {
     "data": {
      "text/html": [
       "<div>\n",
       "<style scoped>\n",
       "    .dataframe tbody tr th:only-of-type {\n",
       "        vertical-align: middle;\n",
       "    }\n",
       "\n",
       "    .dataframe tbody tr th {\n",
       "        vertical-align: top;\n",
       "    }\n",
       "\n",
       "    .dataframe thead th {\n",
       "        text-align: right;\n",
       "    }\n",
       "</style>\n",
       "<table border=\"1\" class=\"dataframe\">\n",
       "  <thead>\n",
       "    <tr style=\"text-align: right;\">\n",
       "      <th></th>\n",
       "      <th>0</th>\n",
       "      <th>1</th>\n",
       "      <th>2</th>\n",
       "    </tr>\n",
       "  </thead>\n",
       "  <tbody>\n",
       "    <tr>\n",
       "      <th>0</th>\n",
       "      <td>0.981588</td>\n",
       "      <td>0.018411</td>\n",
       "      <td>1.451470e-08</td>\n",
       "    </tr>\n",
       "    <tr>\n",
       "      <th>1</th>\n",
       "      <td>0.971361</td>\n",
       "      <td>0.028639</td>\n",
       "      <td>3.021119e-08</td>\n",
       "    </tr>\n",
       "    <tr>\n",
       "      <th>2</th>\n",
       "      <td>0.985292</td>\n",
       "      <td>0.014708</td>\n",
       "      <td>1.234368e-08</td>\n",
       "    </tr>\n",
       "    <tr>\n",
       "      <th>3</th>\n",
       "      <td>0.976095</td>\n",
       "      <td>0.023905</td>\n",
       "      <td>3.971674e-08</td>\n",
       "    </tr>\n",
       "    <tr>\n",
       "      <th>4</th>\n",
       "      <td>0.985240</td>\n",
       "      <td>0.014760</td>\n",
       "      <td>1.201615e-08</td>\n",
       "    </tr>\n",
       "    <tr>\n",
       "      <th>...</th>\n",
       "      <td>...</td>\n",
       "      <td>...</td>\n",
       "      <td>...</td>\n",
       "    </tr>\n",
       "    <tr>\n",
       "      <th>145</th>\n",
       "      <td>0.000056</td>\n",
       "      <td>0.080103</td>\n",
       "      <td>9.198411e-01</td>\n",
       "    </tr>\n",
       "    <tr>\n",
       "      <th>146</th>\n",
       "      <td>0.000227</td>\n",
       "      <td>0.251900</td>\n",
       "      <td>7.478733e-01</td>\n",
       "    </tr>\n",
       "    <tr>\n",
       "      <th>147</th>\n",
       "      <td>0.000138</td>\n",
       "      <td>0.157120</td>\n",
       "      <td>8.427416e-01</td>\n",
       "    </tr>\n",
       "    <tr>\n",
       "      <th>148</th>\n",
       "      <td>0.000046</td>\n",
       "      <td>0.038421</td>\n",
       "      <td>9.615331e-01</td>\n",
       "    </tr>\n",
       "    <tr>\n",
       "      <th>149</th>\n",
       "      <td>0.000475</td>\n",
       "      <td>0.234852</td>\n",
       "      <td>7.646725e-01</td>\n",
       "    </tr>\n",
       "  </tbody>\n",
       "</table>\n",
       "<p>150 rows × 3 columns</p>\n",
       "</div>"
      ],
      "text/plain": [
       "            0         1             2\n",
       "0    0.981588  0.018411  1.451470e-08\n",
       "1    0.971361  0.028639  3.021119e-08\n",
       "2    0.985292  0.014708  1.234368e-08\n",
       "3    0.976095  0.023905  3.971674e-08\n",
       "4    0.985240  0.014760  1.201615e-08\n",
       "..        ...       ...           ...\n",
       "145  0.000056  0.080103  9.198411e-01\n",
       "146  0.000227  0.251900  7.478733e-01\n",
       "147  0.000138  0.157120  8.427416e-01\n",
       "148  0.000046  0.038421  9.615331e-01\n",
       "149  0.000475  0.234852  7.646725e-01\n",
       "\n",
       "[150 rows x 3 columns]"
      ]
     },
     "execution_count": 74,
     "metadata": {},
     "output_type": "execute_result"
    }
   ],
   "source": [
    "df_scores = pd.DataFrame(y_predict_proba_softmax)\n",
    "df_scores"
   ]
  },
  {
   "cell_type": "code",
   "execution_count": 79,
   "id": "c520c450",
   "metadata": {},
   "outputs": [
    {
     "data": {
      "image/png": "[encoded data removed]",
      "text/plain": [
       "<Figure size 720x576 with 1 Axes>"
      ]
     },
     "metadata": {
      "needs_background": "light"
     },
     "output_type": "display_data"
    }
   ],
   "source": [
    "### plotting roc_curve\n",
    "fpr_dict = {}\n",
    "tpr_dict = {}\n",
    "threshold_dict = {}\n",
    "\n",
    "for i in range(3):\n",
    "    fpr_dict[i], tpr_dict[i], threshold_dict[i] = roc_curve(y==i, df_scores.iloc[:,i])\n",
    "    \n",
    "##\n",
    "plt.figure(figsize=(10,8))\n",
    "colors = ['g','y','r']\n",
    "for i in range(3):\n",
    "    plt.plot(fpr_dict[i], tpr_dict[i], label=f'Class{i}', c=colors[i])\n",
    "    \n",
    "plt.xlabel('FPR (1-specificity)')\n",
    "plt.ylabel('TPR (recall)')\n",
    "plt.title('ROC Curve (FPR Vs. TPR)')\n",
    "plt.legend()\n",
    "plt.show()"
   ]
  },
  {
   "cell_type": "code",
   "execution_count": 80,
   "id": "10adfadb",
   "metadata": {},
   "outputs": [
    {
     "name": "stdout",
     "output_type": "stream",
     "text": [
      "auc_total => 0.9983333333333334\n"
     ]
    }
   ],
   "source": [
    "auc_total = roc_auc_score(y, df_scores, multi_class='ovr')\n",
    "print('auc_total =>', auc_total)"
   ]
  },
  {
   "cell_type": "code",
   "execution_count": null,
   "id": "9ef734d6",
   "metadata": {},
   "outputs": [],
   "source": []
  },
  {
   "cell_type": "code",
   "execution_count": null,
   "id": "ee3c5226",
   "metadata": {},
   "outputs": [],
   "source": []
  },
  {
   "cell_type": "code",
   "execution_count": null,
   "id": "23d6bc97",
   "metadata": {},
   "outputs": [],
   "source": []
  }
 ],
 "metadata": {
  "kernelspec": {
   "display_name": "Python 3",
   "language": "python",
   "name": "python3"
  },
  "language_info": {
   "codemirror_mode": {
    "name": "ipython",
    "version": 3
   },
   "file_extension": ".py",
   "mimetype": "text/x-python",
   "name": "python",
   "nbconvert_exporter": "python",
   "pygments_lexer": "ipython3",
   "version": "3.8.8"
  }
 },
 "nbformat": 4,
 "nbformat_minor": 5
}
